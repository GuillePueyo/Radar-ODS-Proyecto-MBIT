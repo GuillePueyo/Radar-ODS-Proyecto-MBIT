{
 "cells": [
  {
   "cell_type": "code",
   "execution_count": 1,
   "metadata": {},
   "outputs": [],
   "source": [
    "import pandas as pd\n",
    "\n",
    "contenidos = pd.read_excel(\"contenidos y etiquetas_PRUEBA CON 200 REGISTROS.xlsx\")"
   ]
  },
  {
   "cell_type": "code",
   "execution_count": 2,
   "metadata": {},
   "outputs": [
    {
     "data": {
      "text/html": [
       "<div>\n",
       "<style scoped>\n",
       "    .dataframe tbody tr th:only-of-type {\n",
       "        vertical-align: middle;\n",
       "    }\n",
       "\n",
       "    .dataframe tbody tr th {\n",
       "        vertical-align: top;\n",
       "    }\n",
       "\n",
       "    .dataframe thead th {\n",
       "        text-align: right;\n",
       "    }\n",
       "</style>\n",
       "<table border=\"1\" class=\"dataframe\">\n",
       "  <thead>\n",
       "    <tr style=\"text-align: right;\">\n",
       "      <th></th>\n",
       "      <th>title</th>\n",
       "      <th>description</th>\n",
       "      <th>Etiqueta</th>\n",
       "      <th>Etiqueta2</th>\n",
       "      <th>Etiqueta3</th>\n",
       "    </tr>\n",
       "  </thead>\n",
       "  <tbody>\n",
       "    <tr>\n",
       "      <th>0</th>\n",
       "      <td>erradicar la pobreza extrema para todas las pe...</td>\n",
       "      <td>erradicar la pobreza extrema para todas las pe...</td>\n",
       "      <td>ODS1</td>\n",
       "      <td>[ODS1]</td>\n",
       "      <td>ODS3</td>\n",
       "    </tr>\n",
       "    <tr>\n",
       "      <th>1</th>\n",
       "      <td>reducir al menos a la mitad la proporción de h...</td>\n",
       "      <td>reducir al menos a la mitad la proporción de h...</td>\n",
       "      <td>ODS1</td>\n",
       "      <td>[ODS1]</td>\n",
       "      <td>ODS11</td>\n",
       "    </tr>\n",
       "    <tr>\n",
       "      <th>2</th>\n",
       "      <td>garantizar que todos los hombres y mujeres, en...</td>\n",
       "      <td>garantizar que todos los hombres y mujeres, en...</td>\n",
       "      <td>ODS1</td>\n",
       "      <td>[ODS1]</td>\n",
       "      <td>ODS11</td>\n",
       "    </tr>\n",
       "    <tr>\n",
       "      <th>3</th>\n",
       "      <td>omentar la resiliencia de los pobres y las per...</td>\n",
       "      <td>omentar la resiliencia de los pobres y las per...</td>\n",
       "      <td>ODS1</td>\n",
       "      <td>[ODS1]</td>\n",
       "      <td>ODS3  ODS16</td>\n",
       "    </tr>\n",
       "    <tr>\n",
       "      <th>4</th>\n",
       "      <td>reducir su exposición y vulnerabilidad a los f...</td>\n",
       "      <td>reducir su exposición y vulnerabilidad a los f...</td>\n",
       "      <td>ODS1</td>\n",
       "      <td>[ODS1]</td>\n",
       "      <td>ODS5  ODS10</td>\n",
       "    </tr>\n",
       "  </tbody>\n",
       "</table>\n",
       "</div>"
      ],
      "text/plain": [
       "                                               title  \\\n",
       "0  erradicar la pobreza extrema para todas las pe...   \n",
       "1  reducir al menos a la mitad la proporción de h...   \n",
       "2  garantizar que todos los hombres y mujeres, en...   \n",
       "3  omentar la resiliencia de los pobres y las per...   \n",
       "4  reducir su exposición y vulnerabilidad a los f...   \n",
       "\n",
       "                                         description Etiqueta Etiqueta2  \\\n",
       "0  erradicar la pobreza extrema para todas las pe...     ODS1    [ODS1]   \n",
       "1  reducir al menos a la mitad la proporción de h...     ODS1    [ODS1]   \n",
       "2  garantizar que todos los hombres y mujeres, en...     ODS1    [ODS1]   \n",
       "3  omentar la resiliencia de los pobres y las per...     ODS1    [ODS1]   \n",
       "4  reducir su exposición y vulnerabilidad a los f...     ODS1    [ODS1]   \n",
       "\n",
       "     Etiqueta3  \n",
       "0         ODS3  \n",
       "1        ODS11  \n",
       "2        ODS11  \n",
       "3  ODS3  ODS16  \n",
       "4  ODS5  ODS10  "
      ]
     },
     "execution_count": 2,
     "metadata": {},
     "output_type": "execute_result"
    }
   ],
   "source": [
    "contenidos.head()"
   ]
  },
  {
   "cell_type": "code",
   "execution_count": 3,
   "metadata": {},
   "outputs": [],
   "source": [
    "# Vamos a intentar trducir el texto del catalán a español\n",
    "# Importamos el paquete de Google Translate para traducir\n",
    "\n",
    "from googletrans import Translator\n",
    "translator = Translator()"
   ]
  },
  {
   "cell_type": "code",
   "execution_count": 19,
   "metadata": {},
   "outputs": [
    {
     "data": {
      "text/html": [
       "<div>\n",
       "<style scoped>\n",
       "    .dataframe tbody tr th:only-of-type {\n",
       "        vertical-align: middle;\n",
       "    }\n",
       "\n",
       "    .dataframe tbody tr th {\n",
       "        vertical-align: top;\n",
       "    }\n",
       "\n",
       "    .dataframe thead th {\n",
       "        text-align: right;\n",
       "    }\n",
       "</style>\n",
       "<table border=\"1\" class=\"dataframe\">\n",
       "  <thead>\n",
       "    <tr style=\"text-align: right;\">\n",
       "      <th></th>\n",
       "      <th>title</th>\n",
       "      <th>description</th>\n",
       "      <th>Etiqueta</th>\n",
       "      <th>descripcion_nueva</th>\n",
       "    </tr>\n",
       "  </thead>\n",
       "  <tbody>\n",
       "    <tr>\n",
       "      <th>0</th>\n",
       "      <td>Diferència entre publicar idea, iniciativa o e...</td>\n",
       "      <td>Idea: Una llavor de canvi. La idea pot ser qua...</td>\n",
       "      <td>ODS4</td>\n",
       "      <td>Idea: Una llavor de canvi. La idea pot ser qua...</td>\n",
       "    </tr>\n",
       "    <tr>\n",
       "      <th>1</th>\n",
       "      <td>Publica una idea, sembra una llavor</td>\n",
       "      <td>El detall més simple pot ser motor de canvi. D...</td>\n",
       "      <td>ODS3</td>\n",
       "      <td>El detall més simple pot ser motor de canvi. D...</td>\n",
       "    </tr>\n",
       "    <tr>\n",
       "      <th>2</th>\n",
       "      <td>Publica una iniciativa: ets el primer brot</td>\n",
       "      <td>Si has tingut una idea i la vols fer realitat ...</td>\n",
       "      <td>ODS11</td>\n",
       "      <td>Si has tingut una idea i la vols fer realitat ...</td>\n",
       "    </tr>\n",
       "    <tr>\n",
       "      <th>3</th>\n",
       "      <td>Publica un esdeveniment: comenceu a recollir e...</td>\n",
       "      <td>Tant si ets una entitat (associació, ONG, come...</td>\n",
       "      <td>ODS11</td>\n",
       "      <td>Tant si ets una entitat (associació, ONG, come...</td>\n",
       "    </tr>\n",
       "    <tr>\n",
       "      <th>4</th>\n",
       "      <td>Puede que cuando menos pienses, brote lo mejor...</td>\n",
       "      <td>Existe una creencia popular de que cuando las ...</td>\n",
       "      <td>ODS3, ODS16</td>\n",
       "      <td>Existe una creencia popular de que cuando las ...</td>\n",
       "    </tr>\n",
       "  </tbody>\n",
       "</table>\n",
       "</div>"
      ],
      "text/plain": [
       "                                               title  \\\n",
       "0  Diferència entre publicar idea, iniciativa o e...   \n",
       "1                Publica una idea, sembra una llavor   \n",
       "2         Publica una iniciativa: ets el primer brot   \n",
       "3  Publica un esdeveniment: comenceu a recollir e...   \n",
       "4  Puede que cuando menos pienses, brote lo mejor...   \n",
       "\n",
       "                                         description     Etiqueta  \\\n",
       "0  Idea: Una llavor de canvi. La idea pot ser qua...         ODS4   \n",
       "1  El detall més simple pot ser motor de canvi. D...         ODS3   \n",
       "2  Si has tingut una idea i la vols fer realitat ...        ODS11   \n",
       "3  Tant si ets una entitat (associació, ONG, come...        ODS11   \n",
       "4  Existe una creencia popular de que cuando las ...  ODS3, ODS16   \n",
       "\n",
       "                                   descripcion_nueva  \n",
       "0  Idea: Una llavor de canvi. La idea pot ser qua...  \n",
       "1  El detall més simple pot ser motor de canvi. D...  \n",
       "2  Si has tingut una idea i la vols fer realitat ...  \n",
       "3  Tant si ets una entitat (associació, ONG, come...  \n",
       "4  Existe una creencia popular de que cuando las ...  "
      ]
     },
     "execution_count": 19,
     "metadata": {},
     "output_type": "execute_result"
    }
   ],
   "source": [
    "contenidos.head()"
   ]
  },
  {
   "cell_type": "code",
   "execution_count": 3,
   "metadata": {},
   "outputs": [],
   "source": [
    "contenidos[\"descripcion_nueva\"] = contenidos[\"description\"].astype(str)"
   ]
  },
  {
   "cell_type": "code",
   "execution_count": 4,
   "metadata": {},
   "outputs": [
    {
     "data": {
      "text/html": [
       "<div>\n",
       "<style scoped>\n",
       "    .dataframe tbody tr th:only-of-type {\n",
       "        vertical-align: middle;\n",
       "    }\n",
       "\n",
       "    .dataframe tbody tr th {\n",
       "        vertical-align: top;\n",
       "    }\n",
       "\n",
       "    .dataframe thead th {\n",
       "        text-align: right;\n",
       "    }\n",
       "</style>\n",
       "<table border=\"1\" class=\"dataframe\">\n",
       "  <thead>\n",
       "    <tr style=\"text-align: right;\">\n",
       "      <th></th>\n",
       "      <th>title</th>\n",
       "      <th>description</th>\n",
       "      <th>Etiqueta</th>\n",
       "      <th>Etiqueta2</th>\n",
       "      <th>Etiqueta3</th>\n",
       "      <th>descripcion_nueva</th>\n",
       "    </tr>\n",
       "  </thead>\n",
       "  <tbody>\n",
       "    <tr>\n",
       "      <th>0</th>\n",
       "      <td>erradicar la pobreza extrema para todas las pe...</td>\n",
       "      <td>erradicar la pobreza extrema para todas las pe...</td>\n",
       "      <td>ODS1</td>\n",
       "      <td>[ODS1]</td>\n",
       "      <td>ODS3</td>\n",
       "      <td>erradicar la pobreza extrema para todas las pe...</td>\n",
       "    </tr>\n",
       "    <tr>\n",
       "      <th>1</th>\n",
       "      <td>reducir al menos a la mitad la proporción de h...</td>\n",
       "      <td>reducir al menos a la mitad la proporción de h...</td>\n",
       "      <td>ODS1</td>\n",
       "      <td>[ODS1]</td>\n",
       "      <td>ODS11</td>\n",
       "      <td>reducir al menos a la mitad la proporción de h...</td>\n",
       "    </tr>\n",
       "    <tr>\n",
       "      <th>2</th>\n",
       "      <td>garantizar que todos los hombres y mujeres, en...</td>\n",
       "      <td>garantizar que todos los hombres y mujeres, en...</td>\n",
       "      <td>ODS1</td>\n",
       "      <td>[ODS1]</td>\n",
       "      <td>ODS11</td>\n",
       "      <td>garantizar que todos los hombres y mujeres, en...</td>\n",
       "    </tr>\n",
       "    <tr>\n",
       "      <th>3</th>\n",
       "      <td>omentar la resiliencia de los pobres y las per...</td>\n",
       "      <td>omentar la resiliencia de los pobres y las per...</td>\n",
       "      <td>ODS1</td>\n",
       "      <td>[ODS1]</td>\n",
       "      <td>ODS3  ODS16</td>\n",
       "      <td>omentar la resiliencia de los pobres y las per...</td>\n",
       "    </tr>\n",
       "    <tr>\n",
       "      <th>4</th>\n",
       "      <td>reducir su exposición y vulnerabilidad a los f...</td>\n",
       "      <td>reducir su exposición y vulnerabilidad a los f...</td>\n",
       "      <td>ODS1</td>\n",
       "      <td>[ODS1]</td>\n",
       "      <td>ODS5  ODS10</td>\n",
       "      <td>reducir su exposición y vulnerabilidad a los f...</td>\n",
       "    </tr>\n",
       "  </tbody>\n",
       "</table>\n",
       "</div>"
      ],
      "text/plain": [
       "                                               title  \\\n",
       "0  erradicar la pobreza extrema para todas las pe...   \n",
       "1  reducir al menos a la mitad la proporción de h...   \n",
       "2  garantizar que todos los hombres y mujeres, en...   \n",
       "3  omentar la resiliencia de los pobres y las per...   \n",
       "4  reducir su exposición y vulnerabilidad a los f...   \n",
       "\n",
       "                                         description Etiqueta Etiqueta2  \\\n",
       "0  erradicar la pobreza extrema para todas las pe...     ODS1    [ODS1]   \n",
       "1  reducir al menos a la mitad la proporción de h...     ODS1    [ODS1]   \n",
       "2  garantizar que todos los hombres y mujeres, en...     ODS1    [ODS1]   \n",
       "3  omentar la resiliencia de los pobres y las per...     ODS1    [ODS1]   \n",
       "4  reducir su exposición y vulnerabilidad a los f...     ODS1    [ODS1]   \n",
       "\n",
       "     Etiqueta3                                  descripcion_nueva  \n",
       "0         ODS3  erradicar la pobreza extrema para todas las pe...  \n",
       "1        ODS11  reducir al menos a la mitad la proporción de h...  \n",
       "2        ODS11  garantizar que todos los hombres y mujeres, en...  \n",
       "3  ODS3  ODS16  omentar la resiliencia de los pobres y las per...  \n",
       "4  ODS5  ODS10  reducir su exposición y vulnerabilidad a los f...  "
      ]
     },
     "execution_count": 4,
     "metadata": {},
     "output_type": "execute_result"
    }
   ],
   "source": [
    "contenidos.head()"
   ]
  },
  {
   "cell_type": "markdown",
   "metadata": {},
   "source": [
    "### Prueba modelo NLP con 200 registros"
   ]
  },
  {
   "cell_type": "code",
   "execution_count": 12,
   "metadata": {},
   "outputs": [
    {
     "data": {
      "text/html": [
       "<div>\n",
       "<style scoped>\n",
       "    .dataframe tbody tr th:only-of-type {\n",
       "        vertical-align: middle;\n",
       "    }\n",
       "\n",
       "    .dataframe tbody tr th {\n",
       "        vertical-align: top;\n",
       "    }\n",
       "\n",
       "    .dataframe thead th {\n",
       "        text-align: right;\n",
       "    }\n",
       "</style>\n",
       "<table border=\"1\" class=\"dataframe\">\n",
       "  <thead>\n",
       "    <tr style=\"text-align: right;\">\n",
       "      <th></th>\n",
       "      <th>title</th>\n",
       "      <th>description</th>\n",
       "      <th>Etiqueta</th>\n",
       "      <th>Etiqueta2</th>\n",
       "      <th>Etiqueta3</th>\n",
       "    </tr>\n",
       "  </thead>\n",
       "  <tbody>\n",
       "    <tr>\n",
       "      <th>0</th>\n",
       "      <td>erradicar la pobreza extrema para todas las pe...</td>\n",
       "      <td>erradicar la pobreza extrema para todas las pe...</td>\n",
       "      <td>ODS1</td>\n",
       "      <td>[ODS1]</td>\n",
       "      <td>ODS1</td>\n",
       "    </tr>\n",
       "    <tr>\n",
       "      <th>1</th>\n",
       "      <td>reducir al menos a la mitad la proporción de h...</td>\n",
       "      <td>reducir al menos a la mitad la proporción de h...</td>\n",
       "      <td>ODS1</td>\n",
       "      <td>[ODS1]</td>\n",
       "      <td>ODS1</td>\n",
       "    </tr>\n",
       "  </tbody>\n",
       "</table>\n",
       "</div>"
      ],
      "text/plain": [
       "                                               title  \\\n",
       "0  erradicar la pobreza extrema para todas las pe...   \n",
       "1  reducir al menos a la mitad la proporción de h...   \n",
       "\n",
       "                                         description Etiqueta Etiqueta2  \\\n",
       "0  erradicar la pobreza extrema para todas las pe...     ODS1    [ODS1]   \n",
       "1  reducir al menos a la mitad la proporción de h...     ODS1    [ODS1]   \n",
       "\n",
       "  Etiqueta3  \n",
       "0      ODS1  \n",
       "1      ODS1  "
      ]
     },
     "execution_count": 12,
     "metadata": {},
     "output_type": "execute_result"
    }
   ],
   "source": [
    "# Importamos nuestro dataset con 200 registros etiquetados\n",
    "\n",
    "import pandas as pd\n",
    "df_etiquetas = pd.read_excel(\"contenidos y etiquetas_PRUEBA CON 200 REGISTROS.xlsx\")\n",
    "df_etiquetas.head(2)"
   ]
  },
  {
   "cell_type": "code",
   "execution_count": 13,
   "metadata": {},
   "outputs": [
    {
     "data": {
      "text/html": [
       "<div>\n",
       "<style scoped>\n",
       "    .dataframe tbody tr th:only-of-type {\n",
       "        vertical-align: middle;\n",
       "    }\n",
       "\n",
       "    .dataframe tbody tr th {\n",
       "        vertical-align: top;\n",
       "    }\n",
       "\n",
       "    .dataframe thead th {\n",
       "        text-align: right;\n",
       "    }\n",
       "</style>\n",
       "<table border=\"1\" class=\"dataframe\">\n",
       "  <thead>\n",
       "    <tr style=\"text-align: right;\">\n",
       "      <th></th>\n",
       "      <th>description</th>\n",
       "      <th>Etiqueta3</th>\n",
       "    </tr>\n",
       "  </thead>\n",
       "  <tbody>\n",
       "    <tr>\n",
       "      <th>0</th>\n",
       "      <td>erradicar la pobreza extrema para todas las pe...</td>\n",
       "      <td>[ODS1]</td>\n",
       "    </tr>\n",
       "    <tr>\n",
       "      <th>1</th>\n",
       "      <td>reducir al menos a la mitad la proporción de h...</td>\n",
       "      <td>[ODS1]</td>\n",
       "    </tr>\n",
       "    <tr>\n",
       "      <th>2</th>\n",
       "      <td>garantizar que todos los hombres y mujeres, en...</td>\n",
       "      <td>[ODS1]</td>\n",
       "    </tr>\n",
       "    <tr>\n",
       "      <th>3</th>\n",
       "      <td>omentar la resiliencia de los pobres y las per...</td>\n",
       "      <td>[ODS1]</td>\n",
       "    </tr>\n",
       "    <tr>\n",
       "      <th>4</th>\n",
       "      <td>reducir su exposición y vulnerabilidad a los f...</td>\n",
       "      <td>[ODS1]</td>\n",
       "    </tr>\n",
       "  </tbody>\n",
       "</table>\n",
       "</div>"
      ],
      "text/plain": [
       "                                         description Etiqueta3\n",
       "0  erradicar la pobreza extrema para todas las pe...    [ODS1]\n",
       "1  reducir al menos a la mitad la proporción de h...    [ODS1]\n",
       "2  garantizar que todos los hombres y mujeres, en...    [ODS1]\n",
       "3  omentar la resiliencia de los pobres y las per...    [ODS1]\n",
       "4  reducir su exposición y vulnerabilidad a los f...    [ODS1]"
      ]
     },
     "execution_count": 13,
     "metadata": {},
     "output_type": "execute_result"
    }
   ],
   "source": [
    "# Tenemos que pasar nuestra columna Etiqueta a una lista, por ahora es un string.\n",
    "# Para ello usamos la función split() que nos permite ajustarlo como una lista\n",
    "\n",
    "df_etiquetas[\"Etiqueta3\"] = df_etiquetas[\"Etiqueta3\"].str.split()\n",
    "df_etiquetas = df_etiquetas[[\"description\", \"Etiqueta3\"]]\n",
    "df_etiquetas.head(5)"
   ]
  },
  {
   "cell_type": "code",
   "execution_count": 14,
   "metadata": {},
   "outputs": [
    {
     "data": {
      "text/plain": [
       "list"
      ]
     },
     "execution_count": 14,
     "metadata": {},
     "output_type": "execute_result"
    }
   ],
   "source": [
    "# Comprobamos que nuestra columna se ha transformado en lista\n",
    "type(df_etiquetas[\"Etiqueta3\"].iloc[4])"
   ]
  },
  {
   "cell_type": "code",
   "execution_count": 8,
   "metadata": {},
   "outputs": [],
   "source": [
    "# Importamos los paquetes necesarios para crear nuestro modelo\n",
    "\n",
    "from sklearn.feature_extraction.text import TfidfVectorizer\n",
    "from sklearn.preprocessing import MultiLabelBinarizer\n",
    "from sklearn.model_selection import train_test_split\n",
    "from sklearn.linear_model import SGDClassifier\n",
    "from sklearn.linear_model import LogisticRegression\n",
    "from sklearn.svm import LinearSVC\n",
    "from sklearn.multiclass import OneVsRestClassifier"
   ]
  },
  {
   "cell_type": "code",
   "execution_count": 15,
   "metadata": {},
   "outputs": [
    {
     "data": {
      "text/plain": [
       "0            [ODS1]\n",
       "1            [ODS1]\n",
       "2            [ODS1]\n",
       "3            [ODS1]\n",
       "4            [ODS1]\n",
       "           ...     \n",
       "475          [ODS6]\n",
       "476    [ODS6, ODS1]\n",
       "477          [ODS6]\n",
       "478          [ODS6]\n",
       "479          [ODS6]\n",
       "Name: Etiqueta3, Length: 480, dtype: object"
      ]
     },
     "execution_count": 15,
     "metadata": {},
     "output_type": "execute_result"
    }
   ],
   "source": [
    "y = df_etiquetas[\"Etiqueta3\"]\n",
    "y"
   ]
  },
  {
   "cell_type": "code",
   "execution_count": 16,
   "metadata": {},
   "outputs": [],
   "source": [
    "multilabel = MultiLabelBinarizer()\n",
    "y = multilabel.fit_transform(df_etiquetas[\"Etiqueta3\"])"
   ]
  },
  {
   "cell_type": "code",
   "execution_count": 17,
   "metadata": {},
   "outputs": [
    {
     "data": {
      "text/plain": [
       "array(['ODS1', 'ODS10', 'ODS13', 'ODS15', 'ODS2', 'ODS3', 'ODS4', 'ODS5',\n",
       "       'ODS6', 'ODS9'], dtype=object)"
      ]
     },
     "execution_count": 17,
     "metadata": {},
     "output_type": "execute_result"
    }
   ],
   "source": [
    "# Nombre de las clases\n",
    "multilabel.classes_"
   ]
  },
  {
   "cell_type": "code",
   "execution_count": 18,
   "metadata": {},
   "outputs": [
    {
     "data": {
      "text/html": [
       "<div>\n",
       "<style scoped>\n",
       "    .dataframe tbody tr th:only-of-type {\n",
       "        vertical-align: middle;\n",
       "    }\n",
       "\n",
       "    .dataframe tbody tr th {\n",
       "        vertical-align: top;\n",
       "    }\n",
       "\n",
       "    .dataframe thead th {\n",
       "        text-align: right;\n",
       "    }\n",
       "</style>\n",
       "<table border=\"1\" class=\"dataframe\">\n",
       "  <thead>\n",
       "    <tr style=\"text-align: right;\">\n",
       "      <th></th>\n",
       "      <th>ODS1</th>\n",
       "      <th>ODS10</th>\n",
       "      <th>ODS13</th>\n",
       "      <th>ODS15</th>\n",
       "      <th>ODS2</th>\n",
       "      <th>ODS3</th>\n",
       "      <th>ODS4</th>\n",
       "      <th>ODS5</th>\n",
       "      <th>ODS6</th>\n",
       "      <th>ODS9</th>\n",
       "    </tr>\n",
       "  </thead>\n",
       "  <tbody>\n",
       "    <tr>\n",
       "      <th>0</th>\n",
       "      <td>1</td>\n",
       "      <td>0</td>\n",
       "      <td>0</td>\n",
       "      <td>0</td>\n",
       "      <td>0</td>\n",
       "      <td>0</td>\n",
       "      <td>0</td>\n",
       "      <td>0</td>\n",
       "      <td>0</td>\n",
       "      <td>0</td>\n",
       "    </tr>\n",
       "    <tr>\n",
       "      <th>1</th>\n",
       "      <td>1</td>\n",
       "      <td>0</td>\n",
       "      <td>0</td>\n",
       "      <td>0</td>\n",
       "      <td>0</td>\n",
       "      <td>0</td>\n",
       "      <td>0</td>\n",
       "      <td>0</td>\n",
       "      <td>0</td>\n",
       "      <td>0</td>\n",
       "    </tr>\n",
       "    <tr>\n",
       "      <th>2</th>\n",
       "      <td>1</td>\n",
       "      <td>0</td>\n",
       "      <td>0</td>\n",
       "      <td>0</td>\n",
       "      <td>0</td>\n",
       "      <td>0</td>\n",
       "      <td>0</td>\n",
       "      <td>0</td>\n",
       "      <td>0</td>\n",
       "      <td>0</td>\n",
       "    </tr>\n",
       "    <tr>\n",
       "      <th>3</th>\n",
       "      <td>1</td>\n",
       "      <td>0</td>\n",
       "      <td>0</td>\n",
       "      <td>0</td>\n",
       "      <td>0</td>\n",
       "      <td>0</td>\n",
       "      <td>0</td>\n",
       "      <td>0</td>\n",
       "      <td>0</td>\n",
       "      <td>0</td>\n",
       "    </tr>\n",
       "    <tr>\n",
       "      <th>4</th>\n",
       "      <td>1</td>\n",
       "      <td>0</td>\n",
       "      <td>0</td>\n",
       "      <td>0</td>\n",
       "      <td>0</td>\n",
       "      <td>0</td>\n",
       "      <td>0</td>\n",
       "      <td>0</td>\n",
       "      <td>0</td>\n",
       "      <td>0</td>\n",
       "    </tr>\n",
       "    <tr>\n",
       "      <th>...</th>\n",
       "      <td>...</td>\n",
       "      <td>...</td>\n",
       "      <td>...</td>\n",
       "      <td>...</td>\n",
       "      <td>...</td>\n",
       "      <td>...</td>\n",
       "      <td>...</td>\n",
       "      <td>...</td>\n",
       "      <td>...</td>\n",
       "      <td>...</td>\n",
       "    </tr>\n",
       "    <tr>\n",
       "      <th>475</th>\n",
       "      <td>0</td>\n",
       "      <td>0</td>\n",
       "      <td>0</td>\n",
       "      <td>0</td>\n",
       "      <td>0</td>\n",
       "      <td>0</td>\n",
       "      <td>0</td>\n",
       "      <td>0</td>\n",
       "      <td>1</td>\n",
       "      <td>0</td>\n",
       "    </tr>\n",
       "    <tr>\n",
       "      <th>476</th>\n",
       "      <td>1</td>\n",
       "      <td>0</td>\n",
       "      <td>0</td>\n",
       "      <td>0</td>\n",
       "      <td>0</td>\n",
       "      <td>0</td>\n",
       "      <td>0</td>\n",
       "      <td>0</td>\n",
       "      <td>1</td>\n",
       "      <td>0</td>\n",
       "    </tr>\n",
       "    <tr>\n",
       "      <th>477</th>\n",
       "      <td>0</td>\n",
       "      <td>0</td>\n",
       "      <td>0</td>\n",
       "      <td>0</td>\n",
       "      <td>0</td>\n",
       "      <td>0</td>\n",
       "      <td>0</td>\n",
       "      <td>0</td>\n",
       "      <td>1</td>\n",
       "      <td>0</td>\n",
       "    </tr>\n",
       "    <tr>\n",
       "      <th>478</th>\n",
       "      <td>0</td>\n",
       "      <td>0</td>\n",
       "      <td>0</td>\n",
       "      <td>0</td>\n",
       "      <td>0</td>\n",
       "      <td>0</td>\n",
       "      <td>0</td>\n",
       "      <td>0</td>\n",
       "      <td>1</td>\n",
       "      <td>0</td>\n",
       "    </tr>\n",
       "    <tr>\n",
       "      <th>479</th>\n",
       "      <td>0</td>\n",
       "      <td>0</td>\n",
       "      <td>0</td>\n",
       "      <td>0</td>\n",
       "      <td>0</td>\n",
       "      <td>0</td>\n",
       "      <td>0</td>\n",
       "      <td>0</td>\n",
       "      <td>1</td>\n",
       "      <td>0</td>\n",
       "    </tr>\n",
       "  </tbody>\n",
       "</table>\n",
       "<p>480 rows × 10 columns</p>\n",
       "</div>"
      ],
      "text/plain": [
       "     ODS1  ODS10  ODS13  ODS15  ODS2  ODS3  ODS4  ODS5  ODS6  ODS9\n",
       "0       1      0      0      0     0     0     0     0     0     0\n",
       "1       1      0      0      0     0     0     0     0     0     0\n",
       "2       1      0      0      0     0     0     0     0     0     0\n",
       "3       1      0      0      0     0     0     0     0     0     0\n",
       "4       1      0      0      0     0     0     0     0     0     0\n",
       "..    ...    ...    ...    ...   ...   ...   ...   ...   ...   ...\n",
       "475     0      0      0      0     0     0     0     0     1     0\n",
       "476     1      0      0      0     0     0     0     0     1     0\n",
       "477     0      0      0      0     0     0     0     0     1     0\n",
       "478     0      0      0      0     0     0     0     0     1     0\n",
       "479     0      0      0      0     0     0     0     0     1     0\n",
       "\n",
       "[480 rows x 10 columns]"
      ]
     },
     "execution_count": 18,
     "metadata": {},
     "output_type": "execute_result"
    }
   ],
   "source": [
    "# Podemos pasarlo a un dataframe y poner el nombre de cada etiqueta\n",
    "pd.DataFrame(y, columns = multilabel.classes_)"
   ]
  },
  {
   "cell_type": "code",
   "execution_count": 19,
   "metadata": {},
   "outputs": [],
   "source": [
    "tfidf = TfidfVectorizer(analyzer = 'word', max_features = 1000)\n",
    "X = tfidf.fit_transform(df_etiquetas[\"description\"])"
   ]
  },
  {
   "cell_type": "code",
   "execution_count": 20,
   "metadata": {},
   "outputs": [
    {
     "data": {
      "text/plain": [
       "<480x773 sparse matrix of type '<class 'numpy.float64'>'\n",
       "\twith 4566 stored elements in Compressed Sparse Row format>"
      ]
     },
     "execution_count": 20,
     "metadata": {},
     "output_type": "execute_result"
    }
   ],
   "source": [
    "X"
   ]
  },
  {
   "cell_type": "code",
   "execution_count": 89,
   "metadata": {},
   "outputs": [],
   "source": [
    "# tfidf.vocabulary_"
   ]
  },
  {
   "cell_type": "code",
   "execution_count": 21,
   "metadata": {},
   "outputs": [
    {
     "data": {
      "text/plain": [
       "((480, 773), (480, 10))"
      ]
     },
     "execution_count": 21,
     "metadata": {},
     "output_type": "execute_result"
    }
   ],
   "source": [
    "X.shape, y.shape"
   ]
  },
  {
   "cell_type": "code",
   "execution_count": 22,
   "metadata": {},
   "outputs": [],
   "source": [
    "X_train, X_test, y_train, y_test = train_test_split (X, y, test_size = 0.2, random_state = 0)"
   ]
  },
  {
   "cell_type": "markdown",
   "metadata": {},
   "source": [
    "### Creación del Modelo"
   ]
  },
  {
   "cell_type": "code",
   "execution_count": 23,
   "metadata": {},
   "outputs": [],
   "source": [
    "sgd = SGDClassifier()\n",
    "lr = LogisticRegression(solver = \"lbfgs\")\n",
    "svc = LinearSVC()"
   ]
  },
  {
   "cell_type": "code",
   "execution_count": 24,
   "metadata": {},
   "outputs": [],
   "source": [
    "for classifier in [sgd, lr, svc]:\n",
    "    clf = OneVsRestClassifier(classifier)\n",
    "    clf.fit(X_train, y_train)\n",
    "    "
   ]
  },
  {
   "cell_type": "code",
   "execution_count": 38,
   "metadata": {},
   "outputs": [
    {
     "data": {
      "text/plain": [
       "[()]"
      ]
     },
     "execution_count": 38,
     "metadata": {},
     "output_type": "execute_result"
    }
   ],
   "source": [
    "x = [\"camino a la igualdad\"]\n",
    "xt = tfidf.transform(x)\n",
    "multilabel.inverse_transform(clf.predict(xt))"
   ]
  },
  {
   "cell_type": "code",
   "execution_count": 29,
   "metadata": {},
   "outputs": [
    {
     "data": {
      "text/plain": [
       "<1x773 sparse matrix of type '<class 'numpy.float64'>'\n",
       "\twith 16 stored elements in Compressed Sparse Row format>"
      ]
     },
     "execution_count": 29,
     "metadata": {},
     "output_type": "execute_result"
    }
   ],
   "source": [
    "xt"
   ]
  },
  {
   "cell_type": "code",
   "execution_count": 37,
   "metadata": {},
   "outputs": [
    {
     "data": {
      "text/plain": [
       "array([[0, 0, 0, 0, 0, 0, 0, 0, 1, 0]])"
      ]
     },
     "execution_count": 37,
     "metadata": {},
     "output_type": "execute_result"
    }
   ],
   "source": [
    "clf.predict(xt)"
   ]
  },
  {
   "cell_type": "code",
   "execution_count": 36,
   "metadata": {},
   "outputs": [
    {
     "data": {
      "text/plain": [
       "[('ODS6',)]"
      ]
     },
     "execution_count": 36,
     "metadata": {},
     "output_type": "execute_result"
    }
   ],
   "source": [
    "multilabel.inverse_transform(clf.predict(xt))"
   ]
  },
  {
   "cell_type": "code",
   "execution_count": null,
   "metadata": {},
   "outputs": [],
   "source": []
  }
 ],
 "metadata": {
  "kernelspec": {
   "display_name": "Python 3",
   "language": "python",
   "name": "python3"
  },
  "language_info": {
   "codemirror_mode": {
    "name": "ipython",
    "version": 3
   },
   "file_extension": ".py",
   "mimetype": "text/x-python",
   "name": "python",
   "nbconvert_exporter": "python",
   "pygments_lexer": "ipython3",
   "version": "3.8.5"
  }
 },
 "nbformat": 4,
 "nbformat_minor": 4
}
