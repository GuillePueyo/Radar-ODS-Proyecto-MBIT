{
 "cells": [
  {
   "cell_type": "code",
   "execution_count": 1,
   "metadata": {},
   "outputs": [
    {
     "data": {
      "text/html": [
       "<div>\n",
       "<style scoped>\n",
       "    .dataframe tbody tr th:only-of-type {\n",
       "        vertical-align: middle;\n",
       "    }\n",
       "\n",
       "    .dataframe tbody tr th {\n",
       "        vertical-align: top;\n",
       "    }\n",
       "\n",
       "    .dataframe thead th {\n",
       "        text-align: right;\n",
       "    }\n",
       "</style>\n",
       "<table border=\"1\" class=\"dataframe\">\n",
       "  <thead>\n",
       "    <tr style=\"text-align: right;\">\n",
       "      <th></th>\n",
       "      <th>title</th>\n",
       "      <th>description</th>\n",
       "      <th>Etiqueta</th>\n",
       "    </tr>\n",
       "  </thead>\n",
       "  <tbody>\n",
       "    <tr>\n",
       "      <th>0</th>\n",
       "      <td>Diferència entre publicar idea, iniciativa o e...</td>\n",
       "      <td>Idea: Una llavor de canvi. La idea pot ser qua...</td>\n",
       "      <td>ODS4</td>\n",
       "    </tr>\n",
       "    <tr>\n",
       "      <th>1</th>\n",
       "      <td>Publica una idea, sembra una llavor</td>\n",
       "      <td>El detall més simple pot ser motor de canvi. D...</td>\n",
       "      <td>ODS3</td>\n",
       "    </tr>\n",
       "    <tr>\n",
       "      <th>2</th>\n",
       "      <td>Publica una iniciativa: ets el primer brot</td>\n",
       "      <td>Si has tingut una idea i la vols fer realitat ...</td>\n",
       "      <td>ODS11</td>\n",
       "    </tr>\n",
       "  </tbody>\n",
       "</table>\n",
       "</div>"
      ],
      "text/plain": [
       "                                               title  \\\n",
       "0  Diferència entre publicar idea, iniciativa o e...   \n",
       "1                Publica una idea, sembra una llavor   \n",
       "2         Publica una iniciativa: ets el primer brot   \n",
       "\n",
       "                                         description Etiqueta  \n",
       "0  Idea: Una llavor de canvi. La idea pot ser qua...     ODS4  \n",
       "1  El detall més simple pot ser motor de canvi. D...     ODS3  \n",
       "2  Si has tingut una idea i la vols fer realitat ...    ODS11  "
      ]
     },
     "execution_count": 1,
     "metadata": {},
     "output_type": "execute_result"
    }
   ],
   "source": [
    "# Importamos el excel con los registros en catalán\n",
    "\n",
    "import pandas as pd\n",
    "contents = pd.read_excel(r\"C:\\Users\\pueygu01\\Python Programs\\Máster - Proyecto\\contenidos - catalan.xlsx\")\n",
    "contents.head(3)"
   ]
  },
  {
   "cell_type": "code",
   "execution_count": 3,
   "metadata": {},
   "outputs": [
    {
     "data": {
      "text/plain": [
       "\"Es podria posar un punt de recollida d'ampolles de plàstic\""
      ]
     },
     "execution_count": 3,
     "metadata": {},
     "output_type": "execute_result"
    }
   ],
   "source": [
    "# Aquí puedes ver cómo si me traduce la frase en catalán\n",
    "translator = Translator()\n",
    "translator.translate(\"Es podria posar un punt de recollida d'ampolles de plàstic\"\n",
    "                    , scr = \"ca\"\n",
    "                    , dest = \"es\").text"
   ]
  },
  {
   "cell_type": "code",
   "execution_count": 4,
   "metadata": {},
   "outputs": [
    {
     "data": {
      "text/html": [
       "<div>\n",
       "<style scoped>\n",
       "    .dataframe tbody tr th:only-of-type {\n",
       "        vertical-align: middle;\n",
       "    }\n",
       "\n",
       "    .dataframe tbody tr th {\n",
       "        vertical-align: top;\n",
       "    }\n",
       "\n",
       "    .dataframe thead th {\n",
       "        text-align: right;\n",
       "    }\n",
       "</style>\n",
       "<table border=\"1\" class=\"dataframe\">\n",
       "  <thead>\n",
       "    <tr style=\"text-align: right;\">\n",
       "      <th></th>\n",
       "      <th>title</th>\n",
       "      <th>description</th>\n",
       "      <th>Etiqueta</th>\n",
       "      <th>español</th>\n",
       "    </tr>\n",
       "  </thead>\n",
       "  <tbody>\n",
       "    <tr>\n",
       "      <th>0</th>\n",
       "      <td>Diferència entre publicar idea, iniciativa o e...</td>\n",
       "      <td>Idea: Una llavor de canvi. La idea pot ser qua...</td>\n",
       "      <td>ODS4</td>\n",
       "      <td>Diferència entre publicar idea, iniciativa o e...</td>\n",
       "    </tr>\n",
       "    <tr>\n",
       "      <th>1</th>\n",
       "      <td>Publica una idea, sembra una llavor</td>\n",
       "      <td>El detall més simple pot ser motor de canvi. D...</td>\n",
       "      <td>ODS3</td>\n",
       "      <td>Publica una idea, sembra una llavor</td>\n",
       "    </tr>\n",
       "    <tr>\n",
       "      <th>2</th>\n",
       "      <td>Publica una iniciativa: ets el primer brot</td>\n",
       "      <td>Si has tingut una idea i la vols fer realitat ...</td>\n",
       "      <td>ODS11</td>\n",
       "      <td>Publica una iniciativa: ets el primer brot</td>\n",
       "    </tr>\n",
       "    <tr>\n",
       "      <th>3</th>\n",
       "      <td>Publica un esdeveniment: comenceu a recollir e...</td>\n",
       "      <td>Tant si ets una entitat (associació, ONG, come...</td>\n",
       "      <td>ODS11</td>\n",
       "      <td>Publica un esdeveniment: comenceu a recollir e...</td>\n",
       "    </tr>\n",
       "    <tr>\n",
       "      <th>4</th>\n",
       "      <td>Puede que cuando menos pienses, brote lo mejor...</td>\n",
       "      <td>Existe una creencia popular de que cuando las ...</td>\n",
       "      <td>ODS3, ODS16</td>\n",
       "      <td>Puede que cuando menos pienses, brote lo mejor...</td>\n",
       "    </tr>\n",
       "  </tbody>\n",
       "</table>\n",
       "</div>"
      ],
      "text/plain": [
       "                                               title  \\\n",
       "0  Diferència entre publicar idea, iniciativa o e...   \n",
       "1                Publica una idea, sembra una llavor   \n",
       "2         Publica una iniciativa: ets el primer brot   \n",
       "3  Publica un esdeveniment: comenceu a recollir e...   \n",
       "4  Puede que cuando menos pienses, brote lo mejor...   \n",
       "\n",
       "                                         description     Etiqueta  \\\n",
       "0  Idea: Una llavor de canvi. La idea pot ser qua...         ODS4   \n",
       "1  El detall més simple pot ser motor de canvi. D...         ODS3   \n",
       "2  Si has tingut una idea i la vols fer realitat ...        ODS11   \n",
       "3  Tant si ets una entitat (associació, ONG, come...        ODS11   \n",
       "4  Existe una creencia popular de que cuando las ...  ODS3, ODS16   \n",
       "\n",
       "                                             español  \n",
       "0  Diferència entre publicar idea, iniciativa o e...  \n",
       "1                Publica una idea, sembra una llavor  \n",
       "2         Publica una iniciativa: ets el primer brot  \n",
       "3  Publica un esdeveniment: comenceu a recollir e...  \n",
       "4  Puede que cuando menos pienses, brote lo mejor...  "
      ]
     },
     "execution_count": 4,
     "metadata": {},
     "output_type": "execute_result"
    }
   ],
   "source": [
    "# Importamos Google Translator\n",
    "from googletrans import Translator\n",
    "translator = Translator()\n",
    "\n",
    "contents[\"español\"] = contents[\"title\"].apply(translator.translate\n",
    "                                             ,scr = \"ca\"\n",
    "                                             ,dest = \"es\").apply(getattr, args = (\"text\",))\n",
    "\n",
    "contents.head()"
   ]
  },
  {
   "cell_type": "code",
   "execution_count": null,
   "metadata": {},
   "outputs": [],
   "source": []
  }
 ],
 "metadata": {
  "kernelspec": {
   "display_name": "Python 3",
   "language": "python",
   "name": "python3"
  },
  "language_info": {
   "codemirror_mode": {
    "name": "ipython",
    "version": 3
   },
   "file_extension": ".py",
   "mimetype": "text/x-python",
   "name": "python",
   "nbconvert_exporter": "python",
   "pygments_lexer": "ipython3",
   "version": "3.8.5"
  }
 },
 "nbformat": 4,
 "nbformat_minor": 4
}
