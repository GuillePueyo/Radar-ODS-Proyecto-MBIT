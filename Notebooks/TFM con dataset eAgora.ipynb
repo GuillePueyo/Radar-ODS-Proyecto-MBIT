{
 "cells": [
  {
   "cell_type": "markdown",
   "metadata": {},
   "source": [
    "### Modelo NLP para predecir ODS's\n",
    "\n",
    "##### Usaremos varios modelos para ver cuál es el más efectivo"
   ]
  },
  {
   "cell_type": "code",
   "execution_count": 1,
   "metadata": {},
   "outputs": [],
   "source": [
    "import pandas as pd\n",
    "import numpy as np\n",
    "import pandas as pd\n",
    "import re\n",
    "import string\n",
    "import spacy\n",
    "from sklearn.model_selection import train_test_split\n",
    "from sklearn.feature_extraction.text import TfidfVectorizer\n",
    "from skmultilearn.adapt import MLkNN\n",
    "from sklearn.metrics import hamming_loss, accuracy_score\n",
    "from sklearn.preprocessing import MultiLabelBinarizer\n",
    "from langdetect import detect, DetectorFactory\n",
    "#import es_core_web_sm"
   ]
  },
  {
   "cell_type": "code",
   "execution_count": 2,
   "metadata": {},
   "outputs": [
    {
     "data": {
      "text/html": [
       "<div>\n",
       "<style scoped>\n",
       "    .dataframe tbody tr th:only-of-type {\n",
       "        vertical-align: middle;\n",
       "    }\n",
       "\n",
       "    .dataframe tbody tr th {\n",
       "        vertical-align: top;\n",
       "    }\n",
       "\n",
       "    .dataframe thead th {\n",
       "        text-align: right;\n",
       "    }\n",
       "</style>\n",
       "<table border=\"1\" class=\"dataframe\">\n",
       "  <thead>\n",
       "    <tr style=\"text-align: right;\">\n",
       "      <th></th>\n",
       "      <th>title</th>\n",
       "      <th>description</th>\n",
       "      <th>Etiqueta</th>\n",
       "    </tr>\n",
       "  </thead>\n",
       "  <tbody>\n",
       "    <tr>\n",
       "      <th>0</th>\n",
       "      <td>Diferència entre publicar idea, iniciativa o e...</td>\n",
       "      <td>Idea: Una llavor de canvi. La idea pot ser qua...</td>\n",
       "      <td>ODS4</td>\n",
       "    </tr>\n",
       "    <tr>\n",
       "      <th>1</th>\n",
       "      <td>Publica una idea, sembra una llavor</td>\n",
       "      <td>El detall més simple pot ser motor de canvi. D...</td>\n",
       "      <td>ODS3</td>\n",
       "    </tr>\n",
       "    <tr>\n",
       "      <th>2</th>\n",
       "      <td>Publica una iniciativa: ets el primer brot</td>\n",
       "      <td>Si has tingut una idea i la vols fer realitat ...</td>\n",
       "      <td>ODS11</td>\n",
       "    </tr>\n",
       "    <tr>\n",
       "      <th>3</th>\n",
       "      <td>Publica un esdeveniment: comenceu a recollir e...</td>\n",
       "      <td>Tant si ets una entitat (associació, ONG, come...</td>\n",
       "      <td>ODS11</td>\n",
       "    </tr>\n",
       "    <tr>\n",
       "      <th>4</th>\n",
       "      <td>Puede que cuando menos pienses, brote lo mejor...</td>\n",
       "      <td>Existe una creencia popular de que cuando las ...</td>\n",
       "      <td>ODS3  ODS16</td>\n",
       "    </tr>\n",
       "  </tbody>\n",
       "</table>\n",
       "</div>"
      ],
      "text/plain": [
       "                                               title  \\\n",
       "0  Diferència entre publicar idea, iniciativa o e...   \n",
       "1                Publica una idea, sembra una llavor   \n",
       "2         Publica una iniciativa: ets el primer brot   \n",
       "3  Publica un esdeveniment: comenceu a recollir e...   \n",
       "4  Puede que cuando menos pienses, brote lo mejor...   \n",
       "\n",
       "                                         description     Etiqueta  \n",
       "0  Idea: Una llavor de canvi. La idea pot ser qua...         ODS4  \n",
       "1  El detall més simple pot ser motor de canvi. D...         ODS3  \n",
       "2  Si has tingut una idea i la vols fer realitat ...        ODS11  \n",
       "3  Tant si ets una entitat (associació, ONG, come...        ODS11  \n",
       "4  Existe una creencia popular de que cuando las ...  ODS3  ODS16  "
      ]
     },
     "execution_count": 2,
     "metadata": {},
     "output_type": "execute_result"
    }
   ],
   "source": [
    "# Vamos a importar nuestro dataset de datos\n",
    "\n",
    "contenidos = pd.read_excel(r\"C:\\Users\\pueygu01\\Python Programs\\Máster - Proyecto\\dataset - español y catalan.xlsx\"\n",
    "                          ,sheet_name = \"Sheet1\")\n",
    "contenidos.head()"
   ]
  },
  {
   "cell_type": "code",
   "execution_count": 3,
   "metadata": {},
   "outputs": [],
   "source": [
    "# Podemos limpiar un poco el texto de mayúsculas y comillas. Para ello usamos una función que nos lo haga en todo el dataset\n",
    "\n",
    "def clean_text(text):\n",
    "    text = text.lower()\n",
    "    text = text.strip(' ')\n",
    "    text = text.strip('\"')\n",
    "    return text"
   ]
  },
  {
   "cell_type": "code",
   "execution_count": 4,
   "metadata": {},
   "outputs": [
    {
     "data": {
      "text/html": [
       "<div>\n",
       "<style scoped>\n",
       "    .dataframe tbody tr th:only-of-type {\n",
       "        vertical-align: middle;\n",
       "    }\n",
       "\n",
       "    .dataframe tbody tr th {\n",
       "        vertical-align: top;\n",
       "    }\n",
       "\n",
       "    .dataframe thead th {\n",
       "        text-align: right;\n",
       "    }\n",
       "</style>\n",
       "<table border=\"1\" class=\"dataframe\">\n",
       "  <thead>\n",
       "    <tr style=\"text-align: right;\">\n",
       "      <th></th>\n",
       "      <th>title</th>\n",
       "      <th>description</th>\n",
       "      <th>Etiqueta</th>\n",
       "      <th>catalan_limpio</th>\n",
       "    </tr>\n",
       "  </thead>\n",
       "  <tbody>\n",
       "    <tr>\n",
       "      <th>0</th>\n",
       "      <td>Diferència entre publicar idea, iniciativa o e...</td>\n",
       "      <td>Idea: Una llavor de canvi. La idea pot ser qua...</td>\n",
       "      <td>ODS4</td>\n",
       "      <td>idea: una llavor de canvi. la idea pot ser qua...</td>\n",
       "    </tr>\n",
       "    <tr>\n",
       "      <th>1</th>\n",
       "      <td>Publica una idea, sembra una llavor</td>\n",
       "      <td>El detall més simple pot ser motor de canvi. D...</td>\n",
       "      <td>ODS3</td>\n",
       "      <td>el detall més simple pot ser motor de canvi. d...</td>\n",
       "    </tr>\n",
       "    <tr>\n",
       "      <th>2</th>\n",
       "      <td>Publica una iniciativa: ets el primer brot</td>\n",
       "      <td>Si has tingut una idea i la vols fer realitat ...</td>\n",
       "      <td>ODS11</td>\n",
       "      <td>si has tingut una idea i la vols fer realitat ...</td>\n",
       "    </tr>\n",
       "    <tr>\n",
       "      <th>3</th>\n",
       "      <td>Publica un esdeveniment: comenceu a recollir e...</td>\n",
       "      <td>Tant si ets una entitat (associació, ONG, come...</td>\n",
       "      <td>ODS11</td>\n",
       "      <td>tant si ets una entitat (associació, ong, come...</td>\n",
       "    </tr>\n",
       "    <tr>\n",
       "      <th>4</th>\n",
       "      <td>Puede que cuando menos pienses, brote lo mejor...</td>\n",
       "      <td>Existe una creencia popular de que cuando las ...</td>\n",
       "      <td>ODS3  ODS16</td>\n",
       "      <td>existe una creencia popular de que cuando las ...</td>\n",
       "    </tr>\n",
       "  </tbody>\n",
       "</table>\n",
       "</div>"
      ],
      "text/plain": [
       "                                               title  \\\n",
       "0  Diferència entre publicar idea, iniciativa o e...   \n",
       "1                Publica una idea, sembra una llavor   \n",
       "2         Publica una iniciativa: ets el primer brot   \n",
       "3  Publica un esdeveniment: comenceu a recollir e...   \n",
       "4  Puede que cuando menos pienses, brote lo mejor...   \n",
       "\n",
       "                                         description     Etiqueta  \\\n",
       "0  Idea: Una llavor de canvi. La idea pot ser qua...         ODS4   \n",
       "1  El detall més simple pot ser motor de canvi. D...         ODS3   \n",
       "2  Si has tingut una idea i la vols fer realitat ...        ODS11   \n",
       "3  Tant si ets una entitat (associació, ONG, come...        ODS11   \n",
       "4  Existe una creencia popular de que cuando las ...  ODS3  ODS16   \n",
       "\n",
       "                                      catalan_limpio  \n",
       "0  idea: una llavor de canvi. la idea pot ser qua...  \n",
       "1  el detall més simple pot ser motor de canvi. d...  \n",
       "2  si has tingut una idea i la vols fer realitat ...  \n",
       "3  tant si ets una entitat (associació, ong, come...  \n",
       "4  existe una creencia popular de que cuando las ...  "
      ]
     },
     "execution_count": 4,
     "metadata": {},
     "output_type": "execute_result"
    }
   ],
   "source": [
    "# Aplicamos la función anterior\n",
    "\n",
    "contenidos[\"catalan_limpio\"]=contenidos.description.apply(clean_text)\n",
    "contenidos.head()"
   ]
  },
  {
   "cell_type": "code",
   "execution_count": 5,
   "metadata": {},
   "outputs": [],
   "source": [
    "# Para poder aplicar un modelo de prediccón de multi-etiqueta, es necesario que las etiquetas sean un conjunto de listas\n",
    "# Pasamos a lista nuestras etiquetas\n",
    "\n",
    "#contenidos_castellano[\"Etiqueta\"] = contenidos_castellano[\"Etiqueta\"].str.split()\n",
    "#contenidos_catalan[\"Etiqueta\"] = contenidos_catalan[\"Etiqueta\"].str.split()\n",
    "contenidos[\"Etiqueta\"] = contenidos[\"Etiqueta\"].str.split()"
   ]
  },
  {
   "cell_type": "code",
   "execution_count": 6,
   "metadata": {},
   "outputs": [],
   "source": [
    "# Con este paquete podemos extraer las etiquetas y ponerlas como columnas ya que es así cómo los modelos pueden trabajr con el dataset\n",
    "\n",
    "from sklearn.preprocessing import MultiLabelBinarizer\n",
    "multilabel = MultiLabelBinarizer()\n",
    "\n",
    "#new_contenidos_castellano = multilabel.fit_transform(contenidos_castellano[\"Etiqueta\"])\n",
    "#new_contenidos_catalan = multilabel.fit_transform(contenidos_catalan[\"Etiqueta\"])\n",
    "new_contenidos = multilabel.fit_transform(contenidos[\"Etiqueta\"])\n"
   ]
  },
  {
   "cell_type": "code",
   "execution_count": 7,
   "metadata": {
    "scrolled": true
   },
   "outputs": [
    {
     "data": {
      "text/plain": [
       "array(['ODS1', 'ODS10', 'ODS11', 'ODS12', 'ODS13', 'ODS14', 'ODS15',\n",
       "       'ODS16', 'ODS17', 'ODS1O', 'ODS2', 'ODS3', 'ODS4', 'ODS5', 'ODS6',\n",
       "       'ODS8', 'ODS9', 'OSD3'], dtype=object)"
      ]
     },
     "execution_count": 7,
     "metadata": {},
     "output_type": "execute_result"
    }
   ],
   "source": [
    "# Para ver todas las diferentes etiquetas, llamamos a \"classes_\" mediante miltilabel\n",
    "multilabel.classes_"
   ]
  },
  {
   "cell_type": "code",
   "execution_count": 8,
   "metadata": {
    "scrolled": true
   },
   "outputs": [
    {
     "data": {
      "text/html": [
       "<div>\n",
       "<style scoped>\n",
       "    .dataframe tbody tr th:only-of-type {\n",
       "        vertical-align: middle;\n",
       "    }\n",
       "\n",
       "    .dataframe tbody tr th {\n",
       "        vertical-align: top;\n",
       "    }\n",
       "\n",
       "    .dataframe thead th {\n",
       "        text-align: right;\n",
       "    }\n",
       "</style>\n",
       "<table border=\"1\" class=\"dataframe\">\n",
       "  <thead>\n",
       "    <tr style=\"text-align: right;\">\n",
       "      <th></th>\n",
       "      <th>ODS1</th>\n",
       "      <th>ODS10</th>\n",
       "      <th>ODS11</th>\n",
       "      <th>ODS12</th>\n",
       "      <th>ODS13</th>\n",
       "      <th>ODS14</th>\n",
       "      <th>ODS15</th>\n",
       "      <th>ODS16</th>\n",
       "      <th>ODS17</th>\n",
       "      <th>ODS1O</th>\n",
       "      <th>ODS2</th>\n",
       "      <th>ODS3</th>\n",
       "      <th>ODS4</th>\n",
       "      <th>ODS5</th>\n",
       "      <th>ODS6</th>\n",
       "      <th>ODS8</th>\n",
       "      <th>ODS9</th>\n",
       "      <th>OSD3</th>\n",
       "    </tr>\n",
       "  </thead>\n",
       "  <tbody>\n",
       "    <tr>\n",
       "      <th>0</th>\n",
       "      <td>0</td>\n",
       "      <td>0</td>\n",
       "      <td>0</td>\n",
       "      <td>0</td>\n",
       "      <td>0</td>\n",
       "      <td>0</td>\n",
       "      <td>0</td>\n",
       "      <td>0</td>\n",
       "      <td>0</td>\n",
       "      <td>0</td>\n",
       "      <td>0</td>\n",
       "      <td>0</td>\n",
       "      <td>1</td>\n",
       "      <td>0</td>\n",
       "      <td>0</td>\n",
       "      <td>0</td>\n",
       "      <td>0</td>\n",
       "      <td>0</td>\n",
       "    </tr>\n",
       "    <tr>\n",
       "      <th>1</th>\n",
       "      <td>0</td>\n",
       "      <td>0</td>\n",
       "      <td>0</td>\n",
       "      <td>0</td>\n",
       "      <td>0</td>\n",
       "      <td>0</td>\n",
       "      <td>0</td>\n",
       "      <td>0</td>\n",
       "      <td>0</td>\n",
       "      <td>0</td>\n",
       "      <td>0</td>\n",
       "      <td>1</td>\n",
       "      <td>0</td>\n",
       "      <td>0</td>\n",
       "      <td>0</td>\n",
       "      <td>0</td>\n",
       "      <td>0</td>\n",
       "      <td>0</td>\n",
       "    </tr>\n",
       "    <tr>\n",
       "      <th>2</th>\n",
       "      <td>0</td>\n",
       "      <td>0</td>\n",
       "      <td>1</td>\n",
       "      <td>0</td>\n",
       "      <td>0</td>\n",
       "      <td>0</td>\n",
       "      <td>0</td>\n",
       "      <td>0</td>\n",
       "      <td>0</td>\n",
       "      <td>0</td>\n",
       "      <td>0</td>\n",
       "      <td>0</td>\n",
       "      <td>0</td>\n",
       "      <td>0</td>\n",
       "      <td>0</td>\n",
       "      <td>0</td>\n",
       "      <td>0</td>\n",
       "      <td>0</td>\n",
       "    </tr>\n",
       "    <tr>\n",
       "      <th>3</th>\n",
       "      <td>0</td>\n",
       "      <td>0</td>\n",
       "      <td>1</td>\n",
       "      <td>0</td>\n",
       "      <td>0</td>\n",
       "      <td>0</td>\n",
       "      <td>0</td>\n",
       "      <td>0</td>\n",
       "      <td>0</td>\n",
       "      <td>0</td>\n",
       "      <td>0</td>\n",
       "      <td>0</td>\n",
       "      <td>0</td>\n",
       "      <td>0</td>\n",
       "      <td>0</td>\n",
       "      <td>0</td>\n",
       "      <td>0</td>\n",
       "      <td>0</td>\n",
       "    </tr>\n",
       "    <tr>\n",
       "      <th>4</th>\n",
       "      <td>0</td>\n",
       "      <td>0</td>\n",
       "      <td>0</td>\n",
       "      <td>0</td>\n",
       "      <td>0</td>\n",
       "      <td>0</td>\n",
       "      <td>0</td>\n",
       "      <td>1</td>\n",
       "      <td>0</td>\n",
       "      <td>0</td>\n",
       "      <td>0</td>\n",
       "      <td>1</td>\n",
       "      <td>0</td>\n",
       "      <td>0</td>\n",
       "      <td>0</td>\n",
       "      <td>0</td>\n",
       "      <td>0</td>\n",
       "      <td>0</td>\n",
       "    </tr>\n",
       "  </tbody>\n",
       "</table>\n",
       "</div>"
      ],
      "text/plain": [
       "   ODS1  ODS10  ODS11  ODS12  ODS13  ODS14  ODS15  ODS16  ODS17  ODS1O  ODS2  \\\n",
       "0     0      0      0      0      0      0      0      0      0      0     0   \n",
       "1     0      0      0      0      0      0      0      0      0      0     0   \n",
       "2     0      0      1      0      0      0      0      0      0      0     0   \n",
       "3     0      0      1      0      0      0      0      0      0      0     0   \n",
       "4     0      0      0      0      0      0      0      1      0      0     0   \n",
       "\n",
       "   ODS3  ODS4  ODS5  ODS6  ODS8  ODS9  OSD3  \n",
       "0     0     1     0     0     0     0     0  \n",
       "1     1     0     0     0     0     0     0  \n",
       "2     0     0     0     0     0     0     0  \n",
       "3     0     0     0     0     0     0     0  \n",
       "4     1     0     0     0     0     0     0  "
      ]
     },
     "execution_count": 8,
     "metadata": {},
     "output_type": "execute_result"
    }
   ],
   "source": [
    "# Para poder trabajar, lo tenemos que pasar a DataFrame y aprovechamos para poner las etiquetas como columnas\n",
    "\n",
    "#new_contenidos_castellano = pd.DataFrame(new_contenidos_castellano\n",
    "#             , columns = multilabel.classes_)\n",
    "\n",
    "#new_contenidos_catalan = pd.DataFrame(new_contenidos_catalan\n",
    "#            , columns = multilabel.classes_)\n",
    "new_contenidos1 = pd.DataFrame(new_contenidos\n",
    "             , columns = multilabel.classes_)\n",
    "new_contenidos1.head()"
   ]
  },
  {
   "cell_type": "code",
   "execution_count": 9,
   "metadata": {},
   "outputs": [
    {
     "data": {
      "text/html": [
       "<div>\n",
       "<style scoped>\n",
       "    .dataframe tbody tr th:only-of-type {\n",
       "        vertical-align: middle;\n",
       "    }\n",
       "\n",
       "    .dataframe tbody tr th {\n",
       "        vertical-align: top;\n",
       "    }\n",
       "\n",
       "    .dataframe thead th {\n",
       "        text-align: right;\n",
       "    }\n",
       "</style>\n",
       "<table border=\"1\" class=\"dataframe\">\n",
       "  <thead>\n",
       "    <tr style=\"text-align: right;\">\n",
       "      <th></th>\n",
       "      <th>title</th>\n",
       "      <th>description</th>\n",
       "      <th>Etiqueta</th>\n",
       "      <th>catalan_limpio</th>\n",
       "      <th>ODS1</th>\n",
       "      <th>ODS10</th>\n",
       "      <th>ODS11</th>\n",
       "      <th>ODS12</th>\n",
       "      <th>ODS13</th>\n",
       "      <th>ODS14</th>\n",
       "      <th>...</th>\n",
       "      <th>ODS17</th>\n",
       "      <th>ODS1O</th>\n",
       "      <th>ODS2</th>\n",
       "      <th>ODS3</th>\n",
       "      <th>ODS4</th>\n",
       "      <th>ODS5</th>\n",
       "      <th>ODS6</th>\n",
       "      <th>ODS8</th>\n",
       "      <th>ODS9</th>\n",
       "      <th>OSD3</th>\n",
       "    </tr>\n",
       "  </thead>\n",
       "  <tbody>\n",
       "    <tr>\n",
       "      <th>0</th>\n",
       "      <td>Diferència entre publicar idea, iniciativa o e...</td>\n",
       "      <td>Idea: Una llavor de canvi. La idea pot ser qua...</td>\n",
       "      <td>[ODS4]</td>\n",
       "      <td>idea: una llavor de canvi. la idea pot ser qua...</td>\n",
       "      <td>0</td>\n",
       "      <td>0</td>\n",
       "      <td>0</td>\n",
       "      <td>0</td>\n",
       "      <td>0</td>\n",
       "      <td>0</td>\n",
       "      <td>...</td>\n",
       "      <td>0</td>\n",
       "      <td>0</td>\n",
       "      <td>0</td>\n",
       "      <td>0</td>\n",
       "      <td>1</td>\n",
       "      <td>0</td>\n",
       "      <td>0</td>\n",
       "      <td>0</td>\n",
       "      <td>0</td>\n",
       "      <td>0</td>\n",
       "    </tr>\n",
       "    <tr>\n",
       "      <th>1</th>\n",
       "      <td>Publica una idea, sembra una llavor</td>\n",
       "      <td>El detall més simple pot ser motor de canvi. D...</td>\n",
       "      <td>[ODS3]</td>\n",
       "      <td>el detall més simple pot ser motor de canvi. d...</td>\n",
       "      <td>0</td>\n",
       "      <td>0</td>\n",
       "      <td>0</td>\n",
       "      <td>0</td>\n",
       "      <td>0</td>\n",
       "      <td>0</td>\n",
       "      <td>...</td>\n",
       "      <td>0</td>\n",
       "      <td>0</td>\n",
       "      <td>0</td>\n",
       "      <td>1</td>\n",
       "      <td>0</td>\n",
       "      <td>0</td>\n",
       "      <td>0</td>\n",
       "      <td>0</td>\n",
       "      <td>0</td>\n",
       "      <td>0</td>\n",
       "    </tr>\n",
       "    <tr>\n",
       "      <th>2</th>\n",
       "      <td>Publica una iniciativa: ets el primer brot</td>\n",
       "      <td>Si has tingut una idea i la vols fer realitat ...</td>\n",
       "      <td>[ODS11]</td>\n",
       "      <td>si has tingut una idea i la vols fer realitat ...</td>\n",
       "      <td>0</td>\n",
       "      <td>0</td>\n",
       "      <td>1</td>\n",
       "      <td>0</td>\n",
       "      <td>0</td>\n",
       "      <td>0</td>\n",
       "      <td>...</td>\n",
       "      <td>0</td>\n",
       "      <td>0</td>\n",
       "      <td>0</td>\n",
       "      <td>0</td>\n",
       "      <td>0</td>\n",
       "      <td>0</td>\n",
       "      <td>0</td>\n",
       "      <td>0</td>\n",
       "      <td>0</td>\n",
       "      <td>0</td>\n",
       "    </tr>\n",
       "    <tr>\n",
       "      <th>3</th>\n",
       "      <td>Publica un esdeveniment: comenceu a recollir e...</td>\n",
       "      <td>Tant si ets una entitat (associació, ONG, come...</td>\n",
       "      <td>[ODS11]</td>\n",
       "      <td>tant si ets una entitat (associació, ong, come...</td>\n",
       "      <td>0</td>\n",
       "      <td>0</td>\n",
       "      <td>1</td>\n",
       "      <td>0</td>\n",
       "      <td>0</td>\n",
       "      <td>0</td>\n",
       "      <td>...</td>\n",
       "      <td>0</td>\n",
       "      <td>0</td>\n",
       "      <td>0</td>\n",
       "      <td>0</td>\n",
       "      <td>0</td>\n",
       "      <td>0</td>\n",
       "      <td>0</td>\n",
       "      <td>0</td>\n",
       "      <td>0</td>\n",
       "      <td>0</td>\n",
       "    </tr>\n",
       "    <tr>\n",
       "      <th>4</th>\n",
       "      <td>Puede que cuando menos pienses, brote lo mejor...</td>\n",
       "      <td>Existe una creencia popular de que cuando las ...</td>\n",
       "      <td>[ODS3, ODS16]</td>\n",
       "      <td>existe una creencia popular de que cuando las ...</td>\n",
       "      <td>0</td>\n",
       "      <td>0</td>\n",
       "      <td>0</td>\n",
       "      <td>0</td>\n",
       "      <td>0</td>\n",
       "      <td>0</td>\n",
       "      <td>...</td>\n",
       "      <td>0</td>\n",
       "      <td>0</td>\n",
       "      <td>0</td>\n",
       "      <td>1</td>\n",
       "      <td>0</td>\n",
       "      <td>0</td>\n",
       "      <td>0</td>\n",
       "      <td>0</td>\n",
       "      <td>0</td>\n",
       "      <td>0</td>\n",
       "    </tr>\n",
       "  </tbody>\n",
       "</table>\n",
       "<p>5 rows × 22 columns</p>\n",
       "</div>"
      ],
      "text/plain": [
       "                                               title  \\\n",
       "0  Diferència entre publicar idea, iniciativa o e...   \n",
       "1                Publica una idea, sembra una llavor   \n",
       "2         Publica una iniciativa: ets el primer brot   \n",
       "3  Publica un esdeveniment: comenceu a recollir e...   \n",
       "4  Puede que cuando menos pienses, brote lo mejor...   \n",
       "\n",
       "                                         description       Etiqueta  \\\n",
       "0  Idea: Una llavor de canvi. La idea pot ser qua...         [ODS4]   \n",
       "1  El detall més simple pot ser motor de canvi. D...         [ODS3]   \n",
       "2  Si has tingut una idea i la vols fer realitat ...        [ODS11]   \n",
       "3  Tant si ets una entitat (associació, ONG, come...        [ODS11]   \n",
       "4  Existe una creencia popular de que cuando las ...  [ODS3, ODS16]   \n",
       "\n",
       "                                      catalan_limpio  ODS1  ODS10  ODS11  \\\n",
       "0  idea: una llavor de canvi. la idea pot ser qua...     0      0      0   \n",
       "1  el detall més simple pot ser motor de canvi. d...     0      0      0   \n",
       "2  si has tingut una idea i la vols fer realitat ...     0      0      1   \n",
       "3  tant si ets una entitat (associació, ong, come...     0      0      1   \n",
       "4  existe una creencia popular de que cuando las ...     0      0      0   \n",
       "\n",
       "   ODS12  ODS13  ODS14  ...  ODS17  ODS1O  ODS2  ODS3  ODS4  ODS5  ODS6  ODS8  \\\n",
       "0      0      0      0  ...      0      0     0     0     1     0     0     0   \n",
       "1      0      0      0  ...      0      0     0     1     0     0     0     0   \n",
       "2      0      0      0  ...      0      0     0     0     0     0     0     0   \n",
       "3      0      0      0  ...      0      0     0     0     0     0     0     0   \n",
       "4      0      0      0  ...      0      0     0     1     0     0     0     0   \n",
       "\n",
       "   ODS9  OSD3  \n",
       "0     0     0  \n",
       "1     0     0  \n",
       "2     0     0  \n",
       "3     0     0  \n",
       "4     0     0  \n",
       "\n",
       "[5 rows x 22 columns]"
      ]
     },
     "execution_count": 9,
     "metadata": {},
     "output_type": "execute_result"
    }
   ],
   "source": [
    "# Concatenamos el último dataframe con su correspondiente comentario para obtener así el formato de tabla que necesitamos\n",
    "# para moderlar\n",
    "\n",
    "#new_contenidos_castellano = pd.concat([contenidos_castellano[\"español\"], new_contenidos_castellano], axis=1)\n",
    "#new_contenidos_catalan = pd.concat([contenidos_catalan[\"catalan\"], new_contenidos_catalan], axis=1)\n",
    "df_new_contenidos = pd.concat([contenidos, new_contenidos1], axis=1)\n",
    "\n",
    "df_new_contenidos.head()"
   ]
  },
  {
   "cell_type": "markdown",
   "metadata": {},
   "source": [
    "# Creación de Modelos\n",
    "------------------------\n",
    "\n",
    "### KNN - Vecinos más cercanos (`Castellano`)"
   ]
  },
  {
   "cell_type": "code",
   "execution_count": 10,
   "metadata": {},
   "outputs": [
    {
     "name": "stdout",
     "output_type": "stream",
     "text": [
      "Index(['ODS10', 'ODS11', 'ODS12', 'ODS13', 'ODS14', 'ODS15', 'ODS16', 'ODS17',\n",
      "       'ODS1O', 'ODS2', 'ODS3', 'ODS4', 'ODS5', 'ODS6', 'ODS8', 'ODS9',\n",
      "       'OSD3'],\n",
      "      dtype='object')\n"
     ]
    }
   ],
   "source": [
    "print(df_new_contenidos.columns[5:])"
   ]
  },
  {
   "cell_type": "code",
   "execution_count": 11,
   "metadata": {},
   "outputs": [
    {
     "ename": "KeyError",
     "evalue": "'español_limpio'",
     "output_type": "error",
     "traceback": [
      "\u001b[1;31m---------------------------------------------------------------------------\u001b[0m",
      "\u001b[1;31mKeyError\u001b[0m                                  Traceback (most recent call last)",
      "\u001b[1;32m~\\Anaconda3\\lib\\site-packages\\pandas\\core\\indexes\\base.py\u001b[0m in \u001b[0;36mget_loc\u001b[1;34m(self, key, method, tolerance)\u001b[0m\n\u001b[0;32m   3360\u001b[0m             \u001b[1;32mtry\u001b[0m\u001b[1;33m:\u001b[0m\u001b[1;33m\u001b[0m\u001b[1;33m\u001b[0m\u001b[0m\n\u001b[1;32m-> 3361\u001b[1;33m                 \u001b[1;32mreturn\u001b[0m \u001b[0mself\u001b[0m\u001b[1;33m.\u001b[0m\u001b[0m_engine\u001b[0m\u001b[1;33m.\u001b[0m\u001b[0mget_loc\u001b[0m\u001b[1;33m(\u001b[0m\u001b[0mcasted_key\u001b[0m\u001b[1;33m)\u001b[0m\u001b[1;33m\u001b[0m\u001b[1;33m\u001b[0m\u001b[0m\n\u001b[0m\u001b[0;32m   3362\u001b[0m             \u001b[1;32mexcept\u001b[0m \u001b[0mKeyError\u001b[0m \u001b[1;32mas\u001b[0m \u001b[0merr\u001b[0m\u001b[1;33m:\u001b[0m\u001b[1;33m\u001b[0m\u001b[1;33m\u001b[0m\u001b[0m\n",
      "\u001b[1;32m~\\Anaconda3\\lib\\site-packages\\pandas\\_libs\\index.pyx\u001b[0m in \u001b[0;36mpandas._libs.index.IndexEngine.get_loc\u001b[1;34m()\u001b[0m\n",
      "\u001b[1;32m~\\Anaconda3\\lib\\site-packages\\pandas\\_libs\\index.pyx\u001b[0m in \u001b[0;36mpandas._libs.index.IndexEngine.get_loc\u001b[1;34m()\u001b[0m\n",
      "\u001b[1;32mpandas\\_libs\\hashtable_class_helper.pxi\u001b[0m in \u001b[0;36mpandas._libs.hashtable.PyObjectHashTable.get_item\u001b[1;34m()\u001b[0m\n",
      "\u001b[1;32mpandas\\_libs\\hashtable_class_helper.pxi\u001b[0m in \u001b[0;36mpandas._libs.hashtable.PyObjectHashTable.get_item\u001b[1;34m()\u001b[0m\n",
      "\u001b[1;31mKeyError\u001b[0m: 'español_limpio'",
      "\nThe above exception was the direct cause of the following exception:\n",
      "\u001b[1;31mKeyError\u001b[0m                                  Traceback (most recent call last)",
      "\u001b[1;32m<ipython-input-11-d8ae15c38cb1>\u001b[0m in \u001b[0;36m<module>\u001b[1;34m\u001b[0m\n\u001b[0;32m      1\u001b[0m \u001b[1;31m# Definimos un vector X con los comentarios y un vector y con las etiquetas (1 ó 0)\u001b[0m\u001b[1;33m\u001b[0m\u001b[1;33m\u001b[0m\u001b[1;33m\u001b[0m\u001b[0m\n\u001b[0;32m      2\u001b[0m \u001b[1;33m\u001b[0m\u001b[0m\n\u001b[1;32m----> 3\u001b[1;33m \u001b[0mX_castellano\u001b[0m \u001b[1;33m=\u001b[0m \u001b[0mdf_new_contenidos\u001b[0m\u001b[1;33m[\u001b[0m\u001b[1;34m\"español_limpio\"\u001b[0m\u001b[1;33m]\u001b[0m\u001b[1;33m\u001b[0m\u001b[1;33m\u001b[0m\u001b[0m\n\u001b[0m\u001b[0;32m      4\u001b[0m \u001b[0my_castellano\u001b[0m \u001b[1;33m=\u001b[0m \u001b[0mnp\u001b[0m\u001b[1;33m.\u001b[0m\u001b[0masarray\u001b[0m\u001b[1;33m(\u001b[0m\u001b[0mdf_new_contenidos\u001b[0m\u001b[1;33m[\u001b[0m\u001b[0mdf_new_contenidos\u001b[0m\u001b[1;33m.\u001b[0m\u001b[0mcolumns\u001b[0m\u001b[1;33m[\u001b[0m\u001b[1;36m5\u001b[0m\u001b[1;33m:\u001b[0m\u001b[1;33m]\u001b[0m\u001b[1;33m]\u001b[0m\u001b[1;33m)\u001b[0m\u001b[1;33m\u001b[0m\u001b[1;33m\u001b[0m\u001b[0m\n\u001b[0;32m      5\u001b[0m \u001b[1;33m\u001b[0m\u001b[0m\n",
      "\u001b[1;32m~\\Anaconda3\\lib\\site-packages\\pandas\\core\\frame.py\u001b[0m in \u001b[0;36m__getitem__\u001b[1;34m(self, key)\u001b[0m\n\u001b[0;32m   3456\u001b[0m             \u001b[1;32mif\u001b[0m \u001b[0mself\u001b[0m\u001b[1;33m.\u001b[0m\u001b[0mcolumns\u001b[0m\u001b[1;33m.\u001b[0m\u001b[0mnlevels\u001b[0m \u001b[1;33m>\u001b[0m \u001b[1;36m1\u001b[0m\u001b[1;33m:\u001b[0m\u001b[1;33m\u001b[0m\u001b[1;33m\u001b[0m\u001b[0m\n\u001b[0;32m   3457\u001b[0m                 \u001b[1;32mreturn\u001b[0m \u001b[0mself\u001b[0m\u001b[1;33m.\u001b[0m\u001b[0m_getitem_multilevel\u001b[0m\u001b[1;33m(\u001b[0m\u001b[0mkey\u001b[0m\u001b[1;33m)\u001b[0m\u001b[1;33m\u001b[0m\u001b[1;33m\u001b[0m\u001b[0m\n\u001b[1;32m-> 3458\u001b[1;33m             \u001b[0mindexer\u001b[0m \u001b[1;33m=\u001b[0m \u001b[0mself\u001b[0m\u001b[1;33m.\u001b[0m\u001b[0mcolumns\u001b[0m\u001b[1;33m.\u001b[0m\u001b[0mget_loc\u001b[0m\u001b[1;33m(\u001b[0m\u001b[0mkey\u001b[0m\u001b[1;33m)\u001b[0m\u001b[1;33m\u001b[0m\u001b[1;33m\u001b[0m\u001b[0m\n\u001b[0m\u001b[0;32m   3459\u001b[0m             \u001b[1;32mif\u001b[0m \u001b[0mis_integer\u001b[0m\u001b[1;33m(\u001b[0m\u001b[0mindexer\u001b[0m\u001b[1;33m)\u001b[0m\u001b[1;33m:\u001b[0m\u001b[1;33m\u001b[0m\u001b[1;33m\u001b[0m\u001b[0m\n\u001b[0;32m   3460\u001b[0m                 \u001b[0mindexer\u001b[0m \u001b[1;33m=\u001b[0m \u001b[1;33m[\u001b[0m\u001b[0mindexer\u001b[0m\u001b[1;33m]\u001b[0m\u001b[1;33m\u001b[0m\u001b[1;33m\u001b[0m\u001b[0m\n",
      "\u001b[1;32m~\\Anaconda3\\lib\\site-packages\\pandas\\core\\indexes\\base.py\u001b[0m in \u001b[0;36mget_loc\u001b[1;34m(self, key, method, tolerance)\u001b[0m\n\u001b[0;32m   3361\u001b[0m                 \u001b[1;32mreturn\u001b[0m \u001b[0mself\u001b[0m\u001b[1;33m.\u001b[0m\u001b[0m_engine\u001b[0m\u001b[1;33m.\u001b[0m\u001b[0mget_loc\u001b[0m\u001b[1;33m(\u001b[0m\u001b[0mcasted_key\u001b[0m\u001b[1;33m)\u001b[0m\u001b[1;33m\u001b[0m\u001b[1;33m\u001b[0m\u001b[0m\n\u001b[0;32m   3362\u001b[0m             \u001b[1;32mexcept\u001b[0m \u001b[0mKeyError\u001b[0m \u001b[1;32mas\u001b[0m \u001b[0merr\u001b[0m\u001b[1;33m:\u001b[0m\u001b[1;33m\u001b[0m\u001b[1;33m\u001b[0m\u001b[0m\n\u001b[1;32m-> 3363\u001b[1;33m                 \u001b[1;32mraise\u001b[0m \u001b[0mKeyError\u001b[0m\u001b[1;33m(\u001b[0m\u001b[0mkey\u001b[0m\u001b[1;33m)\u001b[0m \u001b[1;32mfrom\u001b[0m \u001b[0merr\u001b[0m\u001b[1;33m\u001b[0m\u001b[1;33m\u001b[0m\u001b[0m\n\u001b[0m\u001b[0;32m   3364\u001b[0m \u001b[1;33m\u001b[0m\u001b[0m\n\u001b[0;32m   3365\u001b[0m         \u001b[1;32mif\u001b[0m \u001b[0mis_scalar\u001b[0m\u001b[1;33m(\u001b[0m\u001b[0mkey\u001b[0m\u001b[1;33m)\u001b[0m \u001b[1;32mand\u001b[0m \u001b[0misna\u001b[0m\u001b[1;33m(\u001b[0m\u001b[0mkey\u001b[0m\u001b[1;33m)\u001b[0m \u001b[1;32mand\u001b[0m \u001b[1;32mnot\u001b[0m \u001b[0mself\u001b[0m\u001b[1;33m.\u001b[0m\u001b[0mhasnans\u001b[0m\u001b[1;33m:\u001b[0m\u001b[1;33m\u001b[0m\u001b[1;33m\u001b[0m\u001b[0m\n",
      "\u001b[1;31mKeyError\u001b[0m: 'español_limpio'"
     ]
    }
   ],
   "source": [
    "# Definimos un vector X con los comentarios y un vector y con las etiquetas (1 ó 0)\n",
    "\n",
    "X_castellano = df_new_contenidos[\"español_limpio\"]\n",
    "y_castellano = np.asarray(df_new_contenidos[df_new_contenidos.columns[5:]])\n",
    "\n",
    "# Iniciamos el paquete TfidfVectorizer \n",
    "\n",
    "vetorizar_castellano = TfidfVectorizer(max_features=3000, max_df=0.85)\n",
    "\n",
    "# Aplicamos el fit() en el vector de comentarios X\n",
    "vetorizar_castellano.fit(X_castellano)\n",
    "\n",
    "# Usando \"train_test_split\" partimos nuestro dataset en entrenamiento y test\n",
    "X_train_castellano, X_test_castellano, y_train_castellano, y_test_castellano = train_test_split(X_castellano\n",
    "                                                                                               ,y_castellano\n",
    "                                                                                               ,test_size=0.25\n",
    "                                                                                               ,random_state=42)\n",
    "\n",
    "# Transformamos nuestros datos\n",
    "\n",
    "X_castellano_train_tfidf = vetorizar_castellano.transform(X_train_castellano)\n",
    "X_castellano_test_tfidf = vetorizar_castellano.transform(X_test_castellano)\n",
    "\n",
    "# Vamos a usar Multilabel de los vecinos más cercanos\n",
    "\n",
    "mlknn_classifier_castellano = MLkNN()\n",
    "mlknn_classifier_castellano.fit(X_castellano_train_tfidf, y_train_castellano)"
   ]
  },
  {
   "cell_type": "markdown",
   "metadata": {},
   "source": [
    "### KNN - Vecinos más cercanos (`Catalán`)"
   ]
  },
  {
   "cell_type": "code",
   "execution_count": 12,
   "metadata": {},
   "outputs": [
    {
     "name": "stderr",
     "output_type": "stream",
     "text": [
      "C:\\Users\\pueygu01\\Anaconda3\\lib\\site-packages\\sklearn\\utils\\validation.py:67: FutureWarning: Pass n_neighbors=10 as keyword args. From version 0.25 passing these as positional arguments will result in an error\n",
      "  warnings.warn(\"Pass {} as keyword args. From version 0.25 \"\n"
     ]
    },
    {
     "data": {
      "text/plain": [
       "MLkNN()"
      ]
     },
     "execution_count": 12,
     "metadata": {},
     "output_type": "execute_result"
    }
   ],
   "source": [
    "# Definimos un vector X con los comentarios y un vector y con las etiquetas (1 ó 0)\n",
    "\n",
    "X_catalan = df_new_contenidos[\"catalan_limpio\"]\n",
    "y_catalan = np.asarray(df_new_contenidos[df_new_contenidos.columns[5:]])\n",
    "\n",
    "# Iniciamos el paquete TfidfVectorizer \n",
    "\n",
    "vetorizar_catalan = TfidfVectorizer(max_features=3000, max_df=0.85)\n",
    "\n",
    "# Aplicamos el fit() en el vector de comentarios X\n",
    "vetorizar_catalan.fit(X_catalan)\n",
    "\n",
    "# Usando \"train_test_split\" partimos nuestro dataset en entrenamiento y test\n",
    "X_train_catalan, X_test_catalan, y_train_catalan, y_test_catalan = train_test_split(X_catalan\n",
    "                                                                                   ,y_catalan\n",
    "                                                                                   ,test_size=0.25\n",
    "                                                                                   ,random_state=42)\n",
    "\n",
    "# Transformamos nuestros datos\n",
    "\n",
    "X_catalan_train_tfidf = vetorizar_catalan.transform(X_train_catalan)\n",
    "X_catalan_test_tfidf = vetorizar_catalan.transform(X_test_catalan)\n",
    "\n",
    "# Vamos a usar Multilabel de los vecinos más cercanos\n",
    "\n",
    "mlknn_classifier_catalan = MLkNN()\n",
    "mlknn_classifier_catalan.fit(X_catalan_train_tfidf, y_train_catalan)"
   ]
  },
  {
   "cell_type": "markdown",
   "metadata": {},
   "source": [
    "### Generación de las dos funciones. Una para cada idioma"
   ]
  },
  {
   "cell_type": "code",
   "execution_count": 13,
   "metadata": {},
   "outputs": [],
   "source": [
    "def identificador_ODS_castellano(comentario):\n",
    "    frase_tfidf = vetorizar_castellano.transform(comentario)\n",
    "    predicción = multilabel.inverse_transform(mlknn_classifier_castellano.predict(frase_tfidf))\n",
    "    return print(\"El/los ODS para ese comentario son;\", predicción)\n",
    "\n",
    "def identificador_ODS_catalan(comentario):\n",
    "    frase_tfidf = vetorizar_catalan.transform(comentario)\n",
    "    predicción = multilabel.inverse_transform(mlknn_classifier_catalan.predict(frase_tfidf))\n",
    "    return print(\"El/los ODS para ese comentario son;\", predicción)"
   ]
  },
  {
   "cell_type": "markdown",
   "metadata": {},
   "source": [
    "## Cargamos el dataset de la aplicació"
   ]
  },
  {
   "cell_type": "code",
   "execution_count": 14,
   "metadata": {},
   "outputs": [
    {
     "data": {
      "text/html": [
       "<div>\n",
       "<style scoped>\n",
       "    .dataframe tbody tr th:only-of-type {\n",
       "        vertical-align: middle;\n",
       "    }\n",
       "\n",
       "    .dataframe tbody tr th {\n",
       "        vertical-align: top;\n",
       "    }\n",
       "\n",
       "    .dataframe thead th {\n",
       "        text-align: right;\n",
       "    }\n",
       "</style>\n",
       "<table border=\"1\" class=\"dataframe\">\n",
       "  <thead>\n",
       "    <tr style=\"text-align: right;\">\n",
       "      <th></th>\n",
       "      <th>title</th>\n",
       "      <th>description</th>\n",
       "      <th>Etiqueta</th>\n",
       "    </tr>\n",
       "  </thead>\n",
       "  <tbody>\n",
       "    <tr>\n",
       "      <th>0</th>\n",
       "      <td>La SEXUALITAT AL TEU ABAST ??</td>\n",
       "      <td>Taller de Sexualitat: “El plaer masculí” amb l...</td>\n",
       "      <td>ODS5</td>\n",
       "    </tr>\n",
       "    <tr>\n",
       "      <th>1</th>\n",
       "      <td>Redescobreix el nostre entorn natural amb \"La ...</td>\n",
       "      <td>? Vols reconnectar amb la natura? Estimula tot...</td>\n",
       "      <td>ODS13</td>\n",
       "    </tr>\n",
       "    <tr>\n",
       "      <th>2</th>\n",
       "      <td>MULLA'T PER L'ESCLEROSI MÚLTIPLE.</td>\n",
       "      <td>Bon dia a tothom, com cada any per aquestes da...</td>\n",
       "      <td>ODS3</td>\n",
       "    </tr>\n",
       "    <tr>\n",
       "      <th>3</th>\n",
       "      <td>3a Gala Lírica \"Els Claustres de Breda\"</td>\n",
       "      <td>Llancem una iniciativa per ajudar al menjador ...</td>\n",
       "      <td>NaN</td>\n",
       "    </tr>\n",
       "  </tbody>\n",
       "</table>\n",
       "</div>"
      ],
      "text/plain": [
       "                                               title  \\\n",
       "0                      La SEXUALITAT AL TEU ABAST ??   \n",
       "1  Redescobreix el nostre entorn natural amb \"La ...   \n",
       "2                  MULLA'T PER L'ESCLEROSI MÚLTIPLE.   \n",
       "3            3a Gala Lírica \"Els Claustres de Breda\"   \n",
       "\n",
       "                                         description Etiqueta  \n",
       "0  Taller de Sexualitat: “El plaer masculí” amb l...     ODS5  \n",
       "1  ? Vols reconnectar amb la natura? Estimula tot...    ODS13  \n",
       "2  Bon dia a tothom, com cada any per aquestes da...     ODS3  \n",
       "3  Llancem una iniciativa per ajudar al menjador ...      NaN  "
      ]
     },
     "execution_count": 14,
     "metadata": {},
     "output_type": "execute_result"
    }
   ],
   "source": [
    "txt = pd.read_excel(\"contenidos y etiquetas_proba.xlsx\", index_col=None)\n",
    "txt.head(10)"
   ]
  },
  {
   "cell_type": "markdown",
   "metadata": {},
   "source": [
    "# Función para limpiar el texto"
   ]
  },
  {
   "cell_type": "code",
   "execution_count": 15,
   "metadata": {},
   "outputs": [],
   "source": [
    "#lista de stop-words específicos de nuestro corpus (aproximación)\n",
    "stop_words = ['el', 'la', 'lo', 'los', 'las', 'un', 'una', 'unos', 'unas', 'me', 'a', 'de', 'se', 'te','?']\n",
    "\n",
    "pattern2 = re.compile('[{}]'.format(re.escape(string.punctuation))) #elimina símbolos de puntuación\n",
    "\n",
    "def clean_text(text):\n",
    "    \"\"\"Limpiamos las menciones y URL del texto. Luego convertimos en tokens\n",
    "    eliminamos los tokens que son signos de puntuación, convertimos en\n",
    "    minúsculas y quitamos signos de puntuación. Para terminar\n",
    "    volvemos a convertir en cadena de texto\"\"\"\n",
    "    text = re.sub(r'@[\\w_]+|https?://[\\w_./]+', '', text) #elimina menciones y URL\n",
    "    tokens = nlp(text)\n",
    "    tokens = [tok.lower_ for tok in tokens if not tok.is_punct and not tok.is_space]\n",
    "    filtered_tokens = [pattern2.sub('', token) for token in tokens if not (token in stop_words)]\n",
    "    filtered_text = ' '.join(filtered_tokens)\n",
    "    \n",
    "    return filtered_text\n",
    "\n",
    "def lemmatize_text(text):\n",
    "    \"\"\"Convertimos el texto a tokens, extraemos el lema de cada token\n",
    "    y volvemos a convertir en cadena de texto\"\"\"\n",
    "    tokens = nlp(text)\n",
    "    lemmatized_tokens = [tok.lemma_ for tok in tokens]\n",
    "    lemmatized_text = ' '.join(lemmatized_tokens)\n",
    "    \n",
    "    return lemmatized_text"
   ]
  },
  {
   "cell_type": "markdown",
   "metadata": {},
   "source": [
    "## Iterable por el dat set de la aplicación y cuando encuentra, en la columna del ODS que esta vacio entonces aplcamos el modelo predictivo"
   ]
  },
  {
   "cell_type": "code",
   "execution_count": 16,
   "metadata": {},
   "outputs": [
    {
     "ename": "ValueError",
     "evalue": "Expected indicator for 18 classes, but got 17",
     "output_type": "error",
     "traceback": [
      "\u001b[1;31m---------------------------------------------------------------------------\u001b[0m",
      "\u001b[1;31mValueError\u001b[0m                                Traceback (most recent call last)",
      "\u001b[1;32m<ipython-input-16-b95894103a79>\u001b[0m in \u001b[0;36m<module>\u001b[1;34m\u001b[0m\n\u001b[0;32m      7\u001b[0m             \u001b[0mtxt\u001b[0m\u001b[1;33m[\u001b[0m\u001b[1;34m\"lemas\"\u001b[0m\u001b[1;33m]\u001b[0m\u001b[1;33m=\u001b[0m\u001b[0mtxt\u001b[0m\u001b[1;33m.\u001b[0m\u001b[0mdescription\u001b[0m\u001b[1;33m.\u001b[0m\u001b[0mapply\u001b[0m\u001b[1;33m(\u001b[0m\u001b[0mclean_text\u001b[0m\u001b[1;33m)\u001b[0m\u001b[1;33m\u001b[0m\u001b[1;33m\u001b[0m\u001b[0m\n\u001b[0;32m      8\u001b[0m             \u001b[0mtxt\u001b[0m\u001b[1;33m[\u001b[0m\u001b[1;34m\"lemas\"\u001b[0m\u001b[1;33m]\u001b[0m\u001b[1;33m=\u001b[0m\u001b[0mtxt\u001b[0m\u001b[1;33m.\u001b[0m\u001b[0mlemas\u001b[0m\u001b[1;33m.\u001b[0m\u001b[0mapply\u001b[0m\u001b[1;33m(\u001b[0m\u001b[0mlemmatize_text\u001b[0m\u001b[1;33m)\u001b[0m\u001b[1;33m\u001b[0m\u001b[1;33m\u001b[0m\u001b[0m\n\u001b[1;32m----> 9\u001b[1;33m             \u001b[0midentificador_ODS_catalan\u001b[0m\u001b[1;33m(\u001b[0m\u001b[1;33m[\u001b[0m\u001b[0mtxt\u001b[0m\u001b[1;33m[\u001b[0m\u001b[1;34m'description'\u001b[0m\u001b[1;33m]\u001b[0m\u001b[1;33m[\u001b[0m\u001b[0mt\u001b[0m\u001b[1;33m]\u001b[0m\u001b[1;33m]\u001b[0m\u001b[1;33m)\u001b[0m\u001b[1;33m\u001b[0m\u001b[1;33m\u001b[0m\u001b[0m\n\u001b[0m\u001b[0;32m     10\u001b[0m         \u001b[1;32melse\u001b[0m\u001b[1;33m:\u001b[0m\u001b[1;33m\u001b[0m\u001b[1;33m\u001b[0m\u001b[0m\n\u001b[0;32m     11\u001b[0m             \u001b[0mnlp\u001b[0m \u001b[1;33m=\u001b[0m \u001b[0mspacy\u001b[0m\u001b[1;33m.\u001b[0m\u001b[0mload\u001b[0m\u001b[1;33m(\u001b[0m\u001b[1;34m\"es_core_news_sm\"\u001b[0m\u001b[1;33m)\u001b[0m\u001b[1;33m\u001b[0m\u001b[1;33m\u001b[0m\u001b[0m\n",
      "\u001b[1;32m<ipython-input-13-4d881b51567e>\u001b[0m in \u001b[0;36midentificador_ODS_catalan\u001b[1;34m(comentario)\u001b[0m\n\u001b[0;32m      6\u001b[0m \u001b[1;32mdef\u001b[0m \u001b[0midentificador_ODS_catalan\u001b[0m\u001b[1;33m(\u001b[0m\u001b[0mcomentario\u001b[0m\u001b[1;33m)\u001b[0m\u001b[1;33m:\u001b[0m\u001b[1;33m\u001b[0m\u001b[1;33m\u001b[0m\u001b[0m\n\u001b[0;32m      7\u001b[0m     \u001b[0mfrase_tfidf\u001b[0m \u001b[1;33m=\u001b[0m \u001b[0mvetorizar_catalan\u001b[0m\u001b[1;33m.\u001b[0m\u001b[0mtransform\u001b[0m\u001b[1;33m(\u001b[0m\u001b[0mcomentario\u001b[0m\u001b[1;33m)\u001b[0m\u001b[1;33m\u001b[0m\u001b[1;33m\u001b[0m\u001b[0m\n\u001b[1;32m----> 8\u001b[1;33m     \u001b[0mpredicción\u001b[0m \u001b[1;33m=\u001b[0m \u001b[0mmultilabel\u001b[0m\u001b[1;33m.\u001b[0m\u001b[0minverse_transform\u001b[0m\u001b[1;33m(\u001b[0m\u001b[0mmlknn_classifier_catalan\u001b[0m\u001b[1;33m.\u001b[0m\u001b[0mpredict\u001b[0m\u001b[1;33m(\u001b[0m\u001b[0mfrase_tfidf\u001b[0m\u001b[1;33m)\u001b[0m\u001b[1;33m)\u001b[0m\u001b[1;33m\u001b[0m\u001b[1;33m\u001b[0m\u001b[0m\n\u001b[0m\u001b[0;32m      9\u001b[0m     \u001b[1;32mreturn\u001b[0m \u001b[0mprint\u001b[0m\u001b[1;33m(\u001b[0m\u001b[1;34m\"El/los ODS para ese comentario son;\"\u001b[0m\u001b[1;33m,\u001b[0m \u001b[0mpredicción\u001b[0m\u001b[1;33m)\u001b[0m\u001b[1;33m\u001b[0m\u001b[1;33m\u001b[0m\u001b[0m\n",
      "\u001b[1;32m~\\Anaconda3\\lib\\site-packages\\sklearn\\preprocessing\\_label.py\u001b[0m in \u001b[0;36minverse_transform\u001b[1;34m(self, yt)\u001b[0m\n\u001b[0;32m   1016\u001b[0m \u001b[1;33m\u001b[0m\u001b[0m\n\u001b[0;32m   1017\u001b[0m         \u001b[1;32mif\u001b[0m \u001b[0myt\u001b[0m\u001b[1;33m.\u001b[0m\u001b[0mshape\u001b[0m\u001b[1;33m[\u001b[0m\u001b[1;36m1\u001b[0m\u001b[1;33m]\u001b[0m \u001b[1;33m!=\u001b[0m \u001b[0mlen\u001b[0m\u001b[1;33m(\u001b[0m\u001b[0mself\u001b[0m\u001b[1;33m.\u001b[0m\u001b[0mclasses_\u001b[0m\u001b[1;33m)\u001b[0m\u001b[1;33m:\u001b[0m\u001b[1;33m\u001b[0m\u001b[1;33m\u001b[0m\u001b[0m\n\u001b[1;32m-> 1018\u001b[1;33m             raise ValueError('Expected indicator for {0} classes, but got {1}'\n\u001b[0m\u001b[0;32m   1019\u001b[0m                              .format(len(self.classes_), yt.shape[1]))\n\u001b[0;32m   1020\u001b[0m \u001b[1;33m\u001b[0m\u001b[0m\n",
      "\u001b[1;31mValueError\u001b[0m: Expected indicator for 18 classes, but got 17"
     ]
    }
   ],
   "source": [
    "DetectorFactory.seed = 0\n",
    "for t in txt.index:\n",
    "    if pd.isnull(txt['Etiqueta'][t]):\n",
    "        lengua=detect(txt['description'][t])\n",
    "        if lengua=='ca':\n",
    "            nlp = spacy.load(\"ca_core_news_sm\")\n",
    "            txt[\"lemas\"]=txt.description.apply(clean_text)\n",
    "            txt[\"lemas\"]=txt.lemas.apply(lemmatize_text)\n",
    "            identificador_ODS_catalan([txt['description'][t]])\n",
    "        else:\n",
    "            nlp = spacy.load(\"es_core_news_sm\")\n",
    "            txt.description.apply(clean_text)\n",
    "            txt.description.apply(lemmatize_text)\n",
    "            identificador_ODS_castellano([txt['description'][t]])\n",
    "    \n",
    "\n",
    "print(lengua)"
   ]
  },
  {
   "cell_type": "markdown",
   "metadata": {},
   "source": [
    "## Rendimiento de lo modelos"
   ]
  },
  {
   "cell_type": "code",
   "execution_count": 140,
   "metadata": {},
   "outputs": [
    {
     "ename": "NameError",
     "evalue": "name 'predicted' is not defined",
     "output_type": "error",
     "traceback": [
      "\u001b[1;31m---------------------------------------------------------------------------\u001b[0m",
      "\u001b[1;31mNameError\u001b[0m                                 Traceback (most recent call last)",
      "\u001b[1;32m<ipython-input-140-7605643bc96f>\u001b[0m in \u001b[0;36m<module>\u001b[1;34m\u001b[0m\n\u001b[1;32m----> 1\u001b[1;33m \u001b[0mprint\u001b[0m\u001b[1;33m(\u001b[0m\u001b[0maccuracy_score\u001b[0m\u001b[1;33m(\u001b[0m\u001b[0my_test\u001b[0m\u001b[1;33m,\u001b[0m \u001b[0mpredicted\u001b[0m\u001b[1;33m)\u001b[0m\u001b[1;33m)\u001b[0m\u001b[1;33m\u001b[0m\u001b[1;33m\u001b[0m\u001b[0m\n\u001b[0m\u001b[0;32m      2\u001b[0m \u001b[0mprint\u001b[0m\u001b[1;33m(\u001b[0m\u001b[0mhamming_loss\u001b[0m\u001b[1;33m(\u001b[0m\u001b[0my_test\u001b[0m\u001b[1;33m,\u001b[0m \u001b[0mpredicted\u001b[0m\u001b[1;33m)\u001b[0m\u001b[1;33m)\u001b[0m\u001b[1;33m\u001b[0m\u001b[1;33m\u001b[0m\u001b[0m\n",
      "\u001b[1;31mNameError\u001b[0m: name 'predicted' is not defined"
     ]
    }
   ],
   "source": [
    "print(accuracy_score(y_test, predicted))\n",
    "print(hamming_loss(y_test, predicted))"
   ]
  },
  {
   "cell_type": "code",
   "execution_count": 18,
   "metadata": {},
   "outputs": [],
   "source": [
    "prediction = mlknn_classifier_catalan.predict(X_catalan_test_tfidf)"
   ]
  },
  {
   "cell_type": "code",
   "execution_count": 19,
   "metadata": {},
   "outputs": [
    {
     "name": "stdout",
     "output_type": "stream",
     "text": [
      "0.496\n"
     ]
    }
   ],
   "source": [
    "print(accuracy_score(y_test_catalan,prediction))"
   ]
  },
  {
   "cell_type": "code",
   "execution_count": 23,
   "metadata": {},
   "outputs": [
    {
     "ename": "AttributeError",
     "evalue": "'numpy.ndarray' object has no attribute 'describe'",
     "output_type": "error",
     "traceback": [
      "\u001b[1;31m---------------------------------------------------------------------------\u001b[0m",
      "\u001b[1;31mAttributeError\u001b[0m                            Traceback (most recent call last)",
      "\u001b[1;32m<ipython-input-23-5d213da32ac5>\u001b[0m in \u001b[0;36m<module>\u001b[1;34m\u001b[0m\n\u001b[1;32m----> 1\u001b[1;33m \u001b[0my_test_catalan\u001b[0m\u001b[1;33m.\u001b[0m\u001b[0mdescribe\u001b[0m\u001b[1;33m\u001b[0m\u001b[1;33m\u001b[0m\u001b[0m\n\u001b[0m",
      "\u001b[1;31mAttributeError\u001b[0m: 'numpy.ndarray' object has no attribute 'describe'"
     ]
    }
   ],
   "source": [
    "y_test_catalan"
   ]
  },
  {
   "cell_type": "markdown",
   "metadata": {},
   "source": [
    "### Relevancia binaria\n"
   ]
  },
  {
   "cell_type": "code",
   "execution_count": 25,
   "metadata": {},
   "outputs": [],
   "source": [
    "from skmultilearn.problem_transform import BinaryRelevance\n",
    "from sklearn.naive_bayes import GaussianNB"
   ]
  },
  {
   "cell_type": "code",
   "execution_count": 26,
   "metadata": {},
   "outputs": [
    {
     "data": {
      "text/plain": [
       "BinaryRelevance(classifier=GaussianNB(), require_dense=[True, True])"
      ]
     },
     "execution_count": 26,
     "metadata": {},
     "output_type": "execute_result"
    }
   ],
   "source": [
    "bin_class_catalan = BinaryRelevance(GaussianNB())\n",
    "bin_class_catalan.fit(X_catalan_train_tfidf, y_train_catalan)"
   ]
  },
  {
   "cell_type": "code",
   "execution_count": 27,
   "metadata": {},
   "outputs": [
    {
     "name": "stdout",
     "output_type": "stream",
     "text": [
      "0.44\n"
     ]
    }
   ],
   "source": [
    "prediccion_catalan = bin_class_catalan.predict(X_catalan_test_tfidf)\n",
    "print(accuracy_score(prediccion_catalan, y_test_catalan))"
   ]
  },
  {
   "cell_type": "code",
   "execution_count": 18,
   "metadata": {},
   "outputs": [
    {
     "name": "stdout",
     "output_type": "stream",
     "text": [
      "0.52\n"
     ]
    }
   ],
   "source": [
    "from sklearn.linear_model import LogisticRegression\n",
    "from skmultilearn.problem_transform import LabelPowerset\n",
    "label_powerset_catalan = LabelPowerset(LogisticRegression())\n",
    "# Training logistic regression model on train data\n",
    "label_powerset_catalan.fit(X_catalan_train_tfidf, y_train_catalan)\n",
    "\n",
    "prediccion_catalan = label_powerset_catalan.predict(X_catalan_test_tfidf)\n",
    "print(accuracy_score(prediccion_catalan, y_test_catalan))"
   ]
  },
  {
   "cell_type": "code",
   "execution_count": null,
   "metadata": {},
   "outputs": [],
   "source": []
  }
 ],
 "metadata": {
  "kernelspec": {
   "display_name": "Python 3",
   "language": "python",
   "name": "python3"
  },
  "language_info": {
   "codemirror_mode": {
    "name": "ipython",
    "version": 3
   },
   "file_extension": ".py",
   "mimetype": "text/x-python",
   "name": "python",
   "nbconvert_exporter": "python",
   "pygments_lexer": "ipython3",
   "version": "3.8.5"
  },
  "toc": {
   "base_numbering": 1,
   "nav_menu": {},
   "number_sections": true,
   "sideBar": true,
   "skip_h1_title": false,
   "title_cell": "Table of Contents",
   "title_sidebar": "Contents",
   "toc_cell": false,
   "toc_position": {},
   "toc_section_display": true,
   "toc_window_display": false
  },
  "varInspector": {
   "cols": {
    "lenName": 16,
    "lenType": 16,
    "lenVar": 40
   },
   "kernels_config": {
    "python": {
     "delete_cmd_postfix": "",
     "delete_cmd_prefix": "del ",
     "library": "var_list.py",
     "varRefreshCmd": "print(var_dic_list())"
    },
    "r": {
     "delete_cmd_postfix": ") ",
     "delete_cmd_prefix": "rm(",
     "library": "var_list.r",
     "varRefreshCmd": "cat(var_dic_list()) "
    }
   },
   "types_to_exclude": [
    "module",
    "function",
    "builtin_function_or_method",
    "instance",
    "_Feature"
   ],
   "window_display": false
  }
 },
 "nbformat": 4,
 "nbformat_minor": 4
}
