{
 "cells": [
  {
   "cell_type": "markdown",
   "metadata": {},
   "source": [
    "# Radar ODS\n",
    "`Información esencial` Un ODS es un objetivo de desarrollo sostenible. Este notebook hará uso del Procesamiento de Lenguaje Natural para predecir ODS's mediante el análisis de comentarios escritos por usuarios em la aplicación de eAgora.\n",
    "\n",
    "Existe un apartado donde se define una función que leerá una tabla con datos etiquetados y cuando se le añada un nuevo comentario sin etiquetar, se hará la predicción de este comentario."
   ]
  },
  {
   "cell_type": "code",
   "execution_count": 1,
   "metadata": {},
   "outputs": [],
   "source": [
    "# Importamos todos los paquetes necesarios para poder llevar a cabo el ejercicio\n",
    "import MySQLdb\n",
    "import pandas as pd\n",
    "import numpy as np\n",
    "import re\n",
    "import string\n",
    "import spacy\n",
    "from sklearn.model_selection import train_test_split\n",
    "from sklearn.feature_extraction.text import TfidfVectorizer\n",
    "from skmultilearn.adapt import MLkNN\n",
    "from sklearn.metrics import hamming_loss, accuracy_score\n",
    "from sklearn.preprocessing import MultiLabelBinarizer\n",
    "from langdetect import detect, DetectorFactory\n",
    "from skmultilearn.problem_transform import BinaryRelevance\n",
    "from sklearn.naive_bayes import GaussianNB\n",
    "from skmultilearn.problem_transform import LabelPowerset\n",
    "from sklearn.linear_model import LogisticRegression\n",
    "import sklearn.metrics as skm"
   ]
  },
  {
   "cell_type": "code",
   "execution_count": 2,
   "metadata": {
    "scrolled": true
   },
   "outputs": [
    {
     "data": {
      "text/html": [
       "<div>\n",
       "<style scoped>\n",
       "    .dataframe tbody tr th:only-of-type {\n",
       "        vertical-align: middle;\n",
       "    }\n",
       "\n",
       "    .dataframe tbody tr th {\n",
       "        vertical-align: top;\n",
       "    }\n",
       "\n",
       "    .dataframe thead th {\n",
       "        text-align: right;\n",
       "    }\n",
       "</style>\n",
       "<table border=\"1\" class=\"dataframe\">\n",
       "  <thead>\n",
       "    <tr style=\"text-align: right;\">\n",
       "      <th></th>\n",
       "      <th>español</th>\n",
       "      <th>catalan</th>\n",
       "      <th>Etiqueta</th>\n",
       "    </tr>\n",
       "  </thead>\n",
       "  <tbody>\n",
       "    <tr>\n",
       "      <th>0</th>\n",
       "      <td>erradicar la pobreza extrema para todas las pe...</td>\n",
       "      <td>erradicar la pobresa extrema per a totes les p...</td>\n",
       "      <td>ODS1</td>\n",
       "    </tr>\n",
       "    <tr>\n",
       "      <th>1</th>\n",
       "      <td>reducir al menos a la mitad la proporción de h...</td>\n",
       "      <td>reduir almenys a la meitat la proporció d'home...</td>\n",
       "      <td>ODS1</td>\n",
       "    </tr>\n",
       "    <tr>\n",
       "      <th>2</th>\n",
       "      <td>garantizar que todos los hombres y mujeres, en...</td>\n",
       "      <td>garantir que tots els homes i dones, en partic...</td>\n",
       "      <td>ODS1</td>\n",
       "    </tr>\n",
       "    <tr>\n",
       "      <th>3</th>\n",
       "      <td>omentar la resiliencia de los pobres y las per...</td>\n",
       "      <td>omentar la resiliència dels pobres i les perso...</td>\n",
       "      <td>ODS1</td>\n",
       "    </tr>\n",
       "    <tr>\n",
       "      <th>4</th>\n",
       "      <td>reducir su exposición y vulnerabilidad a los f...</td>\n",
       "      <td>reduir la seva exposició i vulnerabilitat als ...</td>\n",
       "      <td>ODS1</td>\n",
       "    </tr>\n",
       "  </tbody>\n",
       "</table>\n",
       "</div>"
      ],
      "text/plain": [
       "                                             español  \\\n",
       "0  erradicar la pobreza extrema para todas las pe...   \n",
       "1  reducir al menos a la mitad la proporción de h...   \n",
       "2  garantizar que todos los hombres y mujeres, en...   \n",
       "3  omentar la resiliencia de los pobres y las per...   \n",
       "4  reducir su exposición y vulnerabilidad a los f...   \n",
       "\n",
       "                                             catalan Etiqueta  \n",
       "0  erradicar la pobresa extrema per a totes les p...     ODS1  \n",
       "1  reduir almenys a la meitat la proporció d'home...     ODS1  \n",
       "2  garantir que tots els homes i dones, en partic...     ODS1  \n",
       "3  omentar la resiliència dels pobres i les perso...     ODS1  \n",
       "4  reduir la seva exposició i vulnerabilitat als ...     ODS1  "
      ]
     },
     "execution_count": 2,
     "metadata": {},
     "output_type": "execute_result"
    }
   ],
   "source": [
    "# Importamos el dataset de entrenamiento\n",
    "# Dataset generado a mano de manera artificial \n",
    "\n",
    "contenidos = pd.read_excel(r\"C:\\Users\\pueygu01\\Python Programs\\Máster - Proyecto\\dataset - español y catalan final version.xlsx\")\n",
    "contenidos.head()"
   ]
  },
  {
   "cell_type": "code",
   "execution_count": 3,
   "metadata": {},
   "outputs": [],
   "source": [
    "# Podemos limpiar un poco el texto de mayúsculas y comillas. Para ello usamos una función que nos lo haga en todo el dataset\n",
    "\n",
    "def clean_text(text):\n",
    "    text = text.lower()\n",
    "    text = text.strip(' ')\n",
    "    text = text.strip('\"')\n",
    "    return text"
   ]
  },
  {
   "cell_type": "code",
   "execution_count": 4,
   "metadata": {},
   "outputs": [
    {
     "data": {
      "text/html": [
       "<div>\n",
       "<style scoped>\n",
       "    .dataframe tbody tr th:only-of-type {\n",
       "        vertical-align: middle;\n",
       "    }\n",
       "\n",
       "    .dataframe tbody tr th {\n",
       "        vertical-align: top;\n",
       "    }\n",
       "\n",
       "    .dataframe thead th {\n",
       "        text-align: right;\n",
       "    }\n",
       "</style>\n",
       "<table border=\"1\" class=\"dataframe\">\n",
       "  <thead>\n",
       "    <tr style=\"text-align: right;\">\n",
       "      <th></th>\n",
       "      <th>español</th>\n",
       "      <th>catalan</th>\n",
       "      <th>Etiqueta</th>\n",
       "      <th>español_limpio</th>\n",
       "      <th>catalan_limpio</th>\n",
       "    </tr>\n",
       "  </thead>\n",
       "  <tbody>\n",
       "    <tr>\n",
       "      <th>0</th>\n",
       "      <td>erradicar la pobreza extrema para todas las pe...</td>\n",
       "      <td>erradicar la pobresa extrema per a totes les p...</td>\n",
       "      <td>ODS1</td>\n",
       "      <td>erradicar la pobreza extrema para todas las pe...</td>\n",
       "      <td>erradicar la pobresa extrema per a totes les p...</td>\n",
       "    </tr>\n",
       "    <tr>\n",
       "      <th>1</th>\n",
       "      <td>reducir al menos a la mitad la proporción de h...</td>\n",
       "      <td>reduir almenys a la meitat la proporció d'home...</td>\n",
       "      <td>ODS1</td>\n",
       "      <td>reducir al menos a la mitad la proporción de h...</td>\n",
       "      <td>reduir almenys a la meitat la proporció d'home...</td>\n",
       "    </tr>\n",
       "    <tr>\n",
       "      <th>2</th>\n",
       "      <td>garantizar que todos los hombres y mujeres, en...</td>\n",
       "      <td>garantir que tots els homes i dones, en partic...</td>\n",
       "      <td>ODS1</td>\n",
       "      <td>garantizar que todos los hombres y mujeres, en...</td>\n",
       "      <td>garantir que tots els homes i dones, en partic...</td>\n",
       "    </tr>\n",
       "    <tr>\n",
       "      <th>3</th>\n",
       "      <td>omentar la resiliencia de los pobres y las per...</td>\n",
       "      <td>omentar la resiliència dels pobres i les perso...</td>\n",
       "      <td>ODS1</td>\n",
       "      <td>omentar la resiliencia de los pobres y las per...</td>\n",
       "      <td>omentar la resiliència dels pobres i les perso...</td>\n",
       "    </tr>\n",
       "    <tr>\n",
       "      <th>4</th>\n",
       "      <td>reducir su exposición y vulnerabilidad a los f...</td>\n",
       "      <td>reduir la seva exposició i vulnerabilitat als ...</td>\n",
       "      <td>ODS1</td>\n",
       "      <td>reducir su exposición y vulnerabilidad a los f...</td>\n",
       "      <td>reduir la seva exposició i vulnerabilitat als ...</td>\n",
       "    </tr>\n",
       "  </tbody>\n",
       "</table>\n",
       "</div>"
      ],
      "text/plain": [
       "                                             español  \\\n",
       "0  erradicar la pobreza extrema para todas las pe...   \n",
       "1  reducir al menos a la mitad la proporción de h...   \n",
       "2  garantizar que todos los hombres y mujeres, en...   \n",
       "3  omentar la resiliencia de los pobres y las per...   \n",
       "4  reducir su exposición y vulnerabilidad a los f...   \n",
       "\n",
       "                                             catalan Etiqueta  \\\n",
       "0  erradicar la pobresa extrema per a totes les p...     ODS1   \n",
       "1  reduir almenys a la meitat la proporció d'home...     ODS1   \n",
       "2  garantir que tots els homes i dones, en partic...     ODS1   \n",
       "3  omentar la resiliència dels pobres i les perso...     ODS1   \n",
       "4  reduir la seva exposició i vulnerabilitat als ...     ODS1   \n",
       "\n",
       "                                      español_limpio  \\\n",
       "0  erradicar la pobreza extrema para todas las pe...   \n",
       "1  reducir al menos a la mitad la proporción de h...   \n",
       "2  garantizar que todos los hombres y mujeres, en...   \n",
       "3  omentar la resiliencia de los pobres y las per...   \n",
       "4  reducir su exposición y vulnerabilidad a los f...   \n",
       "\n",
       "                                      catalan_limpio  \n",
       "0  erradicar la pobresa extrema per a totes les p...  \n",
       "1  reduir almenys a la meitat la proporció d'home...  \n",
       "2  garantir que tots els homes i dones, en partic...  \n",
       "3  omentar la resiliència dels pobres i les perso...  \n",
       "4  reduir la seva exposició i vulnerabilitat als ...  "
      ]
     },
     "execution_count": 4,
     "metadata": {},
     "output_type": "execute_result"
    }
   ],
   "source": [
    "# Aplicamos la función anterior\n",
    "contenidos[\"español_limpio\"]=contenidos.español.apply(clean_text)\n",
    "contenidos[\"catalan_limpio\"]=contenidos.catalan.apply(clean_text)\n",
    "contenidos.head()"
   ]
  },
  {
   "cell_type": "code",
   "execution_count": 5,
   "metadata": {},
   "outputs": [],
   "source": [
    "# IMPORTANTE:  Para poder aplicar un modelo de prediccón de multi-etiqueta, es necesario que las etiquetas sean un conjunto de listas\n",
    "# Pasamos a lista nuestras etiquetas\n",
    "\n",
    "contenidos[\"Etiqueta\"] = contenidos[\"Etiqueta\"].str.split()"
   ]
  },
  {
   "cell_type": "code",
   "execution_count": 6,
   "metadata": {},
   "outputs": [],
   "source": [
    "# Mediante MultiLabelBinarizer() podemos extraer todas las etiquetas y transponerlas a columnas\n",
    "\n",
    "multilabel = MultiLabelBinarizer()\n",
    "\n",
    "# Renombramos \n",
    "new_contenidos = multilabel.fit_transform(contenidos[\"Etiqueta\"])\n"
   ]
  },
  {
   "cell_type": "code",
   "execution_count": 7,
   "metadata": {
    "scrolled": true
   },
   "outputs": [
    {
     "data": {
      "text/plain": [
       "array(['ODS1', 'ODS10', 'ODS11', 'ODS12', 'ODS13', 'ODS14', 'ODS15',\n",
       "       'ODS16', 'ODS17', 'ODS2', 'ODS3', 'ODS4', 'ODS5', 'ODS6', 'ODS7',\n",
       "       'ODS8', 'ODS9'], dtype=object)"
      ]
     },
     "execution_count": 7,
     "metadata": {},
     "output_type": "execute_result"
    }
   ],
   "source": [
    "# Para ver todas las diferentes etiquetas, llamamos a \"classes_\" mediante miltilabel\n",
    "multilabel.classes_"
   ]
  },
  {
   "cell_type": "code",
   "execution_count": 8,
   "metadata": {
    "scrolled": true
   },
   "outputs": [
    {
     "data": {
      "text/html": [
       "<div>\n",
       "<style scoped>\n",
       "    .dataframe tbody tr th:only-of-type {\n",
       "        vertical-align: middle;\n",
       "    }\n",
       "\n",
       "    .dataframe tbody tr th {\n",
       "        vertical-align: top;\n",
       "    }\n",
       "\n",
       "    .dataframe thead th {\n",
       "        text-align: right;\n",
       "    }\n",
       "</style>\n",
       "<table border=\"1\" class=\"dataframe\">\n",
       "  <thead>\n",
       "    <tr style=\"text-align: right;\">\n",
       "      <th></th>\n",
       "      <th>ODS1</th>\n",
       "      <th>ODS10</th>\n",
       "      <th>ODS11</th>\n",
       "      <th>ODS12</th>\n",
       "      <th>ODS13</th>\n",
       "      <th>ODS14</th>\n",
       "      <th>ODS15</th>\n",
       "      <th>ODS16</th>\n",
       "      <th>ODS17</th>\n",
       "      <th>ODS2</th>\n",
       "      <th>ODS3</th>\n",
       "      <th>ODS4</th>\n",
       "      <th>ODS5</th>\n",
       "      <th>ODS6</th>\n",
       "      <th>ODS7</th>\n",
       "      <th>ODS8</th>\n",
       "      <th>ODS9</th>\n",
       "    </tr>\n",
       "  </thead>\n",
       "  <tbody>\n",
       "    <tr>\n",
       "      <th>0</th>\n",
       "      <td>1</td>\n",
       "      <td>0</td>\n",
       "      <td>0</td>\n",
       "      <td>0</td>\n",
       "      <td>0</td>\n",
       "      <td>0</td>\n",
       "      <td>0</td>\n",
       "      <td>0</td>\n",
       "      <td>0</td>\n",
       "      <td>0</td>\n",
       "      <td>0</td>\n",
       "      <td>0</td>\n",
       "      <td>0</td>\n",
       "      <td>0</td>\n",
       "      <td>0</td>\n",
       "      <td>0</td>\n",
       "      <td>0</td>\n",
       "    </tr>\n",
       "    <tr>\n",
       "      <th>1</th>\n",
       "      <td>1</td>\n",
       "      <td>0</td>\n",
       "      <td>0</td>\n",
       "      <td>0</td>\n",
       "      <td>0</td>\n",
       "      <td>0</td>\n",
       "      <td>0</td>\n",
       "      <td>0</td>\n",
       "      <td>0</td>\n",
       "      <td>0</td>\n",
       "      <td>0</td>\n",
       "      <td>0</td>\n",
       "      <td>0</td>\n",
       "      <td>0</td>\n",
       "      <td>0</td>\n",
       "      <td>0</td>\n",
       "      <td>0</td>\n",
       "    </tr>\n",
       "    <tr>\n",
       "      <th>2</th>\n",
       "      <td>1</td>\n",
       "      <td>0</td>\n",
       "      <td>0</td>\n",
       "      <td>0</td>\n",
       "      <td>0</td>\n",
       "      <td>0</td>\n",
       "      <td>0</td>\n",
       "      <td>0</td>\n",
       "      <td>0</td>\n",
       "      <td>0</td>\n",
       "      <td>0</td>\n",
       "      <td>0</td>\n",
       "      <td>0</td>\n",
       "      <td>0</td>\n",
       "      <td>0</td>\n",
       "      <td>0</td>\n",
       "      <td>0</td>\n",
       "    </tr>\n",
       "    <tr>\n",
       "      <th>3</th>\n",
       "      <td>1</td>\n",
       "      <td>0</td>\n",
       "      <td>0</td>\n",
       "      <td>0</td>\n",
       "      <td>0</td>\n",
       "      <td>0</td>\n",
       "      <td>0</td>\n",
       "      <td>0</td>\n",
       "      <td>0</td>\n",
       "      <td>0</td>\n",
       "      <td>0</td>\n",
       "      <td>0</td>\n",
       "      <td>0</td>\n",
       "      <td>0</td>\n",
       "      <td>0</td>\n",
       "      <td>0</td>\n",
       "      <td>0</td>\n",
       "    </tr>\n",
       "    <tr>\n",
       "      <th>4</th>\n",
       "      <td>1</td>\n",
       "      <td>0</td>\n",
       "      <td>0</td>\n",
       "      <td>0</td>\n",
       "      <td>0</td>\n",
       "      <td>0</td>\n",
       "      <td>0</td>\n",
       "      <td>0</td>\n",
       "      <td>0</td>\n",
       "      <td>0</td>\n",
       "      <td>0</td>\n",
       "      <td>0</td>\n",
       "      <td>0</td>\n",
       "      <td>0</td>\n",
       "      <td>0</td>\n",
       "      <td>0</td>\n",
       "      <td>0</td>\n",
       "    </tr>\n",
       "  </tbody>\n",
       "</table>\n",
       "</div>"
      ],
      "text/plain": [
       "   ODS1  ODS10  ODS11  ODS12  ODS13  ODS14  ODS15  ODS16  ODS17  ODS2  ODS3  \\\n",
       "0     1      0      0      0      0      0      0      0      0     0     0   \n",
       "1     1      0      0      0      0      0      0      0      0     0     0   \n",
       "2     1      0      0      0      0      0      0      0      0     0     0   \n",
       "3     1      0      0      0      0      0      0      0      0     0     0   \n",
       "4     1      0      0      0      0      0      0      0      0     0     0   \n",
       "\n",
       "   ODS4  ODS5  ODS6  ODS7  ODS8  ODS9  \n",
       "0     0     0     0     0     0     0  \n",
       "1     0     0     0     0     0     0  \n",
       "2     0     0     0     0     0     0  \n",
       "3     0     0     0     0     0     0  \n",
       "4     0     0     0     0     0     0  "
      ]
     },
     "execution_count": 8,
     "metadata": {},
     "output_type": "execute_result"
    }
   ],
   "source": [
    "# Para poder trabajar, lo tenemos que pasar a DataFrame y aprovechamos para poner las etiquetas como columnas\n",
    "\n",
    "new_contenidos1 = pd.DataFrame(new_contenidos\n",
    "             , columns = multilabel.classes_)\n",
    "new_contenidos1.head()"
   ]
  },
  {
   "cell_type": "code",
   "execution_count": 9,
   "metadata": {},
   "outputs": [
    {
     "data": {
      "text/html": [
       "<div>\n",
       "<style scoped>\n",
       "    .dataframe tbody tr th:only-of-type {\n",
       "        vertical-align: middle;\n",
       "    }\n",
       "\n",
       "    .dataframe tbody tr th {\n",
       "        vertical-align: top;\n",
       "    }\n",
       "\n",
       "    .dataframe thead th {\n",
       "        text-align: right;\n",
       "    }\n",
       "</style>\n",
       "<table border=\"1\" class=\"dataframe\">\n",
       "  <thead>\n",
       "    <tr style=\"text-align: right;\">\n",
       "      <th></th>\n",
       "      <th>español</th>\n",
       "      <th>catalan</th>\n",
       "      <th>Etiqueta</th>\n",
       "      <th>español_limpio</th>\n",
       "      <th>catalan_limpio</th>\n",
       "      <th>ODS1</th>\n",
       "      <th>ODS10</th>\n",
       "      <th>ODS11</th>\n",
       "      <th>ODS12</th>\n",
       "      <th>ODS13</th>\n",
       "      <th>...</th>\n",
       "      <th>ODS16</th>\n",
       "      <th>ODS17</th>\n",
       "      <th>ODS2</th>\n",
       "      <th>ODS3</th>\n",
       "      <th>ODS4</th>\n",
       "      <th>ODS5</th>\n",
       "      <th>ODS6</th>\n",
       "      <th>ODS7</th>\n",
       "      <th>ODS8</th>\n",
       "      <th>ODS9</th>\n",
       "    </tr>\n",
       "  </thead>\n",
       "  <tbody>\n",
       "    <tr>\n",
       "      <th>0</th>\n",
       "      <td>erradicar la pobreza extrema para todas las pe...</td>\n",
       "      <td>erradicar la pobresa extrema per a totes les p...</td>\n",
       "      <td>[ODS1]</td>\n",
       "      <td>erradicar la pobreza extrema para todas las pe...</td>\n",
       "      <td>erradicar la pobresa extrema per a totes les p...</td>\n",
       "      <td>1</td>\n",
       "      <td>0</td>\n",
       "      <td>0</td>\n",
       "      <td>0</td>\n",
       "      <td>0</td>\n",
       "      <td>...</td>\n",
       "      <td>0</td>\n",
       "      <td>0</td>\n",
       "      <td>0</td>\n",
       "      <td>0</td>\n",
       "      <td>0</td>\n",
       "      <td>0</td>\n",
       "      <td>0</td>\n",
       "      <td>0</td>\n",
       "      <td>0</td>\n",
       "      <td>0</td>\n",
       "    </tr>\n",
       "    <tr>\n",
       "      <th>1</th>\n",
       "      <td>reducir al menos a la mitad la proporción de h...</td>\n",
       "      <td>reduir almenys a la meitat la proporció d'home...</td>\n",
       "      <td>[ODS1]</td>\n",
       "      <td>reducir al menos a la mitad la proporción de h...</td>\n",
       "      <td>reduir almenys a la meitat la proporció d'home...</td>\n",
       "      <td>1</td>\n",
       "      <td>0</td>\n",
       "      <td>0</td>\n",
       "      <td>0</td>\n",
       "      <td>0</td>\n",
       "      <td>...</td>\n",
       "      <td>0</td>\n",
       "      <td>0</td>\n",
       "      <td>0</td>\n",
       "      <td>0</td>\n",
       "      <td>0</td>\n",
       "      <td>0</td>\n",
       "      <td>0</td>\n",
       "      <td>0</td>\n",
       "      <td>0</td>\n",
       "      <td>0</td>\n",
       "    </tr>\n",
       "    <tr>\n",
       "      <th>2</th>\n",
       "      <td>garantizar que todos los hombres y mujeres, en...</td>\n",
       "      <td>garantir que tots els homes i dones, en partic...</td>\n",
       "      <td>[ODS1]</td>\n",
       "      <td>garantizar que todos los hombres y mujeres, en...</td>\n",
       "      <td>garantir que tots els homes i dones, en partic...</td>\n",
       "      <td>1</td>\n",
       "      <td>0</td>\n",
       "      <td>0</td>\n",
       "      <td>0</td>\n",
       "      <td>0</td>\n",
       "      <td>...</td>\n",
       "      <td>0</td>\n",
       "      <td>0</td>\n",
       "      <td>0</td>\n",
       "      <td>0</td>\n",
       "      <td>0</td>\n",
       "      <td>0</td>\n",
       "      <td>0</td>\n",
       "      <td>0</td>\n",
       "      <td>0</td>\n",
       "      <td>0</td>\n",
       "    </tr>\n",
       "    <tr>\n",
       "      <th>3</th>\n",
       "      <td>omentar la resiliencia de los pobres y las per...</td>\n",
       "      <td>omentar la resiliència dels pobres i les perso...</td>\n",
       "      <td>[ODS1]</td>\n",
       "      <td>omentar la resiliencia de los pobres y las per...</td>\n",
       "      <td>omentar la resiliència dels pobres i les perso...</td>\n",
       "      <td>1</td>\n",
       "      <td>0</td>\n",
       "      <td>0</td>\n",
       "      <td>0</td>\n",
       "      <td>0</td>\n",
       "      <td>...</td>\n",
       "      <td>0</td>\n",
       "      <td>0</td>\n",
       "      <td>0</td>\n",
       "      <td>0</td>\n",
       "      <td>0</td>\n",
       "      <td>0</td>\n",
       "      <td>0</td>\n",
       "      <td>0</td>\n",
       "      <td>0</td>\n",
       "      <td>0</td>\n",
       "    </tr>\n",
       "    <tr>\n",
       "      <th>4</th>\n",
       "      <td>reducir su exposición y vulnerabilidad a los f...</td>\n",
       "      <td>reduir la seva exposició i vulnerabilitat als ...</td>\n",
       "      <td>[ODS1]</td>\n",
       "      <td>reducir su exposición y vulnerabilidad a los f...</td>\n",
       "      <td>reduir la seva exposició i vulnerabilitat als ...</td>\n",
       "      <td>1</td>\n",
       "      <td>0</td>\n",
       "      <td>0</td>\n",
       "      <td>0</td>\n",
       "      <td>0</td>\n",
       "      <td>...</td>\n",
       "      <td>0</td>\n",
       "      <td>0</td>\n",
       "      <td>0</td>\n",
       "      <td>0</td>\n",
       "      <td>0</td>\n",
       "      <td>0</td>\n",
       "      <td>0</td>\n",
       "      <td>0</td>\n",
       "      <td>0</td>\n",
       "      <td>0</td>\n",
       "    </tr>\n",
       "  </tbody>\n",
       "</table>\n",
       "<p>5 rows × 22 columns</p>\n",
       "</div>"
      ],
      "text/plain": [
       "                                             español  \\\n",
       "0  erradicar la pobreza extrema para todas las pe...   \n",
       "1  reducir al menos a la mitad la proporción de h...   \n",
       "2  garantizar que todos los hombres y mujeres, en...   \n",
       "3  omentar la resiliencia de los pobres y las per...   \n",
       "4  reducir su exposición y vulnerabilidad a los f...   \n",
       "\n",
       "                                             catalan Etiqueta  \\\n",
       "0  erradicar la pobresa extrema per a totes les p...   [ODS1]   \n",
       "1  reduir almenys a la meitat la proporció d'home...   [ODS1]   \n",
       "2  garantir que tots els homes i dones, en partic...   [ODS1]   \n",
       "3  omentar la resiliència dels pobres i les perso...   [ODS1]   \n",
       "4  reduir la seva exposició i vulnerabilitat als ...   [ODS1]   \n",
       "\n",
       "                                      español_limpio  \\\n",
       "0  erradicar la pobreza extrema para todas las pe...   \n",
       "1  reducir al menos a la mitad la proporción de h...   \n",
       "2  garantizar que todos los hombres y mujeres, en...   \n",
       "3  omentar la resiliencia de los pobres y las per...   \n",
       "4  reducir su exposición y vulnerabilidad a los f...   \n",
       "\n",
       "                                      catalan_limpio  ODS1  ODS10  ODS11  \\\n",
       "0  erradicar la pobresa extrema per a totes les p...     1      0      0   \n",
       "1  reduir almenys a la meitat la proporció d'home...     1      0      0   \n",
       "2  garantir que tots els homes i dones, en partic...     1      0      0   \n",
       "3  omentar la resiliència dels pobres i les perso...     1      0      0   \n",
       "4  reduir la seva exposició i vulnerabilitat als ...     1      0      0   \n",
       "\n",
       "   ODS12  ODS13  ...  ODS16  ODS17  ODS2  ODS3  ODS4  ODS5  ODS6  ODS7  ODS8  \\\n",
       "0      0      0  ...      0      0     0     0     0     0     0     0     0   \n",
       "1      0      0  ...      0      0     0     0     0     0     0     0     0   \n",
       "2      0      0  ...      0      0     0     0     0     0     0     0     0   \n",
       "3      0      0  ...      0      0     0     0     0     0     0     0     0   \n",
       "4      0      0  ...      0      0     0     0     0     0     0     0     0   \n",
       "\n",
       "   ODS9  \n",
       "0     0  \n",
       "1     0  \n",
       "2     0  \n",
       "3     0  \n",
       "4     0  \n",
       "\n",
       "[5 rows x 22 columns]"
      ]
     },
     "execution_count": 9,
     "metadata": {},
     "output_type": "execute_result"
    }
   ],
   "source": [
    "# Concatenamos el último dataframe con su correspondiente comentario para obtener así el formato de tabla que necesitamos\n",
    "# para moderlar\n",
    "# Ahora ya tenemos los comentarios junto con sus etiquetas en columnas con cero o uno\n",
    "\n",
    "df_new_contenidos = pd.concat([contenidos, new_contenidos1], axis=1)\n",
    "\n",
    "df_new_contenidos.head()"
   ]
  },
  {
   "cell_type": "markdown",
   "metadata": {},
   "source": [
    "# Creación de Modelos\n",
    "------------------------\n",
    "En este siguiente apartado vamos crear los modelos y a evaluar su rendimiento. Recordamos que el dataset de entrenamiento ha sido creado a mano de manera artificial y por tanto es muy pequeño para lograr calidad en el modelo.\n",
    "\n",
    "\n",
    "### `Definición de molelos en Castellano`\n",
    "Vamos a usar el dataset con los comentarios en castellano para entrenar y validar nuestro modelo"
   ]
  },
  {
   "cell_type": "code",
   "execution_count": 10,
   "metadata": {},
   "outputs": [
    {
     "name": "stderr",
     "output_type": "stream",
     "text": [
      "C:\\Users\\pueygu01\\Anaconda3\\lib\\site-packages\\sklearn\\utils\\validation.py:67: FutureWarning: Pass n_neighbors=10 as keyword args. From version 0.25 passing these as positional arguments will result in an error\n",
      "  warnings.warn(\"Pass {} as keyword args. From version 0.25 \"\n"
     ]
    },
    {
     "data": {
      "text/plain": [
       "LabelPowerset(classifier=LogisticRegression(), require_dense=[True, True])"
      ]
     },
     "execution_count": 10,
     "metadata": {},
     "output_type": "execute_result"
    }
   ],
   "source": [
    "# Definimos un vector X con los comentarios y un vector y con las etiquetas (1 ó 0)\n",
    "\n",
    "X_castellano = df_new_contenidos[\"español_limpio\"]\n",
    "y_castellano = np.asarray(df_new_contenidos[df_new_contenidos.columns[5:]])\n",
    "\n",
    "# Iniciamos el paquete TfidfVectorizer \n",
    "\n",
    "vetorizar_castellano = TfidfVectorizer(max_features=3000, max_df=0.85)\n",
    "\n",
    "# Aplicamos el fit() en el vector de comentarios X\n",
    "vetorizar_castellano.fit(X_castellano)\n",
    "\n",
    "# Usando \"train_test_split\" partimos nuestro dataset en entrenamiento y test\n",
    "X_train_castellano, X_test_castellano, y_train_castellano, y_test_castellano = train_test_split(X_castellano\n",
    "                                                                                               ,y_castellano\n",
    "                                                                                               ,test_size=0.25\n",
    "                                                                                               ,random_state=42)\n",
    "\n",
    "# Transformamos nuestros datos\n",
    "\n",
    "X_castellano_train_tfidf = vetorizar_castellano.transform(X_train_castellano)\n",
    "X_castellano_test_tfidf = vetorizar_castellano.transform(X_test_castellano)\n",
    "\n",
    "#################################################################################\n",
    "############## Clasificación Multilabel de los vecinos más cercanos #############\n",
    "#################################################################################\n",
    "\n",
    "mlknn_classifier_castellano = MLkNN()\n",
    "mlknn_classifier_castellano.fit(X_castellano_train_tfidf, y_train_castellano)\n",
    "\n",
    "#################################################################################\n",
    "######################## Relevancia Binaria con Naive Bayes #####################\n",
    "#################################################################################\n",
    "\n",
    "bin_class_castellano = BinaryRelevance(GaussianNB())\n",
    "bin_class_castellano.fit(X_castellano_train_tfidf, y_train_castellano)\n",
    "\n",
    "#################################################################################\n",
    "##################### Power Label Set con Regresión logística ###################\n",
    "#################################################################################\n",
    "\n",
    "label_powerset_castellano = LabelPowerset(LogisticRegression())\n",
    "label_powerset_castellano.fit(X_castellano_train_tfidf, y_train_castellano)\n"
   ]
  },
  {
   "cell_type": "markdown",
   "metadata": {},
   "source": [
    "### `Definición de molelos en Catalán`\n",
    "Vamos a usar el dataset con los comentarios en catalán para entrenar y validar nuestro modelo"
   ]
  },
  {
   "cell_type": "code",
   "execution_count": 11,
   "metadata": {},
   "outputs": [
    {
     "name": "stderr",
     "output_type": "stream",
     "text": [
      "C:\\Users\\pueygu01\\Anaconda3\\lib\\site-packages\\sklearn\\utils\\validation.py:67: FutureWarning: Pass n_neighbors=10 as keyword args. From version 0.25 passing these as positional arguments will result in an error\n",
      "  warnings.warn(\"Pass {} as keyword args. From version 0.25 \"\n"
     ]
    },
    {
     "data": {
      "text/plain": [
       "LabelPowerset(classifier=LogisticRegression(), require_dense=[True, True])"
      ]
     },
     "execution_count": 11,
     "metadata": {},
     "output_type": "execute_result"
    }
   ],
   "source": [
    "# Definimos un vector X con los comentarios y un vector y con las etiquetas (1 ó 0)\n",
    "\n",
    "X_catalan = df_new_contenidos[\"catalan_limpio\"]\n",
    "y_catalan = np.asarray(df_new_contenidos[df_new_contenidos.columns[5:]])\n",
    "\n",
    "# Iniciamos el paquete TfidfVectorizer \n",
    "\n",
    "vetorizar_catalan = TfidfVectorizer(max_features=3000, max_df=0.85)\n",
    "\n",
    "# Aplicamos el fit() en el vector de comentarios X\n",
    "vetorizar_catalan.fit(X_catalan)\n",
    "\n",
    "# Usando \"train_test_split\" partimos nuestro dataset en entrenamiento y test\n",
    "X_train_catalan, X_test_catalan, y_train_catalan, y_test_catalan = train_test_split(X_catalan\n",
    "                                                                                   ,y_catalan\n",
    "                                                                                   ,test_size=0.25\n",
    "                                                                                   ,random_state=42)\n",
    "\n",
    "# Transformamos nuestros datos\n",
    "\n",
    "X_catalan_train_tfidf = vetorizar_catalan.transform(X_train_catalan)\n",
    "X_catalan_test_tfidf = vetorizar_catalan.transform(X_test_catalan)\n",
    "\n",
    "#################################################################################\n",
    "############## Clasificación Multilabel de los vecinos más cercanos #############\n",
    "#################################################################################\n",
    "\n",
    "mlknn_classifier_catalan = MLkNN()\n",
    "mlknn_classifier_catalan.fit(X_catalan_train_tfidf, y_train_catalan)\n",
    "\n",
    "#################################################################################\n",
    "######################## Relevancia Binaria con Naive Bayes #####################\n",
    "#################################################################################\n",
    "\n",
    "bin_class_catalan = BinaryRelevance(GaussianNB())\n",
    "bin_class_catalan.fit(X_catalan_train_tfidf, y_train_catalan)\n",
    "\n",
    "#################################################################################\n",
    "##################### Power Label Set con Regresión logística ###################\n",
    "#################################################################################\n",
    "\n",
    "label_powerset_catalan = LabelPowerset(LogisticRegression())\n",
    "label_powerset_catalan.fit(X_catalan_train_tfidf, y_train_catalan)\n",
    "\n"
   ]
  },
  {
   "cell_type": "markdown",
   "metadata": {},
   "source": [
    "### Generación de las dos funciones. Una para cada idioma\n",
    "Las siguientes funciones se usarán para llamar al modelo entrenado y predecir ODSs en castellano o catalán"
   ]
  },
  {
   "cell_type": "code",
   "execution_count": 12,
   "metadata": {},
   "outputs": [],
   "source": [
    "def identificador_ODS_castellano(comentario):\n",
    "    frase_tfidf = vetorizar_castellano.transform(comentario)\n",
    "    predicción = multilabel.inverse_transform(mlknn_classifier_castellano.predict(frase_tfidf))\n",
    "    return print(\"El/los ODS para ese comentario son;\", predicción)\n",
    "\n",
    "def identificador_ODS_catalan(comentario):\n",
    "    frase_tfidf = vetorizar_catalan.transform(comentario)\n",
    "    predicción = multilabel.inverse_transform(mlknn_classifier_catalan.predict(frase_tfidf))\n",
    "    return print(\"El/los ODS para ese comentario son;\", predicción)"
   ]
  },
  {
   "cell_type": "markdown",
   "metadata": {},
   "source": [
    "## Función para limpiar el texto\n",
    "Estas funciones nos permiten limpiar el texto para poder obtener una mejor predicción"
   ]
  },
  {
   "cell_type": "code",
   "execution_count": 13,
   "metadata": {},
   "outputs": [],
   "source": [
    "#lista de stop-words específicos de nuestro corpus (aproximación)\n",
    "stop_words = ['el', 'la', 'lo', 'los', 'las', 'un', 'una', 'unos', 'unas', 'me', 'a', 'de', 'se', 'te','?']\n",
    "\n",
    "pattern2 = re.compile('[{}]'.format(re.escape(string.punctuation))) #elimina símbolos de puntuación\n",
    "\n",
    "def clean_text(text):\n",
    "    \"\"\"Limpiamos las menciones y URL del texto. Luego convertimos en tokens\n",
    "    eliminamos los tokens que son signos de puntuación, convertimos en\n",
    "    minúsculas y quitamos signos de puntuación. Para terminar\n",
    "    volvemos a convertir en cadena de texto\"\"\"\n",
    "    text = re.sub(r'@[\\w_]+|https?://[\\w_./]+', '', text) #elimina menciones y URL\n",
    "    tokens = nlp(text)\n",
    "    tokens = [tok.lower_ for tok in tokens if not tok.is_punct and not tok.is_space]\n",
    "    filtered_tokens = [pattern2.sub('', token) for token in tokens if not (token in stop_words)]\n",
    "    filtered_text = ' '.join(filtered_tokens)\n",
    "    \n",
    "    return filtered_text\n",
    "\n",
    "def lemmatize_text(text):\n",
    "    \"\"\"Convertimos el texto a tokens, extraemos el lema de cada token\n",
    "    y volvemos a convertir en cadena de texto\"\"\"\n",
    "    tokens = nlp(text)\n",
    "    lemmatized_tokens = [tok.lemma_ for tok in tokens]\n",
    "    lemmatized_text = ' '.join(lemmatized_tokens)\n",
    "    \n",
    "    return lemmatized_text"
   ]
  },
  {
   "cell_type": "markdown",
   "metadata": {},
   "source": [
    "# Rendimiento de modelos\n",
    "En este apartado calcularemos el accuracy de nuestros modelos para ver cuál de ellos es el que mejor predice."
   ]
  },
  {
   "cell_type": "markdown",
   "metadata": {},
   "source": [
    "### MLkNN - Vecinos más cercanos"
   ]
  },
  {
   "cell_type": "code",
   "execution_count": 14,
   "metadata": {},
   "outputs": [
    {
     "name": "stdout",
     "output_type": "stream",
     "text": [
      "--------------------------------------------------------------\n",
      "-------------- Accuracy de los modelos MLKnn ------------------\n",
      "---------------------------------------------------------------\n",
      "El accuracy del modelo MLKnn en CASTELLANO es ; 0.5647382920110193\n",
      "El accuracy del modelo MLKnn en CATALÁN es    ; 0.5426997245179064\n"
     ]
    }
   ],
   "source": [
    "prediccion_castellano = mlknn_classifier_castellano.predict(X_castellano_test_tfidf)\n",
    "prediccion_catalan = mlknn_classifier_catalan.predict(X_catalan_test_tfidf)\n",
    "print(\"--------------------------------------------------------------\")\n",
    "print(\"-------------- Accuracy de los modelos MLKnn ------------------\")\n",
    "print(\"---------------------------------------------------------------\")\n",
    "print(\"El accuracy del modelo MLKnn en CASTELLANO es ;\",accuracy_score(y_test_castellano,prediccion_castellano))\n",
    "print(\"El accuracy del modelo MLKnn en CATALÁN es    ;\",accuracy_score(y_test_catalan,prediccion_catalan))"
   ]
  },
  {
   "cell_type": "markdown",
   "metadata": {},
   "source": [
    "### Relevancia binaria con Naive - Bayes\n"
   ]
  },
  {
   "cell_type": "code",
   "execution_count": 15,
   "metadata": {},
   "outputs": [
    {
     "name": "stdout",
     "output_type": "stream",
     "text": [
      "--------------------------------------------------------------\n",
      "------- Accuracy de los modelos ocn Relevancia binaria -------\n",
      "---------------------------------------------------------------\n",
      "El accuracy del modelo de Relevancia binaria en CASTELLANO es ; 0.49586776859504134\n",
      "El accuracy del modelo de Relevancia binaria en CATALÁN es    ; 0.4820936639118457\n"
     ]
    }
   ],
   "source": [
    "prediccion_castellano = bin_class_castellano.predict(X_castellano_test_tfidf)\n",
    "prediccion_catalan = bin_class_catalan.predict(X_catalan_test_tfidf)\n",
    "print(\"--------------------------------------------------------------\")\n",
    "print(\"------- Accuracy de los modelos ocn Relevancia binaria -------\")\n",
    "print(\"---------------------------------------------------------------\")\n",
    "print(\"El accuracy del modelo de Relevancia binaria en CASTELLANO es ;\",accuracy_score(prediccion_castellano, y_test_castellano))\n",
    "print(\"El accuracy del modelo de Relevancia binaria en CATALÁN es    ;\",accuracy_score(prediccion_catalan, y_test_catalan))"
   ]
  },
  {
   "cell_type": "markdown",
   "metadata": {},
   "source": [
    "### Label Powerset con regresión logística"
   ]
  },
  {
   "cell_type": "markdown",
   "metadata": {},
   "source": [
    "#### `Castellano`"
   ]
  },
  {
   "cell_type": "code",
   "execution_count": 16,
   "metadata": {},
   "outputs": [
    {
     "name": "stdout",
     "output_type": "stream",
     "text": [
      "--------------------------------------------------------------\n",
      "------- Accuracy de los modelos ocn Relevancia binaria -------\n",
      "---------------------------------------------------------------\n",
      "El accuracy del modelo Label Powerset en CASTELLANO es ; 0.650137741046832\n",
      "El accuracy del modelo Label Powerset en CATALÁN es    ; 0.6473829201101928\n"
     ]
    }
   ],
   "source": [
    "prediccion_castellano = label_powerset_castellano.predict(X_castellano_test_tfidf)\n",
    "prediccion_catalan = label_powerset_catalan.predict(X_catalan_test_tfidf)\n",
    "print(\"--------------------------------------------------------------\")\n",
    "print(\"------- Accuracy de los modelos ocn Relevancia binaria -------\")\n",
    "print(\"---------------------------------------------------------------\")\n",
    "\n",
    "\n",
    "print(\"El accuracy del modelo Label Powerset en CASTELLANO es ;\",accuracy_score(prediccion_castellano, y_test_castellano))\n",
    "print(\"El accuracy del modelo Label Powerset en CATALÁN es    ;\",accuracy_score(prediccion_catalan, y_test_catalan))"
   ]
  },
  {
   "cell_type": "markdown",
   "metadata": {},
   "source": [
    "## Precisión de modelos\n",
    "Vamos a ver la precisión de los modelos en los dos idiomas para los 3 modelos diferentes"
   ]
  },
  {
   "cell_type": "code",
   "execution_count": 17,
   "metadata": {},
   "outputs": [
    {
     "name": "stdout",
     "output_type": "stream",
     "text": [
      "              precision    recall  f1-score   support\n",
      "\n",
      "           0       0.89      0.79      0.84        42\n",
      "           1       0.76      0.36      0.49        36\n",
      "           2       0.52      0.48      0.50        23\n",
      "           3       1.00      0.40      0.57         5\n",
      "           4       0.56      0.38      0.45        39\n",
      "           5       0.74      0.40      0.52        42\n",
      "           6       0.72      0.47      0.57        38\n",
      "           7       0.76      0.71      0.73        31\n",
      "           8       0.80      0.33      0.47        12\n",
      "           9       1.00      0.75      0.86        24\n",
      "          10       0.96      0.89      0.92        27\n",
      "          11       0.85      0.74      0.79        31\n",
      "          12       0.79      0.39      0.52        28\n",
      "          13       1.00      0.43      0.60         7\n",
      "          14       0.00      0.00      0.00         1\n",
      "          15       0.65      0.50      0.57        26\n",
      "          16       0.85      0.46      0.59        24\n",
      "\n",
      "   micro avg       0.78      0.55      0.64       436\n",
      "   macro avg       0.76      0.50      0.59       436\n",
      "weighted avg       0.77      0.55      0.63       436\n",
      " samples avg       0.53      0.55      0.53       436\n",
      "\n"
     ]
    },
    {
     "name": "stderr",
     "output_type": "stream",
     "text": [
      "C:\\Users\\pueygu01\\Anaconda3\\lib\\site-packages\\sklearn\\metrics\\_classification.py:1221: UndefinedMetricWarning: Precision and F-score are ill-defined and being set to 0.0 in labels with no predicted samples. Use `zero_division` parameter to control this behavior.\n",
      "  _warn_prf(average, modifier, msg_start, len(result))\n",
      "C:\\Users\\pueygu01\\Anaconda3\\lib\\site-packages\\sklearn\\metrics\\_classification.py:1221: UndefinedMetricWarning: Precision and F-score are ill-defined and being set to 0.0 in samples with no predicted labels. Use `zero_division` parameter to control this behavior.\n",
      "  _warn_prf(average, modifier, msg_start, len(result))\n"
     ]
    }
   ],
   "source": [
    "##############################################################################\n",
    "############## Relevancia Binaria con Naive Bayes ############################\n",
    "\n",
    "# Catalán\n",
    "\n",
    "prediccion_catalan = bin_class_catalan.predict(X_catalan_test_tfidf)\n",
    "#cm = skm.multilabel_confusion_matrix(y_test_castellano,prediccion_castellano)\n",
    "#print(cm)\n",
    "print(skm.classification_report(y_test_catalan,prediccion_catalan))"
   ]
  },
  {
   "cell_type": "code",
   "execution_count": 18,
   "metadata": {},
   "outputs": [
    {
     "name": "stdout",
     "output_type": "stream",
     "text": [
      "              precision    recall  f1-score   support\n",
      "\n",
      "           0       0.92      0.81      0.86        42\n",
      "           1       0.63      0.33      0.44        36\n",
      "           2       0.56      0.43      0.49        23\n",
      "           3       1.00      0.60      0.75         5\n",
      "           4       0.57      0.41      0.48        39\n",
      "           5       0.81      0.40      0.54        42\n",
      "           6       0.81      0.55      0.66        38\n",
      "           7       0.79      0.74      0.77        31\n",
      "           8       0.80      0.33      0.47        12\n",
      "           9       0.94      0.71      0.81        24\n",
      "          10       0.96      0.89      0.92        27\n",
      "          11       0.88      0.74      0.81        31\n",
      "          12       0.80      0.43      0.56        28\n",
      "          13       1.00      0.29      0.44         7\n",
      "          14       0.00      0.00      0.00         1\n",
      "          15       0.68      0.50      0.58        26\n",
      "          16       0.85      0.46      0.59        24\n",
      "\n",
      "   micro avg       0.80      0.56      0.65       436\n",
      "   macro avg       0.77      0.51      0.60       436\n",
      "weighted avg       0.79      0.56      0.64       436\n",
      " samples avg       0.55      0.56      0.55       436\n",
      "\n"
     ]
    },
    {
     "name": "stderr",
     "output_type": "stream",
     "text": [
      "C:\\Users\\pueygu01\\Anaconda3\\lib\\site-packages\\sklearn\\metrics\\_classification.py:1221: UndefinedMetricWarning: Precision and F-score are ill-defined and being set to 0.0 in labels with no predicted samples. Use `zero_division` parameter to control this behavior.\n",
      "  _warn_prf(average, modifier, msg_start, len(result))\n",
      "C:\\Users\\pueygu01\\Anaconda3\\lib\\site-packages\\sklearn\\metrics\\_classification.py:1221: UndefinedMetricWarning: Precision and F-score are ill-defined and being set to 0.0 in samples with no predicted labels. Use `zero_division` parameter to control this behavior.\n",
      "  _warn_prf(average, modifier, msg_start, len(result))\n"
     ]
    }
   ],
   "source": [
    "##############################################################################\n",
    "############## Relevancia Binaria con Naive Bayes ############################\n",
    "\n",
    "# Castellano\n",
    "\n",
    "prediccion_castellano = bin_class_castellano.predict(X_castellano_test_tfidf)\n",
    "#cm = skm.multilabel_confusion_matrix(y_test_castellano,prediccion_castellano)\n",
    "#print(cm)\n",
    "print(skm.classification_report(y_test_castellano,prediccion_castellano))"
   ]
  },
  {
   "cell_type": "code",
   "execution_count": 19,
   "metadata": {},
   "outputs": [
    {
     "name": "stdout",
     "output_type": "stream",
     "text": [
      "              precision    recall  f1-score   support\n",
      "\n",
      "           0       0.86      0.90      0.88        42\n",
      "           1       0.71      0.33      0.45        36\n",
      "           2       0.79      0.65      0.71        23\n",
      "           3       0.00      0.00      0.00         5\n",
      "           4       0.77      0.51      0.62        39\n",
      "           5       1.00      0.57      0.73        42\n",
      "           6       0.83      0.53      0.65        38\n",
      "           7       0.93      0.81      0.86        31\n",
      "           8       0.83      0.42      0.56        12\n",
      "           9       0.85      0.92      0.88        24\n",
      "          10       0.78      0.93      0.85        27\n",
      "          11       1.00      0.77      0.87        31\n",
      "          12       0.81      0.46      0.59        28\n",
      "          13       0.83      0.71      0.77         7\n",
      "          14       0.00      0.00      0.00         1\n",
      "          15       0.70      0.54      0.61        26\n",
      "          16       0.79      0.46      0.58        24\n",
      "\n",
      "   micro avg       0.84      0.63      0.72       436\n",
      "   macro avg       0.73      0.56      0.62       436\n",
      "weighted avg       0.83      0.63      0.70       436\n",
      " samples avg       0.63      0.62      0.62       436\n",
      "\n"
     ]
    }
   ],
   "source": [
    "##############################################################################\n",
    "######################## Vecinos más cercanos ################################\n",
    "\n",
    "# Castellano\n",
    "\n",
    "prediccion_castellano = mlknn_classifier_castellano.predict(X_castellano_test_tfidf)\n",
    "#conf_matrix = skm.multilabel_confusion_matrix(y_test_castellano,prediccion_castellano)\n",
    "#print(conf_matrix)\n",
    "print( skm.classification_report(y_test_castellano,prediccion_castellano))"
   ]
  },
  {
   "cell_type": "code",
   "execution_count": 20,
   "metadata": {},
   "outputs": [
    {
     "name": "stdout",
     "output_type": "stream",
     "text": [
      "              precision    recall  f1-score   support\n",
      "\n",
      "           0       0.84      0.88      0.86        42\n",
      "           1       0.71      0.33      0.45        36\n",
      "           2       0.83      0.65      0.73        23\n",
      "           3       0.00      0.00      0.00         5\n",
      "           4       0.81      0.54      0.65        39\n",
      "           5       0.96      0.55      0.70        42\n",
      "           6       0.90      0.47      0.62        38\n",
      "           7       0.91      0.68      0.78        31\n",
      "           8       1.00      0.17      0.29        12\n",
      "           9       0.92      0.92      0.92        24\n",
      "          10       0.92      0.89      0.91        27\n",
      "          11       1.00      0.81      0.89        31\n",
      "          12       0.79      0.68      0.73        28\n",
      "          13       0.71      0.71      0.71         7\n",
      "          14       1.00      1.00      1.00         1\n",
      "          15       0.72      0.50      0.59        26\n",
      "          16       0.73      0.33      0.46        24\n",
      "\n",
      "   micro avg       0.86      0.61      0.71       436\n",
      "   macro avg       0.81      0.59      0.66       436\n",
      "weighted avg       0.85      0.61      0.69       436\n",
      " samples avg       0.62      0.61      0.60       436\n",
      "\n"
     ]
    }
   ],
   "source": [
    "##############################################################################\n",
    "######################## Vecinos más cercanos ################################\n",
    "\n",
    "# Catalán\n",
    "\n",
    "prediccion_catalan = mlknn_classifier_catalan.predict(X_catalan_test_tfidf)\n",
    "#conf_matrix = skm.multilabel_confusion_matrix(y_test_castellano,prediccion_castellano)\n",
    "#print(conf_matrix)\n",
    "print( skm.classification_report(y_test_catalan,prediccion_catalan))"
   ]
  },
  {
   "cell_type": "code",
   "execution_count": 21,
   "metadata": {},
   "outputs": [
    {
     "name": "stdout",
     "output_type": "stream",
     "text": [
      "              precision    recall  f1-score   support\n",
      "\n",
      "           0       0.97      0.83      0.90        42\n",
      "           1       0.67      0.17      0.27        36\n",
      "           2       0.73      0.70      0.71        23\n",
      "           3       0.00      0.00      0.00         5\n",
      "           4       0.71      0.77      0.74        39\n",
      "           5       0.70      0.74      0.72        42\n",
      "           6       0.53      0.53      0.53        38\n",
      "           7       0.41      1.00      0.58        31\n",
      "           8       1.00      0.17      0.29        12\n",
      "           9       0.95      0.83      0.89        24\n",
      "          10       0.93      0.96      0.95        27\n",
      "          11       0.97      0.97      0.97        31\n",
      "          12       1.00      0.36      0.53        28\n",
      "          13       1.00      0.71      0.83         7\n",
      "          14       0.00      0.00      0.00         1\n",
      "          15       0.65      0.50      0.57        26\n",
      "          16       0.79      0.46      0.58        24\n",
      "\n",
      "   micro avg       0.72      0.66      0.69       436\n",
      "   macro avg       0.71      0.57      0.59       436\n",
      "weighted avg       0.76      0.66      0.67       436\n",
      " samples avg       0.70      0.68      0.68       436\n",
      "\n"
     ]
    },
    {
     "name": "stderr",
     "output_type": "stream",
     "text": [
      "C:\\Users\\pueygu01\\Anaconda3\\lib\\site-packages\\sklearn\\metrics\\_classification.py:1221: UndefinedMetricWarning: Precision and F-score are ill-defined and being set to 0.0 in labels with no predicted samples. Use `zero_division` parameter to control this behavior.\n",
      "  _warn_prf(average, modifier, msg_start, len(result))\n"
     ]
    }
   ],
   "source": [
    "##############################################################################\n",
    "################# Power Label Set con Regresión logística ####################\n",
    "\n",
    "# Catalán\n",
    "\n",
    "prediccion_catalan = label_powerset_catalan.predict(X_catalan_test_tfidf)\n",
    "#conf_matrix = skm.multilabel_confusion_matrix(y_test_castellano,prediccion_castellano)\n",
    "#print(conf_matrix)\n",
    "print( skm.classification_report(y_test_catalan,prediccion_catalan))"
   ]
  },
  {
   "cell_type": "code",
   "execution_count": 22,
   "metadata": {},
   "outputs": [
    {
     "name": "stdout",
     "output_type": "stream",
     "text": [
      "              precision    recall  f1-score   support\n",
      "\n",
      "           0       0.97      0.86      0.91        42\n",
      "           1       0.67      0.17      0.27        36\n",
      "           2       0.77      0.74      0.76        23\n",
      "           3       0.00      0.00      0.00         5\n",
      "           4       0.75      0.77      0.76        39\n",
      "           5       0.70      0.76      0.73        42\n",
      "           6       0.50      0.55      0.53        38\n",
      "           7       0.44      1.00      0.61        31\n",
      "           8       0.00      0.00      0.00        12\n",
      "           9       0.87      0.83      0.85        24\n",
      "          10       0.93      0.96      0.95        27\n",
      "          11       1.00      1.00      1.00        31\n",
      "          12       1.00      0.36      0.53        28\n",
      "          13       1.00      0.71      0.83         7\n",
      "          14       0.00      0.00      0.00         1\n",
      "          15       0.64      0.54      0.58        26\n",
      "          16       0.79      0.46      0.58        24\n",
      "\n",
      "   micro avg       0.72      0.67      0.69       436\n",
      "   macro avg       0.65      0.57      0.58       436\n",
      "weighted avg       0.74      0.67      0.67       436\n",
      " samples avg       0.71      0.69      0.69       436\n",
      "\n"
     ]
    },
    {
     "name": "stderr",
     "output_type": "stream",
     "text": [
      "C:\\Users\\pueygu01\\Anaconda3\\lib\\site-packages\\sklearn\\metrics\\_classification.py:1221: UndefinedMetricWarning: Precision and F-score are ill-defined and being set to 0.0 in labels with no predicted samples. Use `zero_division` parameter to control this behavior.\n",
      "  _warn_prf(average, modifier, msg_start, len(result))\n"
     ]
    }
   ],
   "source": [
    "##############################################################################\n",
    "################# Power Label Set con Regresión logística ####################\n",
    "\n",
    "# Castellano\n",
    "\n",
    "prediccion_castellano = label_powerset_castellano.predict(X_castellano_test_tfidf)\n",
    "#conf_matrix = skm.multilabel_confusion_matrix(y_test_castellano,prediccion_castellano)\n",
    "#print(conf_matrix)\n",
    "print( skm.classification_report(y_test_castellano,prediccion_castellano))"
   ]
  },
  {
   "cell_type": "code",
   "execution_count": 23,
   "metadata": {},
   "outputs": [],
   "source": [
    "import dash\n",
    "import dash_core_components as dcc\n",
    "import dash_html_components as html\n",
    "import pandas as pd\n",
    "from dash.dependencies import Input, Output, State\n",
    "import base64"
   ]
  },
  {
   "cell_type": "code",
   "execution_count": null,
   "metadata": {},
   "outputs": [],
   "source": [
    "app = dash.Dash(__name__)\n",
    "app.layout = html.Div([\n",
    "    html.H1(children = \"Radar ODS\", style = {'text-align': 'center',\n",
    "                                             'color':'blue',\n",
    "                                             'fontSize': 50}),\n",
    "    html.Div([\n",
    "        html.P('Prototipo para predecir Objetivos de Desarrollo Sostenible', style = {'text-align': 'center',\n",
    "                                                                                      'fontSize': 40}),\n",
    "        \n",
    "        html.Img(src = \"https://user-images.githubusercontent.com/81468745/146152199-b00ec408-07fb-4991-afb9-160a421ec85c.png\"\n",
    "                ,style = {'height': '10%','width': '10%'}),\n",
    "        \n",
    "        html.P(\"Lista de Objetivos de Desarrollo Sostenible\", style = {'fontSize': 25})\n",
    "    \n",
    "    ]),\n",
    "    \n",
    "    dcc.Markdown(\n",
    "        ''' \n",
    "            * ODS1 Fin de la pobreza\n",
    "            * ODS2 Hambre cero\n",
    "            * ODS3 Salud y bienestar\n",
    "            * ODS4 Educación de calidad\n",
    "            * ODS5 Igualdad de género\n",
    "            * ODS6 Agua y saneamiento\n",
    "            * ODS7 Energía sostenible y no contaminante\n",
    "            * ODS8 Trabajo decente y crecimiento económico\n",
    "            * ODS9 Industria, innovación e infraestructura\n",
    "            * ODS10 Reducción de las desigualdades\n",
    "            * ODS11 Ciudades y comunidades sostenibles\n",
    "            * ODS12 Producción y consumos responsables\n",
    "            * ODS13 Acción por el clima\n",
    "            * ODS14 Vida submarina\n",
    "            * ODS15 Vida de ecosistemas terrestres\n",
    "            * ODS16 Paz, jusicia e instituciones sólidas\n",
    "            * ODS17 Alianzas para lograr los objetivos\n",
    "        '''\n",
    "    ),\n",
    "\n",
    "      dcc.Markdown(\n",
    "        '''*En el cuadro de texto podemos escribir el comentario deseado, ya sea una actividad,\n",
    "          una iniciativa, una protesta etc*''',style = {'fontSize': 20}),\n",
    "        \n",
    "    dcc.Textarea(\n",
    "        placeholder = 'Introduce la descripción de tu actividad',\n",
    "        id='textarea-state-example',\n",
    "        style={'width': '30%', 'height': 90},\n",
    "    ),\n",
    "    \n",
    "    html.Button('Analizar predicción', id='textarea-state-example-button'\n",
    "                , n_clicks=0\n",
    "                , style = {'font-size': '20px', 'color':'blue'}),\n",
    "    \n",
    "    html.Div(id='textarea-state-example-output'\n",
    "             , style={'whiteSpace': 'pre-line'})\n",
    "])\n",
    "\n",
    "@app.callback(\n",
    "    Output('textarea-state-example-output', 'children'),\n",
    "    Input('textarea-state-example-button', 'n_clicks'),\n",
    "    State('textarea-state-example', 'value')\n",
    ")\n",
    "    \n",
    "def identificador_ODS(n_clicks, value):\n",
    "    value1 = [value]\n",
    "    lengua = detect(value)\n",
    "    if lengua == 'ca':\n",
    "        frase_tfidf = vetorizar_catalan.transform(value1)\n",
    "        predicción = multilabel.inverse_transform(mlknn_classifier_catalan.predict(frase_tfidf))\n",
    "        if n_clicks>0:\n",
    "            return 'El ODS predicho es: \\n{}'.format(predicción)\n",
    "    else:\n",
    "        frase_tfidf = vetorizar_castellano.transform(value1)\n",
    "        predicción = multilabel.inverse_transform(mlknn_classifier_castellano.predict(frase_tfidf))\n",
    "        if n_clicks>0:\n",
    "            return 'El ODS predicho es: \\n{}'.format(predicción)\n",
    "\n",
    "\n",
    "if __name__ == '__main__':\n",
    "    app.run_server()"
   ]
  },
  {
   "cell_type": "markdown",
   "metadata": {},
   "source": [
    "# Demostración del modelo\n",
    "A continuación se hace una demostración en vivo de cómo aplicamos el algoritmo usando la App de eAgora. Los pasos a seguir son los siguientes;\n",
    "- Abrimos la App y escribimos una iniciativa, una actividad o cualquier tipo de historia\n",
    "- Este comentario se inserta directamente en una tabla SQL mediante una API\n",
    "- Leemos el último comentario de la tabla que debería ser nuestro comentario y aplicamos el modelo y predecimos"
   ]
  },
  {
   "cell_type": "code",
   "execution_count": 37,
   "metadata": {},
   "outputs": [
    {
     "ename": "FileNotFoundError",
     "evalue": "No such file or directory: 'C:\\Users\\bursa\\Proyecto MBIT\\Material Proyecto\\captura.png'",
     "output_type": "error",
     "traceback": [
      "\u001b[1;31m---------------------------------------------------------------------------\u001b[0m",
      "\u001b[1;31mTypeError\u001b[0m                                 Traceback (most recent call last)",
      "\u001b[1;32m~\\Anaconda3\\lib\\site-packages\\IPython\\core\\display.py\u001b[0m in \u001b[0;36m_data_and_metadata\u001b[1;34m(self, always_both)\u001b[0m\n\u001b[0;32m   1292\u001b[0m         \u001b[1;32mtry\u001b[0m\u001b[1;33m:\u001b[0m\u001b[1;33m\u001b[0m\u001b[1;33m\u001b[0m\u001b[0m\n\u001b[1;32m-> 1293\u001b[1;33m             \u001b[0mb64_data\u001b[0m \u001b[1;33m=\u001b[0m \u001b[0mb2a_base64\u001b[0m\u001b[1;33m(\u001b[0m\u001b[0mself\u001b[0m\u001b[1;33m.\u001b[0m\u001b[0mdata\u001b[0m\u001b[1;33m)\u001b[0m\u001b[1;33m.\u001b[0m\u001b[0mdecode\u001b[0m\u001b[1;33m(\u001b[0m\u001b[1;34m'ascii'\u001b[0m\u001b[1;33m)\u001b[0m\u001b[1;33m\u001b[0m\u001b[1;33m\u001b[0m\u001b[0m\n\u001b[0m\u001b[0;32m   1294\u001b[0m         \u001b[1;32mexcept\u001b[0m \u001b[0mTypeError\u001b[0m\u001b[1;33m:\u001b[0m\u001b[1;33m\u001b[0m\u001b[1;33m\u001b[0m\u001b[0m\n",
      "\u001b[1;31mTypeError\u001b[0m: a bytes-like object is required, not 'str'",
      "\nDuring handling of the above exception, another exception occurred:\n",
      "\u001b[1;31mFileNotFoundError\u001b[0m                         Traceback (most recent call last)",
      "\u001b[1;32m~\\Anaconda3\\lib\\site-packages\\IPython\\core\\formatters.py\u001b[0m in \u001b[0;36m__call__\u001b[1;34m(self, obj, include, exclude)\u001b[0m\n\u001b[0;32m    968\u001b[0m \u001b[1;33m\u001b[0m\u001b[0m\n\u001b[0;32m    969\u001b[0m             \u001b[1;32mif\u001b[0m \u001b[0mmethod\u001b[0m \u001b[1;32mis\u001b[0m \u001b[1;32mnot\u001b[0m \u001b[1;32mNone\u001b[0m\u001b[1;33m:\u001b[0m\u001b[1;33m\u001b[0m\u001b[1;33m\u001b[0m\u001b[0m\n\u001b[1;32m--> 970\u001b[1;33m                 \u001b[1;32mreturn\u001b[0m \u001b[0mmethod\u001b[0m\u001b[1;33m(\u001b[0m\u001b[0minclude\u001b[0m\u001b[1;33m=\u001b[0m\u001b[0minclude\u001b[0m\u001b[1;33m,\u001b[0m \u001b[0mexclude\u001b[0m\u001b[1;33m=\u001b[0m\u001b[0mexclude\u001b[0m\u001b[1;33m)\u001b[0m\u001b[1;33m\u001b[0m\u001b[1;33m\u001b[0m\u001b[0m\n\u001b[0m\u001b[0;32m    971\u001b[0m             \u001b[1;32mreturn\u001b[0m \u001b[1;32mNone\u001b[0m\u001b[1;33m\u001b[0m\u001b[1;33m\u001b[0m\u001b[0m\n\u001b[0;32m    972\u001b[0m         \u001b[1;32melse\u001b[0m\u001b[1;33m:\u001b[0m\u001b[1;33m\u001b[0m\u001b[1;33m\u001b[0m\u001b[0m\n",
      "\u001b[1;32m~\\Anaconda3\\lib\\site-packages\\IPython\\core\\display.py\u001b[0m in \u001b[0;36m_repr_mimebundle_\u001b[1;34m(self, include, exclude)\u001b[0m\n\u001b[0;32m   1281\u001b[0m         \u001b[1;32mif\u001b[0m \u001b[0mself\u001b[0m\u001b[1;33m.\u001b[0m\u001b[0membed\u001b[0m\u001b[1;33m:\u001b[0m\u001b[1;33m\u001b[0m\u001b[1;33m\u001b[0m\u001b[0m\n\u001b[0;32m   1282\u001b[0m             \u001b[0mmimetype\u001b[0m \u001b[1;33m=\u001b[0m \u001b[0mself\u001b[0m\u001b[1;33m.\u001b[0m\u001b[0m_mimetype\u001b[0m\u001b[1;33m\u001b[0m\u001b[1;33m\u001b[0m\u001b[0m\n\u001b[1;32m-> 1283\u001b[1;33m             \u001b[0mdata\u001b[0m\u001b[1;33m,\u001b[0m \u001b[0mmetadata\u001b[0m \u001b[1;33m=\u001b[0m \u001b[0mself\u001b[0m\u001b[1;33m.\u001b[0m\u001b[0m_data_and_metadata\u001b[0m\u001b[1;33m(\u001b[0m\u001b[0malways_both\u001b[0m\u001b[1;33m=\u001b[0m\u001b[1;32mTrue\u001b[0m\u001b[1;33m)\u001b[0m\u001b[1;33m\u001b[0m\u001b[1;33m\u001b[0m\u001b[0m\n\u001b[0m\u001b[0;32m   1284\u001b[0m             \u001b[1;32mif\u001b[0m \u001b[0mmetadata\u001b[0m\u001b[1;33m:\u001b[0m\u001b[1;33m\u001b[0m\u001b[1;33m\u001b[0m\u001b[0m\n\u001b[0;32m   1285\u001b[0m                 \u001b[0mmetadata\u001b[0m \u001b[1;33m=\u001b[0m \u001b[1;33m{\u001b[0m\u001b[0mmimetype\u001b[0m\u001b[1;33m:\u001b[0m \u001b[0mmetadata\u001b[0m\u001b[1;33m}\u001b[0m\u001b[1;33m\u001b[0m\u001b[1;33m\u001b[0m\u001b[0m\n",
      "\u001b[1;32m~\\Anaconda3\\lib\\site-packages\\IPython\\core\\display.py\u001b[0m in \u001b[0;36m_data_and_metadata\u001b[1;34m(self, always_both)\u001b[0m\n\u001b[0;32m   1293\u001b[0m             \u001b[0mb64_data\u001b[0m \u001b[1;33m=\u001b[0m \u001b[0mb2a_base64\u001b[0m\u001b[1;33m(\u001b[0m\u001b[0mself\u001b[0m\u001b[1;33m.\u001b[0m\u001b[0mdata\u001b[0m\u001b[1;33m)\u001b[0m\u001b[1;33m.\u001b[0m\u001b[0mdecode\u001b[0m\u001b[1;33m(\u001b[0m\u001b[1;34m'ascii'\u001b[0m\u001b[1;33m)\u001b[0m\u001b[1;33m\u001b[0m\u001b[1;33m\u001b[0m\u001b[0m\n\u001b[0;32m   1294\u001b[0m         \u001b[1;32mexcept\u001b[0m \u001b[0mTypeError\u001b[0m\u001b[1;33m:\u001b[0m\u001b[1;33m\u001b[0m\u001b[1;33m\u001b[0m\u001b[0m\n\u001b[1;32m-> 1295\u001b[1;33m             raise FileNotFoundError(\n\u001b[0m\u001b[0;32m   1296\u001b[0m                 \"No such file or directory: '%s'\" % (self.data))\n\u001b[0;32m   1297\u001b[0m         \u001b[0mmd\u001b[0m \u001b[1;33m=\u001b[0m \u001b[1;33m{\u001b[0m\u001b[1;33m}\u001b[0m\u001b[1;33m\u001b[0m\u001b[1;33m\u001b[0m\u001b[0m\n",
      "\u001b[1;31mFileNotFoundError\u001b[0m: No such file or directory: 'C:\\Users\\bursa\\Proyecto MBIT\\Material Proyecto\\captura.png'"
     ]
    },
    {
     "ename": "FileNotFoundError",
     "evalue": "No such file or directory: 'C:\\Users\\bursa\\Proyecto MBIT\\Material Proyecto\\captura.png'",
     "output_type": "error",
     "traceback": [
      "\u001b[1;31m---------------------------------------------------------------------------\u001b[0m",
      "\u001b[1;31mTypeError\u001b[0m                                 Traceback (most recent call last)",
      "\u001b[1;32m~\\Anaconda3\\lib\\site-packages\\IPython\\core\\display.py\u001b[0m in \u001b[0;36m_data_and_metadata\u001b[1;34m(self, always_both)\u001b[0m\n\u001b[0;32m   1292\u001b[0m         \u001b[1;32mtry\u001b[0m\u001b[1;33m:\u001b[0m\u001b[1;33m\u001b[0m\u001b[1;33m\u001b[0m\u001b[0m\n\u001b[1;32m-> 1293\u001b[1;33m             \u001b[0mb64_data\u001b[0m \u001b[1;33m=\u001b[0m \u001b[0mb2a_base64\u001b[0m\u001b[1;33m(\u001b[0m\u001b[0mself\u001b[0m\u001b[1;33m.\u001b[0m\u001b[0mdata\u001b[0m\u001b[1;33m)\u001b[0m\u001b[1;33m.\u001b[0m\u001b[0mdecode\u001b[0m\u001b[1;33m(\u001b[0m\u001b[1;34m'ascii'\u001b[0m\u001b[1;33m)\u001b[0m\u001b[1;33m\u001b[0m\u001b[1;33m\u001b[0m\u001b[0m\n\u001b[0m\u001b[0;32m   1294\u001b[0m         \u001b[1;32mexcept\u001b[0m \u001b[0mTypeError\u001b[0m\u001b[1;33m:\u001b[0m\u001b[1;33m\u001b[0m\u001b[1;33m\u001b[0m\u001b[0m\n",
      "\u001b[1;31mTypeError\u001b[0m: a bytes-like object is required, not 'str'",
      "\nDuring handling of the above exception, another exception occurred:\n",
      "\u001b[1;31mFileNotFoundError\u001b[0m                         Traceback (most recent call last)",
      "\u001b[1;32m~\\Anaconda3\\lib\\site-packages\\IPython\\core\\formatters.py\u001b[0m in \u001b[0;36m__call__\u001b[1;34m(self, obj)\u001b[0m\n\u001b[0;32m    343\u001b[0m             \u001b[0mmethod\u001b[0m \u001b[1;33m=\u001b[0m \u001b[0mget_real_method\u001b[0m\u001b[1;33m(\u001b[0m\u001b[0mobj\u001b[0m\u001b[1;33m,\u001b[0m \u001b[0mself\u001b[0m\u001b[1;33m.\u001b[0m\u001b[0mprint_method\u001b[0m\u001b[1;33m)\u001b[0m\u001b[1;33m\u001b[0m\u001b[1;33m\u001b[0m\u001b[0m\n\u001b[0;32m    344\u001b[0m             \u001b[1;32mif\u001b[0m \u001b[0mmethod\u001b[0m \u001b[1;32mis\u001b[0m \u001b[1;32mnot\u001b[0m \u001b[1;32mNone\u001b[0m\u001b[1;33m:\u001b[0m\u001b[1;33m\u001b[0m\u001b[1;33m\u001b[0m\u001b[0m\n\u001b[1;32m--> 345\u001b[1;33m                 \u001b[1;32mreturn\u001b[0m \u001b[0mmethod\u001b[0m\u001b[1;33m(\u001b[0m\u001b[1;33m)\u001b[0m\u001b[1;33m\u001b[0m\u001b[1;33m\u001b[0m\u001b[0m\n\u001b[0m\u001b[0;32m    346\u001b[0m             \u001b[1;32mreturn\u001b[0m \u001b[1;32mNone\u001b[0m\u001b[1;33m\u001b[0m\u001b[1;33m\u001b[0m\u001b[0m\n\u001b[0;32m    347\u001b[0m         \u001b[1;32melse\u001b[0m\u001b[1;33m:\u001b[0m\u001b[1;33m\u001b[0m\u001b[1;33m\u001b[0m\u001b[0m\n",
      "\u001b[1;32m~\\Anaconda3\\lib\\site-packages\\IPython\\core\\display.py\u001b[0m in \u001b[0;36m_repr_png_\u001b[1;34m(self)\u001b[0m\n\u001b[0;32m   1311\u001b[0m     \u001b[1;32mdef\u001b[0m \u001b[0m_repr_png_\u001b[0m\u001b[1;33m(\u001b[0m\u001b[0mself\u001b[0m\u001b[1;33m)\u001b[0m\u001b[1;33m:\u001b[0m\u001b[1;33m\u001b[0m\u001b[1;33m\u001b[0m\u001b[0m\n\u001b[0;32m   1312\u001b[0m         \u001b[1;32mif\u001b[0m \u001b[0mself\u001b[0m\u001b[1;33m.\u001b[0m\u001b[0membed\u001b[0m \u001b[1;32mand\u001b[0m \u001b[0mself\u001b[0m\u001b[1;33m.\u001b[0m\u001b[0mformat\u001b[0m \u001b[1;33m==\u001b[0m \u001b[0mself\u001b[0m\u001b[1;33m.\u001b[0m\u001b[0m_FMT_PNG\u001b[0m\u001b[1;33m:\u001b[0m\u001b[1;33m\u001b[0m\u001b[1;33m\u001b[0m\u001b[0m\n\u001b[1;32m-> 1313\u001b[1;33m             \u001b[1;32mreturn\u001b[0m \u001b[0mself\u001b[0m\u001b[1;33m.\u001b[0m\u001b[0m_data_and_metadata\u001b[0m\u001b[1;33m(\u001b[0m\u001b[1;33m)\u001b[0m\u001b[1;33m\u001b[0m\u001b[1;33m\u001b[0m\u001b[0m\n\u001b[0m\u001b[0;32m   1314\u001b[0m \u001b[1;33m\u001b[0m\u001b[0m\n\u001b[0;32m   1315\u001b[0m     \u001b[1;32mdef\u001b[0m \u001b[0m_repr_jpeg_\u001b[0m\u001b[1;33m(\u001b[0m\u001b[0mself\u001b[0m\u001b[1;33m)\u001b[0m\u001b[1;33m:\u001b[0m\u001b[1;33m\u001b[0m\u001b[1;33m\u001b[0m\u001b[0m\n",
      "\u001b[1;32m~\\Anaconda3\\lib\\site-packages\\IPython\\core\\display.py\u001b[0m in \u001b[0;36m_data_and_metadata\u001b[1;34m(self, always_both)\u001b[0m\n\u001b[0;32m   1293\u001b[0m             \u001b[0mb64_data\u001b[0m \u001b[1;33m=\u001b[0m \u001b[0mb2a_base64\u001b[0m\u001b[1;33m(\u001b[0m\u001b[0mself\u001b[0m\u001b[1;33m.\u001b[0m\u001b[0mdata\u001b[0m\u001b[1;33m)\u001b[0m\u001b[1;33m.\u001b[0m\u001b[0mdecode\u001b[0m\u001b[1;33m(\u001b[0m\u001b[1;34m'ascii'\u001b[0m\u001b[1;33m)\u001b[0m\u001b[1;33m\u001b[0m\u001b[1;33m\u001b[0m\u001b[0m\n\u001b[0;32m   1294\u001b[0m         \u001b[1;32mexcept\u001b[0m \u001b[0mTypeError\u001b[0m\u001b[1;33m:\u001b[0m\u001b[1;33m\u001b[0m\u001b[1;33m\u001b[0m\u001b[0m\n\u001b[1;32m-> 1295\u001b[1;33m             raise FileNotFoundError(\n\u001b[0m\u001b[0;32m   1296\u001b[0m                 \"No such file or directory: '%s'\" % (self.data))\n\u001b[0;32m   1297\u001b[0m         \u001b[0mmd\u001b[0m \u001b[1;33m=\u001b[0m \u001b[1;33m{\u001b[0m\u001b[1;33m}\u001b[0m\u001b[1;33m\u001b[0m\u001b[1;33m\u001b[0m\u001b[0m\n",
      "\u001b[1;31mFileNotFoundError\u001b[0m: No such file or directory: 'C:\\Users\\bursa\\Proyecto MBIT\\Material Proyecto\\captura.png'"
     ]
    },
    {
     "data": {
      "text/plain": [
       "<IPython.core.display.Image object>"
      ]
     },
     "execution_count": 37,
     "metadata": {},
     "output_type": "execute_result"
    }
   ],
   "source": [
    "from IPython.display import Image\n",
    "Image(r\"C:\\Users\\bursa\\Proyecto MBIT\\Material Proyecto\\captura.png\")\n"
   ]
  },
  {
   "cell_type": "code",
   "execution_count": null,
   "metadata": {},
   "outputs": [],
   "source": [
    "#### Leemos la tabla del servidor usando SQL y cogemos el útlimo comentario\n",
    "\n",
    "# Credenciales para acceder a la BBDD de eAgora\n",
    "\n",
    "miConexion = MySQLdb.connect(host='hostings.cwgbfpd1iqhk.eu-west-1.rds.amazonaws.com'\n",
    "                             ,user= 'eagora_gpueyo'\n",
    "                             ,passwd='3hivhk4ah9sAzibtkHVy'\n",
    "                             ,db='eagora' )\n",
    "cur = miConexion.cursor()\n",
    "\n",
    "# Leemos la tabla \"contents\" que es donde se almacenan los comentarios desde la aplicación\n",
    "\n",
    "table_contenidos = pd.read_sql(\"\"\"select title\n",
    "                             ,description\n",
    "                         from contents\"\"\"\n",
    "                    ,miConexion)\n",
    "\n",
    "# Seleccionamos el último comentario escrito en la aplicación\n",
    "ultimo_comentario = table_contenidos.tail(1)[\"description\"].to_string(index=False)\n",
    "ultimo_comentario1 = str(ultimo_comentario)\n",
    "ultimo_comentario2 = clean_text(ultimo_comentario1)\n",
    "\n",
    "#### Creamos la función para aplicar el modelo si es catlán o castellano\n",
    "\n",
    "def identificador_ODS(comentario):\n",
    "    value1 = [comentario]\n",
    "    lengua = detect(comentario)\n",
    "       \n",
    "    if lengua == 'ca':\n",
    "        frase_tfidf = vetorizar_catalan.transform(value1)\n",
    "        predicción = multilabel.inverse_transform(mlknn_classifier_catalan.predict(frase_tfidf))\n",
    "        return 'El ODS predicho es: \\n{}'.format(predicción)\n",
    "    else:\n",
    "        frase_tfidf = vetorizar_castellano.transform(value1)\n",
    "        predicción = multilabel.inverse_transform(mlknn_classifier_castellano.predict(frase_tfidf))\n",
    "        return 'El ODS predicho es: \\n{}'.format(predicción)"
   ]
  },
  {
   "cell_type": "code",
   "execution_count": null,
   "metadata": {},
   "outputs": [],
   "source": [
    "identificador_ODS(ultimo_comentario2)"
   ]
  },
  {
   "cell_type": "markdown",
   "metadata": {},
   "source": [
    "------------------------------------"
   ]
  },
  {
   "cell_type": "markdown",
   "metadata": {},
   "source": [
    "----------------------"
   ]
  },
  {
   "cell_type": "markdown",
   "metadata": {},
   "source": [
    "## Código auxiliar (diferente tabla)\n",
    "Esta solución la tendremos por si en el futuro existe una tabla con las etiquetas ya definidas pero en esa misma tabla siguen viniendo comentarios sin etiquetar."
   ]
  },
  {
   "cell_type": "code",
   "execution_count": null,
   "metadata": {},
   "outputs": [],
   "source": [
    "txt = pd.read_excel(r\"C:\\Users\\pueygu01\\Python Programs\\Máster - Proyecto\\contenidos y etiquetas_proba.xlsx\", index_col=None)\n",
    "txt.head(10)"
   ]
  },
  {
   "cell_type": "code",
   "execution_count": null,
   "metadata": {},
   "outputs": [],
   "source": [
    "# Lo que haríamos a continuación es iterar por el dataset haste que encuentra el campo vación, entonces ahí aplicamos le modelo\n",
    "# y predecimos el ODS.\n",
    "DetectorFactory.seed = 0\n",
    "for t in txt.index:\n",
    "    if pd.isnull(txt['Etiqueta'][t]):\n",
    "        lengua=detect(txt['description'][t])\n",
    "        if lengua=='ca':\n",
    "            nlp = spacy.load(\"ca_core_news_sm\")\n",
    "            txt[\"lemas\"]=txt.description.apply(clean_text)\n",
    "            txt[\"lemas\"]=txt.lemas.apply(lemmatize_text)\n",
    "            identificador_ODS_catalan([txt['description'][t]])\n",
    "        else:\n",
    "            nlp = spacy.load(\"es_core_news_sm\")\n",
    "            txt.description.apply(clean_text)\n",
    "            txt.description.apply(lemmatize_text)\n",
    "            identificador_ODS_castellano([txt['description'][t]])\n",
    "    \n",
    "\n",
    "print(lengua) "
   ]
  }
 ],
 "metadata": {
  "kernelspec": {
   "display_name": "Python 3",
   "language": "python",
   "name": "python3"
  },
  "language_info": {
   "codemirror_mode": {
    "name": "ipython",
    "version": 3
   },
   "file_extension": ".py",
   "mimetype": "text/x-python",
   "name": "python",
   "nbconvert_exporter": "python",
   "pygments_lexer": "ipython3",
   "version": "3.8.5"
  },
  "toc": {
   "base_numbering": 1,
   "nav_menu": {},
   "number_sections": true,
   "sideBar": true,
   "skip_h1_title": false,
   "title_cell": "Table of Contents",
   "title_sidebar": "Contents",
   "toc_cell": false,
   "toc_position": {},
   "toc_section_display": true,
   "toc_window_display": false
  },
  "varInspector": {
   "cols": {
    "lenName": 16,
    "lenType": 16,
    "lenVar": 40
   },
   "kernels_config": {
    "python": {
     "delete_cmd_postfix": "",
     "delete_cmd_prefix": "del ",
     "library": "var_list.py",
     "varRefreshCmd": "print(var_dic_list())"
    },
    "r": {
     "delete_cmd_postfix": ") ",
     "delete_cmd_prefix": "rm(",
     "library": "var_list.r",
     "varRefreshCmd": "cat(var_dic_list()) "
    }
   },
   "types_to_exclude": [
    "module",
    "function",
    "builtin_function_or_method",
    "instance",
    "_Feature"
   ],
   "window_display": false
  }
 },
 "nbformat": 4,
 "nbformat_minor": 4
}
