{
 "cells": [
  {
   "cell_type": "code",
   "execution_count": 1,
   "metadata": {},
   "outputs": [],
   "source": [
    "import dash\n",
    "import dash_core_components as dcc\n",
    "import dash_html_components as html\n",
    "import pandas as pd\n",
    "from dash.dependencies import Input, Output, State\n",
    "import joblib\n",
    "import pandas as pd\n",
    "import numpy as np\n",
    "import re\n",
    "import string\n",
    "import spacy\n",
    "from langdetect import detect, DetectorFactory\n",
    "from sklearn.feature_extraction.text import TfidfVectorizer\n"
   ]
  },
  {
   "cell_type": "code",
   "execution_count": 2,
   "metadata": {},
   "outputs": [],
   "source": [
    "## Importamos nuestros modelos ya entrenados\n",
    "\n",
    "mlknn_classifier_catalan = joblib.load(r\"C:\\Users\\pueygu01\\Python Programs\\Máster - Proyecto\\Notebooks\\predictor ODS catalan.pkl\")\n",
    "mlknn_classifier_castellano = joblib.load(r\"C:\\Users\\pueygu01\\Python Programs\\Máster - Proyecto\\Notebooks\\predictor ODS castellano.pkl\")                                    "
   ]
  },
  {
   "cell_type": "code",
   "execution_count": 3,
   "metadata": {},
   "outputs": [
    {
     "name": "stdout",
     "output_type": "stream",
     "text": [
      "Dash is running on http://127.0.0.1:8050/\n",
      "\n",
      " * Serving Flask app \"__main__\" (lazy loading)\n",
      " * Environment: production\n",
      "   WARNING: This is a development server. Do not use it in a production deployment.\n",
      "   Use a production WSGI server instead.\n",
      " * Debug mode: off\n"
     ]
    },
    {
     "name": "stderr",
     "output_type": "stream",
     "text": [
      " * Running on http://127.0.0.1:8050/ (Press CTRL+C to quit)\n",
      "127.0.0.1 - - [12/Dec/2021 20:07:38] \"\u001b[37mGET / HTTP/1.1\u001b[0m\" 200 -\n",
      "127.0.0.1 - - [12/Dec/2021 20:07:38] \"\u001b[37mGET /_dash-layout HTTP/1.1\u001b[0m\" 200 -\n",
      "127.0.0.1 - - [12/Dec/2021 20:07:38] \"\u001b[37mGET /_dash-dependencies HTTP/1.1\u001b[0m\" 200 -\n"
     ]
    },
    {
     "name": "stdout",
     "output_type": "stream",
     "text": [
      "Exception on /_dash-update-component [POST]\n",
      "Traceback (most recent call last):\n",
      "  File \"C:\\Users\\pueygu01\\Anaconda3\\lib\\site-packages\\flask\\app.py\", line 2447, in wsgi_app\n",
      "    response = self.full_dispatch_request()\n",
      "  File \"C:\\Users\\pueygu01\\Anaconda3\\lib\\site-packages\\flask\\app.py\", line 1952, in full_dispatch_request\n",
      "    rv = self.handle_user_exception(e)\n",
      "  File \"C:\\Users\\pueygu01\\Anaconda3\\lib\\site-packages\\flask\\app.py\", line 1821, in handle_user_exception\n",
      "    reraise(exc_type, exc_value, tb)\n",
      "  File \"C:\\Users\\pueygu01\\Anaconda3\\lib\\site-packages\\flask\\_compat.py\", line 39, in reraise\n",
      "    raise value\n",
      "  File \"C:\\Users\\pueygu01\\Anaconda3\\lib\\site-packages\\flask\\app.py\", line 1950, in full_dispatch_request\n",
      "    rv = self.dispatch_request()\n",
      "  File \"C:\\Users\\pueygu01\\Anaconda3\\lib\\site-packages\\flask\\app.py\", line 1936, in dispatch_request\n",
      "    return self.view_functions[rule.endpoint](**req.view_args)\n",
      "  File \"C:\\Users\\pueygu01\\Anaconda3\\lib\\site-packages\\dash\\dash.py\", line 1079, in dispatch\n",
      "    response.set_data(func(*args, outputs_list=outputs_list))\n",
      "  File \"C:\\Users\\pueygu01\\Anaconda3\\lib\\site-packages\\dash\\dash.py\", line 1010, in add_context\n",
      "    output_value = func(*args, **kwargs)  # %% callback invoked %%\n",
      "  File \"<ipython-input-3-3634a6e99cd3>\", line 61, in identificador_ODS\n",
      "    lengua = detect(value)\n",
      "  File \"C:\\Users\\pueygu01\\Anaconda3\\lib\\site-packages\\langdetect\\detector_factory.py\", line 129, in detect\n",
      "    detector.append(text)\n",
      "  File \"C:\\Users\\pueygu01\\Anaconda3\\lib\\site-packages\\langdetect\\detector.py\", line 104, in append\n",
      "    text = self.URL_RE.sub(' ', text)\n",
      "TypeError: expected string or bytes-like object\n"
     ]
    },
    {
     "name": "stderr",
     "output_type": "stream",
     "text": [
      "127.0.0.1 - - [12/Dec/2021 20:07:39] \"\u001b[35m\u001b[1mPOST /_dash-update-component HTTP/1.1\u001b[0m\" 500 -\n"
     ]
    },
    {
     "name": "stdout",
     "output_type": "stream",
     "text": [
      "Exception on /_dash-update-component [POST]\n",
      "Traceback (most recent call last):\n",
      "  File \"C:\\Users\\pueygu01\\Anaconda3\\lib\\site-packages\\flask\\app.py\", line 2447, in wsgi_app\n",
      "    response = self.full_dispatch_request()\n",
      "  File \"C:\\Users\\pueygu01\\Anaconda3\\lib\\site-packages\\flask\\app.py\", line 1952, in full_dispatch_request\n",
      "    rv = self.handle_user_exception(e)\n",
      "  File \"C:\\Users\\pueygu01\\Anaconda3\\lib\\site-packages\\flask\\app.py\", line 1821, in handle_user_exception\n",
      "    reraise(exc_type, exc_value, tb)\n",
      "  File \"C:\\Users\\pueygu01\\Anaconda3\\lib\\site-packages\\flask\\_compat.py\", line 39, in reraise\n",
      "    raise value\n",
      "  File \"C:\\Users\\pueygu01\\Anaconda3\\lib\\site-packages\\flask\\app.py\", line 1950, in full_dispatch_request\n",
      "    rv = self.dispatch_request()\n",
      "  File \"C:\\Users\\pueygu01\\Anaconda3\\lib\\site-packages\\flask\\app.py\", line 1936, in dispatch_request\n",
      "    return self.view_functions[rule.endpoint](**req.view_args)\n",
      "  File \"C:\\Users\\pueygu01\\Anaconda3\\lib\\site-packages\\dash\\dash.py\", line 1079, in dispatch\n",
      "    response.set_data(func(*args, outputs_list=outputs_list))\n",
      "  File \"C:\\Users\\pueygu01\\Anaconda3\\lib\\site-packages\\dash\\dash.py\", line 1010, in add_context\n",
      "    output_value = func(*args, **kwargs)  # %% callback invoked %%\n",
      "  File \"<ipython-input-3-3634a6e99cd3>\", line 70, in identificador_ODS\n",
      "    frase_tfidf = vetorizar_castellano.transform(value1)\n",
      "  File \"C:\\Users\\pueygu01\\Anaconda3\\lib\\site-packages\\sklearn\\feature_extraction\\text.py\", line 1872, in transform\n",
      "    check_is_fitted(self, msg='The TF-IDF vectorizer is not fitted')\n",
      "  File \"C:\\Users\\pueygu01\\Anaconda3\\lib\\site-packages\\sklearn\\utils\\validation.py\", line 72, in inner_f\n",
      "    return f(**kwargs)\n",
      "  File \"C:\\Users\\pueygu01\\Anaconda3\\lib\\site-packages\\sklearn\\utils\\validation.py\", line 1019, in check_is_fitted\n",
      "    raise NotFittedError(msg % {'name': type(estimator).__name__})\n",
      "sklearn.exceptions.NotFittedError: The TF-IDF vectorizer is not fitted\n"
     ]
    },
    {
     "name": "stderr",
     "output_type": "stream",
     "text": [
      "127.0.0.1 - - [12/Dec/2021 20:07:42] \"\u001b[35m\u001b[1mPOST /_dash-update-component HTTP/1.1\u001b[0m\" 500 -\n"
     ]
    },
    {
     "name": "stdout",
     "output_type": "stream",
     "text": [
      "Exception on /_dash-update-component [POST]\n",
      "Traceback (most recent call last):\n",
      "  File \"C:\\Users\\pueygu01\\Anaconda3\\lib\\site-packages\\flask\\app.py\", line 2447, in wsgi_app\n",
      "    response = self.full_dispatch_request()\n",
      "  File \"C:\\Users\\pueygu01\\Anaconda3\\lib\\site-packages\\flask\\app.py\", line 1952, in full_dispatch_request\n",
      "    rv = self.handle_user_exception(e)\n",
      "  File \"C:\\Users\\pueygu01\\Anaconda3\\lib\\site-packages\\flask\\app.py\", line 1821, in handle_user_exception\n",
      "    reraise(exc_type, exc_value, tb)\n",
      "  File \"C:\\Users\\pueygu01\\Anaconda3\\lib\\site-packages\\flask\\_compat.py\", line 39, in reraise\n",
      "    raise value\n",
      "  File \"C:\\Users\\pueygu01\\Anaconda3\\lib\\site-packages\\flask\\app.py\", line 1950, in full_dispatch_request\n",
      "    rv = self.dispatch_request()\n",
      "  File \"C:\\Users\\pueygu01\\Anaconda3\\lib\\site-packages\\flask\\app.py\", line 1936, in dispatch_request\n",
      "    return self.view_functions[rule.endpoint](**req.view_args)\n",
      "  File \"C:\\Users\\pueygu01\\Anaconda3\\lib\\site-packages\\dash\\dash.py\", line 1079, in dispatch\n",
      "    response.set_data(func(*args, outputs_list=outputs_list))\n",
      "  File \"C:\\Users\\pueygu01\\Anaconda3\\lib\\site-packages\\dash\\dash.py\", line 1010, in add_context\n",
      "    output_value = func(*args, **kwargs)  # %% callback invoked %%\n",
      "  File \"<ipython-input-3-3634a6e99cd3>\", line 70, in identificador_ODS\n",
      "    frase_tfidf = vetorizar_castellano.transform(value1)\n",
      "  File \"C:\\Users\\pueygu01\\Anaconda3\\lib\\site-packages\\sklearn\\feature_extraction\\text.py\", line 1872, in transform\n",
      "    check_is_fitted(self, msg='The TF-IDF vectorizer is not fitted')\n",
      "  File \"C:\\Users\\pueygu01\\Anaconda3\\lib\\site-packages\\sklearn\\utils\\validation.py\", line 72, in inner_f\n",
      "    return f(**kwargs)\n",
      "  File \"C:\\Users\\pueygu01\\Anaconda3\\lib\\site-packages\\sklearn\\utils\\validation.py\", line 1019, in check_is_fitted\n",
      "    raise NotFittedError(msg % {'name': type(estimator).__name__})\n",
      "sklearn.exceptions.NotFittedError: The TF-IDF vectorizer is not fitted\n"
     ]
    },
    {
     "name": "stderr",
     "output_type": "stream",
     "text": [
      "127.0.0.1 - - [12/Dec/2021 20:07:42] \"\u001b[35m\u001b[1mPOST /_dash-update-component HTTP/1.1\u001b[0m\" 500 -\n"
     ]
    }
   ],
   "source": [
    "app = dash.Dash(__name__)\n",
    "\n",
    "app.layout = html.Div([\n",
    "    html.H1(children = \"Radar ODS\", style = {'text-align': 'center',\n",
    "                                             'color':'blue',\n",
    "                                             'fontSize': 50}),\n",
    "    html.Div([\n",
    "        html.P('Prototipo para predecir Objetivos de Desarrollo Sostenible', style = {'text-align': 'center',\n",
    "                                                                                      'fontSize': 40}),\n",
    "        html.P(\"Lista de Objetivos de Desarrollo Sostenible\", style = {'fontSize': 25})\n",
    "    \n",
    "    ]),\n",
    "    \n",
    "    dcc.Markdown(\n",
    "        ''' \n",
    "            * ODS1 Fin de la pobreza\n",
    "            * ODS2 Hambre cero\n",
    "            * ODS3 Salud y bienestar\n",
    "            * ODS4 Educación de calidad\n",
    "            * ODS5 Igualdad de género\n",
    "            * ODS6 Agua y saneamiento\n",
    "            * ODS7 Energía sostenible y no contaminante\n",
    "            * ODS8 Trabajo decente y crecimiento económico\n",
    "            * ODS9 Industria, innovación e infraestructura\n",
    "            * ODS10 Reducción de las desigualdades\n",
    "            * ODS11 Ciudades y comunidades sostenibles\n",
    "            * ODS12 Producción y consumos responsables\n",
    "            * ODS13 Acción por el clima\n",
    "            * ODS14 Vida submarina\n",
    "            * ODS15 Vida de ecosistemas terrestres\n",
    "            * ODS16 Paz, jusicia e instituciones sólidas\n",
    "            * ODS17 Alianzas para lograr los objetivos\n",
    "        '''\n",
    "    ),\n",
    "    dcc.Markdown(\n",
    "        '''*En el cuadro de texto podemos escribir el comentario deseado, ya sea una actividad,\n",
    "          una iniciativa, una protesta etc*''',style = {'fontSize': 20}),\n",
    "        \n",
    "    dcc.Textarea(\n",
    "        placeholder = 'Introduce la descripción de tu actividad',\n",
    "        id='textarea-state-example',\n",
    "        style={'width': '40%', 'height': 100},\n",
    "    ),\n",
    "    \n",
    "    html.Button('Analizar predicción', id='textarea-state-example-button'\n",
    "                , n_clicks=0\n",
    "                , style = {'font-size': '20px', 'color':'blue'}),\n",
    "    \n",
    "    html.Div(id='textarea-state-example-output'\n",
    "             , style={'whiteSpace': 'pre-line'})\n",
    "])\n",
    "\n",
    "@app.callback(\n",
    "    Output('textarea-state-example-output', 'children'),\n",
    "    Input('textarea-state-example-button', 'n_clicks'),\n",
    "    State('textarea-state-example', 'value')\n",
    ")\n",
    "    \n",
    "def identificador_ODS(n_clicks, value):\n",
    "    value1 = [value]\n",
    "    lengua = detect(value)\n",
    "    if lengua == 'ca':\n",
    "        vetorizar_catalan = TfidfVectorizer(max_features=3000, max_df=0.85)\n",
    "        frase_tfidf = vetorizar_catalan.transform(value1)\n",
    "        predicción = multilabel.inverse_transform(mlknn_classifier_catalan.predict(frase_tfidf))\n",
    "        if n_clicks>0:\n",
    "            return 'El ODS predicho es: \\n{}'.format(predicción)\n",
    "    else:\n",
    "        vetorizar_castellano = TfidfVectorizer(max_features=3000, max_df=0.85)\n",
    "        frase_tfidf = vetorizar_castellano.transform(value1)\n",
    "        predicción = multilabel.inverse_transform(mlknn_classifier_castellano.predict(frase_tfidf))\n",
    "        if n_clicks>0:\n",
    "            return 'El ODS predicho es: \\n{}'.format(predicción)\n",
    "\n",
    "\n",
    "if __name__ == '__main__':\n",
    "    app.run_server()"
   ]
  },
  {
   "cell_type": "code",
   "execution_count": 18,
   "metadata": {},
   "outputs": [],
   "source": [
    "def identificador_ODS(n_clicks, value):\n",
    "    value1 = [value]\n",
    "    lengua = detect(value)\n",
    "    if lengua == 'ca':\n",
    "        vetorizar_catalan = TfidfVectorizer(max_features=3000, max_df=0.7)\n",
    "        frase_tfidf = vetorizar_catalan.transform(value1)\n",
    "        predicción = multilabel.inverse_transform(mlknn_classifier_catalan.predict(frase_tfidf))\n",
    "        if n_clicks>0:\n",
    "            return 'El ODS predicho es: \\n{}'.format(predicción)\n",
    "    else:\n",
    "        vetorizar_castellano = TfidfVectorizer(max_features=3000, max_df=0.7)\n",
    "        frase_tfidf = vetorizar_castellano.transform(value1)\n",
    "        predicción = multilabel.inverse_transform(mlknn_classifier_castellano.predict(frase_tfidf))\n",
    "        if n_clicks>0:\n",
    "            return 'El ODS predicho es: \\n{}'.format(predicción)\n"
   ]
  },
  {
   "cell_type": "code",
   "execution_count": 19,
   "metadata": {},
   "outputs": [
    {
     "ename": "NotFittedError",
     "evalue": "The TF-IDF vectorizer is not fitted",
     "output_type": "error",
     "traceback": [
      "\u001b[1;31m---------------------------------------------------------------------------\u001b[0m",
      "\u001b[1;31mNotFittedError\u001b[0m                            Traceback (most recent call last)",
      "\u001b[1;32m<ipython-input-19-ff9114f30636>\u001b[0m in \u001b[0;36m<module>\u001b[1;34m\u001b[0m\n\u001b[1;32m----> 1\u001b[1;33m \u001b[0midentificador_ODS\u001b[0m\u001b[1;33m(\u001b[0m\u001b[1;36m1\u001b[0m\u001b[1;33m,\u001b[0m \u001b[1;34m\"vamos al comedor social\"\u001b[0m\u001b[1;33m)\u001b[0m\u001b[1;33m\u001b[0m\u001b[1;33m\u001b[0m\u001b[0m\n\u001b[0m",
      "\u001b[1;32m<ipython-input-18-77c43cf8309e>\u001b[0m in \u001b[0;36midentificador_ODS\u001b[1;34m(n_clicks, value)\u001b[0m\n\u001b[0;32m     10\u001b[0m     \u001b[1;32melse\u001b[0m\u001b[1;33m:\u001b[0m\u001b[1;33m\u001b[0m\u001b[1;33m\u001b[0m\u001b[0m\n\u001b[0;32m     11\u001b[0m         \u001b[0mvetorizar_castellano\u001b[0m \u001b[1;33m=\u001b[0m \u001b[0mTfidfVectorizer\u001b[0m\u001b[1;33m(\u001b[0m\u001b[0mmax_features\u001b[0m\u001b[1;33m=\u001b[0m\u001b[1;36m3000\u001b[0m\u001b[1;33m,\u001b[0m \u001b[0mmax_df\u001b[0m\u001b[1;33m=\u001b[0m\u001b[1;36m0.7\u001b[0m\u001b[1;33m)\u001b[0m\u001b[1;33m\u001b[0m\u001b[1;33m\u001b[0m\u001b[0m\n\u001b[1;32m---> 12\u001b[1;33m         \u001b[0mfrase_tfidf\u001b[0m \u001b[1;33m=\u001b[0m \u001b[0mvetorizar_castellano\u001b[0m\u001b[1;33m.\u001b[0m\u001b[0mtransform\u001b[0m\u001b[1;33m(\u001b[0m\u001b[0mvalue1\u001b[0m\u001b[1;33m)\u001b[0m\u001b[1;33m\u001b[0m\u001b[1;33m\u001b[0m\u001b[0m\n\u001b[0m\u001b[0;32m     13\u001b[0m         \u001b[0mpredicción\u001b[0m \u001b[1;33m=\u001b[0m \u001b[0mmultilabel\u001b[0m\u001b[1;33m.\u001b[0m\u001b[0minverse_transform\u001b[0m\u001b[1;33m(\u001b[0m\u001b[0mmlknn_classifier_castellano\u001b[0m\u001b[1;33m.\u001b[0m\u001b[0mpredict\u001b[0m\u001b[1;33m(\u001b[0m\u001b[0mfrase_tfidf\u001b[0m\u001b[1;33m)\u001b[0m\u001b[1;33m)\u001b[0m\u001b[1;33m\u001b[0m\u001b[1;33m\u001b[0m\u001b[0m\n\u001b[0;32m     14\u001b[0m         \u001b[1;32mif\u001b[0m \u001b[0mn_clicks\u001b[0m\u001b[1;33m>\u001b[0m\u001b[1;36m0\u001b[0m\u001b[1;33m:\u001b[0m\u001b[1;33m\u001b[0m\u001b[1;33m\u001b[0m\u001b[0m\n",
      "\u001b[1;32m~\\Anaconda3\\lib\\site-packages\\sklearn\\feature_extraction\\text.py\u001b[0m in \u001b[0;36mtransform\u001b[1;34m(self, raw_documents, copy)\u001b[0m\n\u001b[0;32m   1870\u001b[0m             \u001b[0mTf\u001b[0m\u001b[1;33m-\u001b[0m\u001b[0midf\u001b[0m\u001b[1;33m-\u001b[0m\u001b[0mweighted\u001b[0m \u001b[0mdocument\u001b[0m\u001b[1;33m-\u001b[0m\u001b[0mterm\u001b[0m \u001b[0mmatrix\u001b[0m\u001b[1;33m.\u001b[0m\u001b[1;33m\u001b[0m\u001b[1;33m\u001b[0m\u001b[0m\n\u001b[0;32m   1871\u001b[0m         \"\"\"\n\u001b[1;32m-> 1872\u001b[1;33m         \u001b[0mcheck_is_fitted\u001b[0m\u001b[1;33m(\u001b[0m\u001b[0mself\u001b[0m\u001b[1;33m,\u001b[0m \u001b[0mmsg\u001b[0m\u001b[1;33m=\u001b[0m\u001b[1;34m'The TF-IDF vectorizer is not fitted'\u001b[0m\u001b[1;33m)\u001b[0m\u001b[1;33m\u001b[0m\u001b[1;33m\u001b[0m\u001b[0m\n\u001b[0m\u001b[0;32m   1873\u001b[0m \u001b[1;33m\u001b[0m\u001b[0m\n\u001b[0;32m   1874\u001b[0m         \u001b[1;31m# FIXME Remove copy parameter support in 0.24\u001b[0m\u001b[1;33m\u001b[0m\u001b[1;33m\u001b[0m\u001b[1;33m\u001b[0m\u001b[0m\n",
      "\u001b[1;32m~\\Anaconda3\\lib\\site-packages\\sklearn\\utils\\validation.py\u001b[0m in \u001b[0;36minner_f\u001b[1;34m(*args, **kwargs)\u001b[0m\n\u001b[0;32m     70\u001b[0m                           FutureWarning)\n\u001b[0;32m     71\u001b[0m         \u001b[0mkwargs\u001b[0m\u001b[1;33m.\u001b[0m\u001b[0mupdate\u001b[0m\u001b[1;33m(\u001b[0m\u001b[1;33m{\u001b[0m\u001b[0mk\u001b[0m\u001b[1;33m:\u001b[0m \u001b[0marg\u001b[0m \u001b[1;32mfor\u001b[0m \u001b[0mk\u001b[0m\u001b[1;33m,\u001b[0m \u001b[0marg\u001b[0m \u001b[1;32min\u001b[0m \u001b[0mzip\u001b[0m\u001b[1;33m(\u001b[0m\u001b[0msig\u001b[0m\u001b[1;33m.\u001b[0m\u001b[0mparameters\u001b[0m\u001b[1;33m,\u001b[0m \u001b[0margs\u001b[0m\u001b[1;33m)\u001b[0m\u001b[1;33m}\u001b[0m\u001b[1;33m)\u001b[0m\u001b[1;33m\u001b[0m\u001b[1;33m\u001b[0m\u001b[0m\n\u001b[1;32m---> 72\u001b[1;33m         \u001b[1;32mreturn\u001b[0m \u001b[0mf\u001b[0m\u001b[1;33m(\u001b[0m\u001b[1;33m**\u001b[0m\u001b[0mkwargs\u001b[0m\u001b[1;33m)\u001b[0m\u001b[1;33m\u001b[0m\u001b[1;33m\u001b[0m\u001b[0m\n\u001b[0m\u001b[0;32m     73\u001b[0m     \u001b[1;32mreturn\u001b[0m \u001b[0minner_f\u001b[0m\u001b[1;33m\u001b[0m\u001b[1;33m\u001b[0m\u001b[0m\n\u001b[0;32m     74\u001b[0m \u001b[1;33m\u001b[0m\u001b[0m\n",
      "\u001b[1;32m~\\Anaconda3\\lib\\site-packages\\sklearn\\utils\\validation.py\u001b[0m in \u001b[0;36mcheck_is_fitted\u001b[1;34m(estimator, attributes, msg, all_or_any)\u001b[0m\n\u001b[0;32m   1017\u001b[0m \u001b[1;33m\u001b[0m\u001b[0m\n\u001b[0;32m   1018\u001b[0m     \u001b[1;32mif\u001b[0m \u001b[1;32mnot\u001b[0m \u001b[0mattrs\u001b[0m\u001b[1;33m:\u001b[0m\u001b[1;33m\u001b[0m\u001b[1;33m\u001b[0m\u001b[0m\n\u001b[1;32m-> 1019\u001b[1;33m         \u001b[1;32mraise\u001b[0m \u001b[0mNotFittedError\u001b[0m\u001b[1;33m(\u001b[0m\u001b[0mmsg\u001b[0m \u001b[1;33m%\u001b[0m \u001b[1;33m{\u001b[0m\u001b[1;34m'name'\u001b[0m\u001b[1;33m:\u001b[0m \u001b[0mtype\u001b[0m\u001b[1;33m(\u001b[0m\u001b[0mestimator\u001b[0m\u001b[1;33m)\u001b[0m\u001b[1;33m.\u001b[0m\u001b[0m__name__\u001b[0m\u001b[1;33m}\u001b[0m\u001b[1;33m)\u001b[0m\u001b[1;33m\u001b[0m\u001b[1;33m\u001b[0m\u001b[0m\n\u001b[0m\u001b[0;32m   1020\u001b[0m \u001b[1;33m\u001b[0m\u001b[0m\n\u001b[0;32m   1021\u001b[0m \u001b[1;33m\u001b[0m\u001b[0m\n",
      "\u001b[1;31mNotFittedError\u001b[0m: The TF-IDF vectorizer is not fitted"
     ]
    }
   ],
   "source": [
    "\n",
    "identificador_ODS(1, \"vamos al comedor social\")"
   ]
  }
 ],
 "metadata": {
  "kernelspec": {
   "display_name": "Python 3",
   "language": "python",
   "name": "python3"
  },
  "language_info": {
   "codemirror_mode": {
    "name": "ipython",
    "version": 3
   },
   "file_extension": ".py",
   "mimetype": "text/x-python",
   "name": "python",
   "nbconvert_exporter": "python",
   "pygments_lexer": "ipython3",
   "version": "3.8.5"
  }
 },
 "nbformat": 4,
 "nbformat_minor": 4
}
